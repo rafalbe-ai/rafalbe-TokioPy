{
 "cells": [
  {
   "cell_type": "markdown",
   "metadata": {},
   "source": [
    "# Ejercicios Modulo 2. Tipos básicos\n",
    "\n",
    "Consideraciones a tener en cuenta: \n",
    "\n",
    "* Guardar este documento con el siguiente formato para su entrega: __M2_01_nombre_apellido1_apellido2__\n",
    "* Realizar los ejercicios con las herramientas vistas en las sesiones. Aún no hemos llegado a condicionales ni bucles\n",
    "* Comentar el código\n",
    "* Utilizar nombres de variables apropiados, si vais a guardar una nota, llamar a esa variable nota, no n o x"
   ]
  },
  {
   "cell_type": "markdown",
   "metadata": {},
   "source": [
    "## Ejercicios de tipos de variables básicos"
   ]
  },
  {
   "cell_type": "markdown",
   "metadata": {},
   "source": [
    "**1) Indica un ejemplo de un tipo de dato:**\n",
    "* entero\n",
    "* flotante\n",
    "* string\n",
    "* booleano"
   ]
  },
  {
   "cell_type": "code",
   "execution_count": 13,
   "metadata": {},
   "outputs": [
    {
     "name": "stdout",
     "output_type": "stream",
     "text": [
      "num_entero es una variable de tipo <class 'int'> que tiene el valor 5\n",
      "num_flotante es una variable de tipo <class 'float'> que tiene el valor 12.56\n",
      "cadena es una variable de tipo <class 'str'> que tiene el valor Me llamo Rafa\n",
      "var_booleana es una variable de tipo <class 'bool'> que tiene el valor True\n"
     ]
    }
   ],
   "source": [
    "num_entero=5\n",
    "num_flotante = 12.56\n",
    "cadena=\"Me llamo Rafa\"\n",
    "var_booleana = True\n",
    "print(f\"num_entero es una variable de tipo {type(num_entero)} que tiene el valor {num_entero}\")\n",
    "print(f\"num_flotante es una variable de tipo {type(num_flotante)} que tiene el valor {num_flotante}\")\n",
    "print(f\"cadena es una variable de tipo {type(cadena)} que tiene el valor {cadena}\")\n",
    "print(f\"var_booleana es una variable de tipo {type(var_booleana)} que tiene el valor {var_booleana}\")\n"
   ]
  },
  {
   "cell_type": "markdown",
   "metadata": {},
   "source": [
    "**2) Crea dos variables que se llamen nombre y apellido, en ellas introduce tu nombre y apellidos y luego prueba lo siguiente e indica el resultado:**\n",
    "\n",
    "```python      \n",
    "nombre + apellido\n",
    "nombre + apellido + \".\"\n",
    "nombre * 3\n",
    "``` "
   ]
  },
  {
   "cell_type": "code",
   "execution_count": 16,
   "metadata": {},
   "outputs": [
    {
     "name": "stdout",
     "output_type": "stream",
     "text": [
      "RafaAlbesa.\n",
      "RafaRafaRafa\n"
     ]
    }
   ],
   "source": [
    "nombre = \"Rafa\"\n",
    "apellido = \"Albesa\"\n",
    "print(nombre + apellido + \".\") #Imprime la concatenación del nombre, el apellido y el punto (Rafa Albesa.)\n",
    "print(nombre*3) #Repite mi nombre tres veces"
   ]
  },
  {
   "cell_type": "markdown",
   "metadata": {},
   "source": [
    "**3) Retoma el ejercicio anterior, crea una variable que se llame nombreCompleto que una tu nombre y tu apellido con un espacio en el medio. Sobre esta variable, ¿eres capaz a extraer tu nombre utilizando slicing?**"
   ]
  },
  {
   "cell_type": "code",
   "execution_count": 31,
   "metadata": {},
   "outputs": [
    {
     "name": "stdout",
     "output_type": "stream",
     "text": [
      "Rafa Albesa.\n",
      "Mi nombre completo es Rafa Albesa.\n",
      "Rafa\n",
      "Mi nombre de pila es Rafa.\n"
     ]
    }
   ],
   "source": [
    "#Opcion 1\n",
    "nombreCompleto = nombre + \" \" + apellido + \".\"\n",
    "print(nombreCompleto)\n",
    "#Opcion 2\n",
    "nombreCompleto2 =f\"Mi nombre completo es {nombre} {apellido}.\"\n",
    "print(nombreCompleto2)\n",
    "#Opcion 1\n",
    "miNombre = nombreCompleto[0:4]\n",
    "print(miNombre)\n",
    "#Opcion 2\n",
    "rango=slice(0,4)\n",
    "miNombre = nombreCompleto[rango]\n",
    "print(f\"Mi nombre de pila es {miNombre}.\")\n"
   ]
  }
 ],
 "metadata": {
  "anaconda-cloud": {},
  "kernelspec": {
   "display_name": "Python 3",
   "language": "python",
   "name": "python3"
  },
  "language_info": {
   "codemirror_mode": {
    "name": "ipython",
    "version": 3
   },
   "file_extension": ".py",
   "mimetype": "text/x-python",
   "name": "python",
   "nbconvert_exporter": "python",
   "pygments_lexer": "ipython3",
   "version": "3.12.0"
  }
 },
 "nbformat": 4,
 "nbformat_minor": 1
}
