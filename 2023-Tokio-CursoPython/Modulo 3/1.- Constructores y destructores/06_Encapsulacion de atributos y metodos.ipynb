{
 "cells": [
  {
   "cell_type": "markdown",
   "metadata": {},
   "source": [
    "# Encapsulación\n",
    "Consiste en denegar el acceso a los atributos y métodos internos de la clase desde el exterior.\n",
    "\n",
    "En Python no existe, pero se puede simular precediendo atributos y métodos con dos barras bajas __:"
   ]
  },
  {
   "cell_type": "code",
   "execution_count": 19,
   "metadata": {},
   "outputs": [
    {
     "ename": "NameError",
     "evalue": "name 'atributo_privado' is not defined",
     "output_type": "error",
     "traceback": [
      "\u001b[1;31m---------------------------------------------------------------------------\u001b[0m",
      "\u001b[1;31mNameError\u001b[0m                                 Traceback (most recent call last)",
      "Cell \u001b[1;32mIn[19], line 1\u001b[0m\n\u001b[1;32m----> 1\u001b[0m \u001b[38;5;28;01mclass\u001b[39;00m \u001b[38;5;21;01mEjemplo\u001b[39;00m:\n\u001b[0;32m      3\u001b[0m     __atributo_privado \u001b[38;5;241m=\u001b[39m \u001b[38;5;124m\"\u001b[39m\u001b[38;5;124mSoy un atributo inalcanzable desde fuera\u001b[39m\u001b[38;5;124m\"\u001b[39m\n\u001b[0;32m      5\u001b[0m     \u001b[38;5;66;03m#Getters\u001b[39;00m\n",
      "Cell \u001b[1;32mIn[19], line 11\u001b[0m, in \u001b[0;36mEjemplo\u001b[1;34m()\u001b[0m\n\u001b[0;32m      8\u001b[0m     \u001b[38;5;28mprint\u001b[39m(\u001b[38;5;124m\"\u001b[39m\u001b[38;5;124mSoy un método inalcanzable desde fuera\u001b[39m\u001b[38;5;124m\"\u001b[39m)\n\u001b[0;32m     10\u001b[0m \u001b[38;5;66;03m# Setters\u001b[39;00m\n\u001b[1;32m---> 11\u001b[0m \u001b[38;5;129m@atributo_privado\u001b[39m\u001b[38;5;241m.\u001b[39msetter\n\u001b[0;32m     12\u001b[0m \u001b[38;5;28;01mdef\u001b[39;00m \u001b[38;5;21matributo_privado\u001b[39m(\u001b[38;5;28mself\u001b[39m, texto):\n\u001b[0;32m     13\u001b[0m     \u001b[38;5;28mself\u001b[39m\u001b[38;5;241m.\u001b[39m__atributo_privado \u001b[38;5;241m=\u001b[39m texto\n\u001b[0;32m     15\u001b[0m \u001b[38;5;28;01mdef\u001b[39;00m \u001b[38;5;21mget_atributo_privado\u001b[39m(\u001b[38;5;28mself\u001b[39m):\n",
      "\u001b[1;31mNameError\u001b[0m: name 'atributo_privado' is not defined"
     ]
    }
   ],
   "source": [
    "class Ejemplo:\n",
    "    \n",
    "    __atributo_privado = \"Soy un atributo inalcanzable desde fuera\"\n",
    "    \n",
    "    def __metodo_privado(self):\n",
    "        print(\"Soy un método inalcanzable desde fuera\")   \n",
    "    def get_atributo_privado(self):\n",
    "        return self.__atributo_privado    \n",
    "# Programa principal (fuera de la clase Ejemplo)\n",
    "e = Ejemplo()"
   ]
  },
  {
   "cell_type": "code",
   "execution_count": 9,
   "metadata": {},
   "outputs": [
    {
     "name": "stdout",
     "output_type": "stream",
     "text": [
      "El valor es Rafa\n"
     ]
    }
   ],
   "source": [
    "e.escribe_atributo(\"Rafa\")\n",
    "print(f\"El valor es {e.get_atributo_privado()}\")\n"
   ]
  },
  {
   "cell_type": "code",
   "execution_count": null,
   "metadata": {},
   "outputs": [],
   "source": [
    "e.__atributo_privado"
   ]
  },
  {
   "cell_type": "code",
   "execution_count": null,
   "metadata": {},
   "outputs": [],
   "source": [
    "e.__metodo_privado()"
   ]
  },
  {
   "cell_type": "markdown",
   "metadata": {},
   "source": [
    "## Cómo acceder correctamente -> Getters y Setters\n",
    "Internamente la clase sí puede acceder a sus atributos y métodos encapsulados, el truco consiste en acceder a ellos a través de los GETTER y SETTER correspondiente para las variables y crear metodos publicos que realicen internamente la llamada a los metodos privados"
   ]
  },
  {
   "cell_type": "code",
   "execution_count": 15,
   "metadata": {},
   "outputs": [],
   "source": [
    "class Ejemplo:\n",
    "    __atributo_privado = \"Soy un atributo inalcanzable desde fuera\"\n",
    "\n",
    "    def __metodo_privado(self):\n",
    "        print(\"Soy un método inalcanzable desde fuera\")\n",
    "        \n",
    "    def metodo_publico(self):\n",
    "        return self.__metodo_privado()\n",
    "    \n",
    "    # Getters\n",
    "    @property\n",
    "    def atributo_privado(self):\n",
    "        print(\"ESTOY EN EL GETTER\")\n",
    "        return self.__atributo_privado\n",
    "\n",
    "    # Setters\n",
    "    @atributo_privado.setter\n",
    "    def atributo_privado(self, nuevoValor): \n",
    "        print(\"ESTOY EN EL SETTER\")\n",
    "        self.__atributo_privado = nuevoValor\n",
    "    \n",
    "# Programa principal (fuera de la clase Ejemplo)\n",
    "e = Ejemplo()"
   ]
  },
  {
   "cell_type": "code",
   "execution_count": null,
   "metadata": {},
   "outputs": [],
   "source": [
    "class Ejemplo2:\n",
    "    __atributo_oculto = \"Este es un atributo oculto\".\n",
    "    \n",
    "    atributo_publico = \"Este es un atributo público\"\n",
    "    \n",
    "    def metodo_publico(self):\n",
    "        print(\"Esto lo devuelve un método público\")\n",
    "    \n",
    "    @property\n",
    "    def atributo_oculto(self):\n",
    "        return self.__atributo_oculto\n",
    "    \n",
    "    @atributo_oculto.setter\n",
    "    def atributo_oculto(self, valor):\n",
    "        self.__atributo_oculto = valor\n",
    "        print(\"Se ha modificado el atributo oculto\")\n",
    "        \n",
    "    "
   ]
  },
  {
   "cell_type": "code",
   "execution_count": 3,
   "metadata": {},
   "outputs": [
    {
     "name": "stdout",
     "output_type": "stream",
     "text": [
      "ESTOY EN EL GETTER\n",
      "Soy un atributo inalcanzable desde fuera\n"
     ]
    }
   ],
   "source": [
    "# Probamos a acceder a un atributo y observamos que se hace a traves del GETTER\n",
    "print(e.atributo_privado)"
   ]
  },
  {
   "cell_type": "code",
   "execution_count": 4,
   "metadata": {},
   "outputs": [
    {
     "name": "stdout",
     "output_type": "stream",
     "text": [
      "ESTOY EN EL SETTER\n"
     ]
    }
   ],
   "source": [
    "# Probamos a modificar un atributo y observamos que se hace a traves del SETTER\n",
    "e.atributo_privado = \"hola mundo\""
   ]
  },
  {
   "cell_type": "code",
   "execution_count": 5,
   "metadata": {},
   "outputs": [
    {
     "name": "stdout",
     "output_type": "stream",
     "text": [
      "ESTOY EN EL GETTER\n",
      "hola mundo\n"
     ]
    }
   ],
   "source": [
    "print(e.atributo_privado)"
   ]
  },
  {
   "cell_type": "code",
   "execution_count": null,
   "metadata": {},
   "outputs": [],
   "source": [
    "e.__metodo_privado()"
   ]
  },
  {
   "cell_type": "code",
   "execution_count": null,
   "metadata": {},
   "outputs": [],
   "source": [
    "# Por ultimo comprobamos que podemos acceder al metodo privado a traves del metodo publico\n",
    "e.metodo_publico()"
   ]
  },
  {
   "cell_type": "markdown",
   "metadata": {},
   "source": [
    "Los GETTER y los SETTER no se tienen porque llamar igual que sus variables, pero __SI ES RECOMENDABLE__"
   ]
  },
  {
   "cell_type": "code",
   "execution_count": 6,
   "metadata": {},
   "outputs": [],
   "source": [
    "class Ejemplo:\n",
    "    __atributo_privado = \"Soy un atributo inalcanzable desde fuera\"\n",
    "\n",
    "    def __metodo_privado(self):\n",
    "        print(\"Soy un método inalcanzable desde fuera\")\n",
    "        \n",
    "    def metodo_publico(self):\n",
    "        return self.__metodo_privado()\n",
    "    \n",
    "    # Getters.\n",
    "    @property\n",
    "    def ver_valor(self):\n",
    "        print(\"ESTOY EN EL GETTER\")\n",
    "        return self.__atributo_privado\n",
    "\n",
    "     # Setters\n",
    "    @ver_valor.setter\n",
    "    def ver_valor(self, nuevoValor):\n",
    "        print(\"ESTOY EN EL SETTER\")\n",
    "        self.__atributo_privado = nuevoValor\n",
    "    \n",
    "# Programa principal (fuera de la clase Ejemplo)\n",
    "e = Ejemplo()"
   ]
  },
  {
   "cell_type": "code",
   "execution_count": 7,
   "metadata": {},
   "outputs": [
    {
     "ename": "AttributeError",
     "evalue": "'Ejemplo' object has no attribute 'atributo_privado'",
     "output_type": "error",
     "traceback": [
      "\u001b[1;31m---------------------------------------------------------------------------\u001b[0m",
      "\u001b[1;31mAttributeError\u001b[0m                            Traceback (most recent call last)",
      "\u001b[1;32m~\\AppData\\Local\\Temp/ipykernel_18708/3419013042.py\u001b[0m in \u001b[0;36m<module>\u001b[1;34m\u001b[0m\n\u001b[0;32m      1\u001b[0m \u001b[1;31m# Probamos a acceder a un atributo como antes Y VEMOS QUE DA ERROR\u001b[0m\u001b[1;33m\u001b[0m\u001b[1;33m\u001b[0m\u001b[0m\n\u001b[1;32m----> 2\u001b[1;33m \u001b[0mprint\u001b[0m\u001b[1;33m(\u001b[0m\u001b[0me\u001b[0m\u001b[1;33m.\u001b[0m\u001b[0matributo_privado\u001b[0m\u001b[1;33m)\u001b[0m\u001b[1;33m\u001b[0m\u001b[1;33m\u001b[0m\u001b[0m\n\u001b[0m",
      "\u001b[1;31mAttributeError\u001b[0m: 'Ejemplo' object has no attribute 'atributo_privado'"
     ]
    }
   ],
   "source": [
    "# Probamos a acceder a un atributo como antes Y VEMOS QUE DA ERROR\n",
    "print(e.atributo_privado)"
   ]
  },
  {
   "cell_type": "code",
   "execution_count": 8,
   "metadata": {},
   "outputs": [
    {
     "name": "stdout",
     "output_type": "stream",
     "text": [
      "ESTOY EN EL GETTER\n",
      "Soy un atributo inalcanzable desde fuera\n"
     ]
    }
   ],
   "source": [
    "# Probamos a acceder al atributo con el nombre que hemos puesto en el GETTER\n",
    "print(e.ver_valor)"
   ]
  },
  {
   "cell_type": "markdown",
   "metadata": {},
   "source": [
    "Como se ve, hemos asignado el nombre ver_valor al getter de la variable atributo_privado. Ha funcionado, pero ahora necesitamos recordar dos nombres de variable para poder acceder a una ... Por eso se utiliza el mismo nombre.\n",
    "<br>Lo que es importante, es que __el nombre del método setter tiene que ser el mismo que el de su correspondiente getter__ "
   ]
  },
  {
   "cell_type": "markdown",
   "metadata": {},
   "source": [
    "## Ejemplo con clase Persona"
   ]
  },
  {
   "cell_type": "code",
   "execution_count": 16,
   "metadata": {},
   "outputs": [
    {
     "name": "stdout",
     "output_type": "stream",
     "text": [
      "ESTOY EN EL GETTER DE NOMBRE\n",
      "Carlos\n",
      "ESTOY EN EL GETTER DE EDAD\n",
      "30\n",
      "ESTOY EN EL GETTER DE NOMBRE\n",
      "ESTOY EN EL GETTER DE EDAD\n",
      "Persona con nombre Carlos y edad de 30 años\n"
     ]
    }
   ],
   "source": [
    "class Persona:\n",
    "    \n",
    "    def __init__(self, nombre, edad):\n",
    "        self.__nombre = nombre\n",
    "        self.__edad = edad\n",
    "\n",
    "    # Getters\n",
    "    @property\n",
    "    def nombre(self):\n",
    "        print(\"ESTOY EN EL GETTER DE NOMBRE\")\n",
    "        return self.__nombre\n",
    "\n",
    "     # Setters\n",
    "    @nombre.setter\n",
    "    def nombre(self, nuevoNombre):\n",
    "        print(\"ESTOY EN EL SETTER DE NOMBRE\")\n",
    "        self.__nombre = nuevoNombre\n",
    "        \n",
    "    @property\n",
    "    def edad(self):\n",
    "        print(\"ESTOY EN EL GETTER DE EDAD\")\n",
    "        return self.__edad\n",
    "    \n",
    "    @edad.setter\n",
    "    def edad(self, nuevaEdad):\n",
    "        print(\"ESTOY EN EL SETTER DE EDAD\")\n",
    "        self.__edad = nuevaEdad\n",
    "        \n",
    "    def __str__(self):\n",
    "        #return \"Persona con nombre {} y edad de {} años\".format(self.__nombre, self.__edad)\n",
    "        return \"Persona con nombre {} y edad de {} años\".format(self.nombre, self.edad)\n",
    "    \n",
    "p1 = Persona(nombre = \"Carlos\", edad = 30)\n",
    "print(p1.nombre)\n",
    "print(p1.edad)\n",
    "print(p1)"
   ]
  },
  {
   "cell_type": "code",
   "execution_count": 12,
   "metadata": {},
   "outputs": [
    {
     "name": "stdout",
     "output_type": "stream",
     "text": [
      "ESTOY EN EL SETTER DE NOMBRE\n"
     ]
    }
   ],
   "source": [
    "p1.nombre = \"Cristian\""
   ]
  },
  {
   "cell_type": "code",
   "execution_count": 13,
   "metadata": {},
   "outputs": [
    {
     "name": "stdout",
     "output_type": "stream",
     "text": [
      "ESTOY EN EL GETTER DE NOMBRE\n",
      "Cristian\n"
     ]
    }
   ],
   "source": [
    "print(p1.nombre)"
   ]
  },
  {
   "cell_type": "code",
   "execution_count": 14,
   "metadata": {},
   "outputs": [
    {
     "ename": "AttributeError",
     "evalue": "'Persona' object has no attribute '__nombre'",
     "output_type": "error",
     "traceback": [
      "\u001b[1;31m---------------------------------------------------------------------------\u001b[0m",
      "\u001b[1;31mAttributeError\u001b[0m                            Traceback (most recent call last)",
      "\u001b[1;32m~\\AppData\\Local\\Temp/ipykernel_18708/99928823.py\u001b[0m in \u001b[0;36m<module>\u001b[1;34m\u001b[0m\n\u001b[0;32m      1\u001b[0m \u001b[1;31m# Como hemos visto en los ejemplos anteriores, hemos accedido a nuestros atributos privados a través de los métodos\u001b[0m\u001b[1;33m\u001b[0m\u001b[1;33m\u001b[0m\u001b[0m\n\u001b[0;32m      2\u001b[0m \u001b[1;31m# GETTER y SETTER. Si intentasemos acceder directamente a los atributos (__nombre o __edad) nos daría error como vemos ahora:\u001b[0m\u001b[1;33m\u001b[0m\u001b[1;33m\u001b[0m\u001b[0m\n\u001b[1;32m----> 3\u001b[1;33m \u001b[0mprint\u001b[0m\u001b[1;33m(\u001b[0m\u001b[0mp1\u001b[0m\u001b[1;33m.\u001b[0m\u001b[0m__nombre\u001b[0m\u001b[1;33m)\u001b[0m\u001b[1;33m\u001b[0m\u001b[1;33m\u001b[0m\u001b[0m\n\u001b[0m",
      "\u001b[1;31mAttributeError\u001b[0m: 'Persona' object has no attribute '__nombre'"
     ]
    }
   ],
   "source": [
    "# Como hemos visto en los ejemplos anteriores, hemos accedido a nuestros atributos privados a través de los métodos \n",
    "# GETTER y SETTER. Si intentasemos acceder directamente a los atributos (__nombre o __edad) nos daría error como vemos ahora:\n",
    "print(p1.__nombre)"
   ]
  },
  {
   "cell_type": "markdown",
   "metadata": {},
   "source": [
    "### getattr y setattr"
   ]
  },
  {
   "cell_type": "code",
   "execution_count": 20,
   "metadata": {},
   "outputs": [
    {
     "ename": "NameError",
     "evalue": "name 'Persona' is not defined",
     "output_type": "error",
     "traceback": [
      "\u001b[1;31m---------------------------------------------------------------------------\u001b[0m",
      "\u001b[1;31mNameError\u001b[0m                                 Traceback (most recent call last)",
      "Cell \u001b[1;32mIn[20], line 4\u001b[0m\n\u001b[0;32m      1\u001b[0m \u001b[38;5;66;03m# Forma alternativa de invocar a los getter y setter\u001b[39;00m\n\u001b[0;32m      2\u001b[0m \u001b[38;5;66;03m# Esta forma es más clásica (más antigua), pero se sigue utilizando\u001b[39;00m\n\u001b[0;32m      3\u001b[0m \u001b[38;5;66;03m# IMPORTANTE. En la definición y creación de los GETTER y SETTER de la clase no hay ningun cambio\u001b[39;00m\n\u001b[1;32m----> 4\u001b[0m p1 \u001b[38;5;241m=\u001b[39m \u001b[43mPersona\u001b[49m(\u001b[38;5;124m\"\u001b[39m\u001b[38;5;124mCarlos\u001b[39m\u001b[38;5;124m\"\u001b[39m, \u001b[38;5;241m30\u001b[39m)\n\u001b[0;32m      5\u001b[0m \u001b[38;5;28mprint\u001b[39m(\u001b[38;5;28mgetattr\u001b[39m(p1, \u001b[38;5;124m\"\u001b[39m\u001b[38;5;124mnombre\u001b[39m\u001b[38;5;124m\"\u001b[39m)) \u001b[38;5;66;03m# Solicitamos el nombre\u001b[39;00m\n\u001b[0;32m      6\u001b[0m \u001b[38;5;28msetattr\u001b[39m(p1, \u001b[38;5;124m\"\u001b[39m\u001b[38;5;124mnombre\u001b[39m\u001b[38;5;124m\"\u001b[39m, \u001b[38;5;124m\"\u001b[39m\u001b[38;5;124mCristian\u001b[39m\u001b[38;5;124m\"\u001b[39m) \u001b[38;5;66;03m# Cambiamos el nombre de Carlos a Cristian\u001b[39;00m\n",
      "\u001b[1;31mNameError\u001b[0m: name 'Persona' is not defined"
     ]
    }
   ],
   "source": [
    "# Forma alternativa de invocar a los getter y setter\n",
    "# Esta forma es más clásica (más antigua), pero se sigue utilizando\n",
    "# IMPORTANTE. En la definición y creación de los GETTER y SETTER de la clase no hay ningun cambio\n",
    "p1 = Persona(\"Carlos\", 30)\n",
    "print(getattr(p1, \"nombre\")) # Solicitamos el nombre\n",
    "setattr(p1, \"nombre\", \"Cristian\") # Cambiamos el nombre de Carlos a Cristian\n",
    "print(getattr(p1, \"nombre\")) # Solicitamos el nombre"
   ]
  }
 ],
 "metadata": {
  "kernelspec": {
   "display_name": "Python 3 (ipykernel)",
   "language": "python",
   "name": "python3"
  },
  "language_info": {
   "codemirror_mode": {
    "name": "ipython",
    "version": 3
   },
   "file_extension": ".py",
   "mimetype": "text/x-python",
   "name": "python",
   "nbconvert_exporter": "python",
   "pygments_lexer": "ipython3",
   "version": "3.10.10"
  }
 },
 "nbformat": 4,
 "nbformat_minor": 1
}
