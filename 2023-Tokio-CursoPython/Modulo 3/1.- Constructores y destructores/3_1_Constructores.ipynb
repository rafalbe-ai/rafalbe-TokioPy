{
 "cells": [
  {
   "cell_type": "code",
   "execution_count": 8,
   "metadata": {},
   "outputs": [
    {
     "name": "stdout",
     "output_type": "stream",
     "text": [
      "La galleta es de sabor canela\n"
     ]
    }
   ],
   "source": [
    "class galleta():\n",
    "    pass    \n",
    "\n",
    "galleta1 = galleta()\n",
    "galleta1.sabor = \"canela\"\n",
    "print(f\"La galleta es de sabor {galleta1.sabor}\")"
   ]
  },
  {
   "cell_type": "code",
   "execution_count": 35,
   "metadata": {},
   "outputs": [
    {
     "name": "stdout",
     "output_type": "stream",
     "text": [
      "Ha creado usted una galleta de naranja con la forma redonda\n",
      "La galleta es de chocolate: False\n",
      "Descholocateando la galleta\n",
      "La galleta es de chocolate: True\n",
      "Chocolateando la galleta\n",
      "La galleta es de chocolate: False\n",
      "No se puede crear una galleta sin forma o sabor\n"
     ]
    }
   ],
   "source": [
    "class Galleta():\n",
    "    chocolate = False\n",
    "    def __init__(self, sabor = None, forma = None):\n",
    "        if sabor is None or forma is None:\n",
    "            print(\"No se puede crear una galleta sin forma o sabor\")\n",
    "        else:\n",
    "            self.sabor = sabor\n",
    "            self.forma = forma\n",
    "            print(f\"Ha creado usted una galleta de {self.sabor} con la forma {self.forma}\")\n",
    "    \n",
    "    def chocolatear(self):\n",
    "        self.chocolate = not self.chocolate\n",
    "        if self.chocolate:\n",
    "            print(\"Descholocateando la galleta\")\n",
    "        else:\n",
    "            print(\"Chocolateando la galleta\")\n",
    "        \n",
    "    def tiene_chocolate(self):\n",
    "        if self.chocolate:\n",
    "            print(\"La galleta es chocolateada\")\n",
    "        else:\n",
    "            print(\"La galleta es no chocolateada\")\n",
    "            \n",
    "    def __del__(self):\n",
    "        print(\"Ha borrado la galleta\")\n",
    "    \n",
    "galleta1 = Galleta('naranja', 'redonda')\n",
    "print(f\"La galleta es de chocolate: {galleta1.chocolate}\")\n",
    "galleta1.chocolatear()\n",
    "print(f\"La galleta es de chocolate: {galleta1.chocolate}\")\n",
    "galleta1.chocolatear()\n",
    "print(f\"La galleta es de chocolate: {galleta1.chocolate}\")\n",
    "\n",
    "galleta2 = Galleta()\n"
   ]
  },
  {
   "cell_type": "code",
   "execution_count": 76,
   "metadata": {},
   "outputs": [],
   "source": [
    "class Pelicula():\n",
    "    def __init__(self, titulo = None, duracion = None, lanzamiento = None):\n",
    "        if titulo is None or duracion is None or lanzamiento is None:\n",
    "            print(\"Debe pasar todos los parámetros para poder crear la película (titulo, duracion y lanzamiento)\")\n",
    "        else:\n",
    "            self.titulo = titulo\n",
    "            self.duracion = duracion\n",
    "            self.lanzamiento = lanzamiento\n",
    "            print(f\"Se ha creado la películoa {self.titulo}\")\n",
    "    \n",
    "    def __del__(self):\n",
    "        print(f\"Ha elimininado la película {self.titulo}\")\n",
    "        \n",
    "    def __str__(self):\n",
    "            return f\"Película {self.titulo}, de duración {self.duracion} y lanzada en {self.lanzamiento} (Overriden str function)\"\n",
    "    \n",
    "    def mostrardatos(self):\n",
    "            return f\"Película {self.titulo}, de duración {self.duracion} y lanzada en {self.lanzamiento} (Specific mostrardatos function)\"\n",
    "        "
   ]
  },
  {
   "cell_type": "code",
   "execution_count": 78,
   "metadata": {},
   "outputs": [
    {
     "name": "stdout",
     "output_type": "stream",
     "text": [
      "Se ha creado la películoa Full monty\n",
      "Los datos de la película son: {'titulo': 'Full monty', 'duracion': 102, 'lanzamiento': 1976}\n",
      "Película Full monty, de duración 102 y lanzada en 1976 (Overriden str function)\n",
      "Película Full monty, de duración 102 y lanzada en 1976 (Specific mostrardatos function)\n",
      "película es una instancia de Pelicula: True\n",
      "película es una instancia de Galleta: False\n",
      "pelicula tiene el atributo 'titulo': True\n",
      "pelicula tiene el atributo 'formato': False\n",
      "Ha elimininado la película Full monty\n"
     ]
    }
   ],
   "source": [
    "pelicula = Pelicula(\"Full monty\", 102, 1976)\n",
    "print(f\"Los datos de la película son: {pelicula.__dict__}\")\n",
    "print(pelicula)\n",
    "print(pelicula.mostrardatos())\n",
    "print(f\"película es una instancia de Pelicula: {isinstance(pelicula, Pelicula)}\")\n",
    "print(f\"película es una instancia de Galleta: {isinstance(pelicula, Galleta)}\")\n",
    "print(f\"pelicula tiene el atributo 'titulo': {hasattr(pelicula, \"titulo\")}\")\n",
    "print(f\"pelicula tiene el atributo 'formato': {hasattr(pelicula, \"formato\")}\")\n",
    "\n",
    "del pelicula"
   ]
  }
 ],
 "metadata": {
  "kernelspec": {
   "display_name": "Python 3",
   "language": "python",
   "name": "python3"
  },
  "language_info": {
   "codemirror_mode": {
    "name": "ipython",
    "version": 3
   },
   "file_extension": ".py",
   "mimetype": "text/x-python",
   "name": "python",
   "nbconvert_exporter": "python",
   "pygments_lexer": "ipython3",
   "version": "3.12.0"
  }
 },
 "nbformat": 4,
 "nbformat_minor": 2
}
