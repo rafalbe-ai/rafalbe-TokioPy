{
 "cells": [
  {
   "cell_type": "code",
   "execution_count": null,
   "metadata": {},
   "outputs": [],
   "source": []
  },
  {
   "cell_type": "markdown",
   "metadata": {},
   "source": [
    "# Módulo 3. Apartado 4 - Pruebas Herencia"
   ]
  },
  {
   "cell_type": "markdown",
   "metadata": {},
   "source": [
    "## Sin Herencia"
   ]
  },
  {
   "cell_type": "code",
   "execution_count": 5,
   "metadata": {},
   "outputs": [
    {
     "data": {
      "text/plain": [
       "'ADORNO'"
      ]
     },
     "execution_count": 5,
     "metadata": {},
     "output_type": "execute_result"
    }
   ],
   "source": [
    "class Producto:\n",
    "    def __init__(self, referencia, tipo, nombre, pvp, descripcion, productor = None, distribuidor = None, isbn = None, autor = None):\n",
    "        self.referencia = referencia\n",
    "        self.tipo = tipo\n",
    "        self.nombre = nombre\n",
    "        self.pvp = pvp\n",
    "        self.descripcion = descripcion\n",
    "        self.productor = productor\n",
    "        self.distribuidor = distribuidor\n",
    "        self.isbn = isbn\n",
    "        self.autor = autor\n",
    "        \n",
    "adorno = Producto('0001','ADORNO', 'Jarrón de sobremesa', 20, 'Jarron para poner encima de una mesa')\n",
    "adorno\n",
    "adorno.tipo\n"
   ]
  },
  {
   "cell_type": "markdown",
   "metadata": {},
   "source": [
    "## Con Herencia"
   ]
  },
  {
   "cell_type": "code",
   "execution_count": null,
   "metadata": {},
   "outputs": [],
   "source": [
    "class Producto1:\n",
    "    #atributo privado para control\n",
    "    __id_control = 0\n",
    "    #Constructor de la clase\n",
    "    def __init__(self, referencia, nombre, pvp, descripcion):\n",
    "        self.referencia = referencia\n",
    "        self.nombre = nombre\n",
    "        self.pvp = pvp\n",
    "        self.descripcion = descripcion\n",
    "    \n",
    "        #Modificamos el método __str__() para que muestre lo \n",
    "    def __str__(self):\n",
    "        return f\"Producto con referencia:  {self.referencia}, es un {self.nombre}, de {self.pvp} €. Descripción:  {self.descripcion}\"\n",
    "    \n",
    "    #Getters de la clase\n",
    "    @property\n",
    "    def id_control(self):\n",
    "        return self.__id_control\n",
    "    \n",
    "    #Setters de la clase\n",
    "    @id_control.setter\n",
    "    def id_control(self,valor):\n",
    "        self.__id_control = valor\n",
    "    "
   ]
  },
  {
   "cell_type": "code",
   "execution_count": null,
   "metadata": {},
   "outputs": [],
   "source": []
  }
 ],
 "metadata": {
  "kernelspec": {
   "display_name": "Python 3",
   "language": "python",
   "name": "python3"
  },
  "language_info": {
   "codemirror_mode": {
    "name": "ipython",
    "version": 3
   },
   "file_extension": ".py",
   "mimetype": "text/x-python",
   "name": "python",
   "nbconvert_exporter": "python",
   "pygments_lexer": "ipython3",
   "version": "0.0.0"
  }
 },
 "nbformat": 4,
 "nbformat_minor": 2
}
