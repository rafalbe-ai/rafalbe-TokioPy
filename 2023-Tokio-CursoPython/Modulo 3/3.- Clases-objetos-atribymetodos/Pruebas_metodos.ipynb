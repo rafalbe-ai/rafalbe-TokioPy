{
 "cells": [
  {
   "cell_type": "code",
   "execution_count": 76,
   "metadata": {},
   "outputs": [],
   "source": []
  },
  {
   "cell_type": "markdown",
   "metadata": {},
   "source": []
  },
  {
   "cell_type": "markdown",
   "metadata": {},
   "source": [
    "# Pruebas de clases, objetos, métodos y atributos."
   ]
  },
  {
   "cell_type": "markdown",
   "metadata": {},
   "source": [
    "## Ejemplo de clase que contiene a otras clases"
   ]
  },
  {
   "cell_type": "markdown",
   "metadata": {},
   "source": []
  },
  {
   "cell_type": "code",
   "execution_count": 89,
   "metadata": {},
   "outputs": [],
   "source": [
    "\n",
    "class Pelicula:\n",
    "    \"\"\"Clase película que representa una película.\n",
    "        Atributos: Titulo, duración y lanzamiento.\n",
    "        Métodos: Constructor y __str__(self) modificado\"\"\"\n",
    "    #Constructor\n",
    "    def __init__(self, titulo, duracion, lanzamiento):\n",
    "        self.titulo = titulo\n",
    "        self.duracion = duracion\n",
    "        self.lanzamiento = lanzamiento\n",
    "        print(f\"Se ha creado la película {self.titulo}\")\n",
    "    \n",
    "    #Documentador de la clase para el uso de print(objeto)    \n",
    "    def __str__(self):\n",
    "        return(f\"{self.titulo}, {self.lanzamiento} ({self.duracion} minutos)\")"
   ]
  },
  {
   "cell_type": "code",
   "execution_count": null,
   "metadata": {},
   "outputs": [],
   "source": [
    "\"\"\"Clase catálogo que representa un catálogo de películas. Almacena objetos de tipo película en una lista\n",
    "atributos: Ninguno\n",
    "Métodos:\n",
    "    __init__()\n",
    "    agregar_película --> Añade un objeto de tipo película a la lista de películas del catálogo.\n",
    "    mostrar(self)---> Muetra las películas que contiene el catálogo.\"\"\"\n",
    "class Catalogo:\n",
    "    #El catálog estará contenido en una lista de objetos de tipo pelicula\n",
    "    peliculas = []\n",
    "    \n",
    "    def __init__(self):\n",
    "        self.peliculas = []\n",
    "        print(\"Se ha creado el catálogo con una lista vacía\")\n",
    "    #Método para agregar una película al catálogo\n",
    "    def agregar_pelicula(self, p):\n",
    "        if self.peliculas == []:\n",
    "            self.peliculas = [p]\n",
    "        else:\n",
    "            self.peliculas.append(p)\n",
    "    def mostrar(self):\n",
    "        for p in self.peliculas:\n",
    "            print(p)"
   ]
  },
  {
   "cell_type": "code",
   "execution_count": null,
   "metadata": {},
   "outputs": [
    {
     "name": "stdout",
     "output_type": "stream",
     "text": [
      "Se ha creado la película Pelicula 1\n",
      "Se ha creado la película Pelicula 2\n",
      "Se ha creado la película Pelicula 3\n",
      "Se ha creado el catálogo con una lista vacía\n",
      "Pelicula 1, 1 (1 minutos)\n",
      "Pelicula 1, 1 (1 minutos)\n",
      "Pelicula 2, 2 (2 minutos)\n",
      "Pelicula 1, 1 (1 minutos)\n",
      "Pelicula 2, 2 (2 minutos)\n",
      "Pelicula 3, 3 (3 minutos)\n",
      "Se ha creado la película Pelicula 4\n",
      "Se ha creado la película Pelicula 5\n",
      "Se ha creado la película Pelicula 6\n",
      "Pelicula 1, 1 (1 minutos)\n",
      "Pelicula 2, 2 (2 minutos)\n",
      "Pelicula 3, 3 (3 minutos)\n",
      "Pelicula 4, 4 (4 minutos)\n",
      "Pelicula 5, 5 (5 minutos)\n",
      "Pelicula 6, 6 (6 minutos)\n"
     ]
    }
   ],
   "source": [
    "pelicula1 = Pelicula('Pelicula 1', 1, 1)\n",
    "pelicula2 = Pelicula('Pelicula 2', 2, 2)\n",
    "pelicula3 = Pelicula('Pelicula 3', 3, 3)\n",
    "catalogo = Catalogo()\n",
    "catalogo.agregar_pelicula(pelicula1)\n",
    "catalogo.agregar_pelicula(pelicula2)\n",
    "catalogo.agregar_pelicula(pelicula3)\n",
    "pelicula4 = Pelicula('Pelicula 4', 4, 4)\n",
    "pelicula5 = Pelicula('Pelicula 5', 5, 5)\n",
    "pelicula6 = Pelicula('Pelicula 6', 6, 6)\n",
    "catalogo.agregar_pelicula(pelicula4)\n",
    "catalogo.agregar_pelicula(pelicula5)\n",
    "catalogo.agregar_pelicula(pelicula6)\n",
    "catalogo.mostrar()\n"
   ]
  },
  {
   "cell_type": "markdown",
   "metadata": {},
   "source": [
    "## Getters y Setters de una clase"
   ]
  },
  {
   "cell_type": "code",
   "execution_count": 3,
   "metadata": {},
   "outputs": [],
   "source": [
    "class Ejemplo:\n",
    "    __atributo_privado = \"Este es un atributo privado de la clase\"\n",
    "    \n",
    "    def __metodo_privado(self):\n",
    "        print(\"Este es un método privado de la clase\")\n",
    "    \n",
    "    def metodo_publico():\n",
    "        print(\"Esto es un método público\")\n",
    "        \n",
    "    #Getters de la clase.\n",
    "    @property\n",
    "    def atributo_privado(self):\n",
    "        print(\"Estoy en un getter y el valor del atributo privado es: \")\n",
    "        return self.__atributo_privado\n",
    "    \n",
    "    #Setters de la clase\n",
    "    @atributo_privado.setter\n",
    "    def atributo_privado(self, valor):\n",
    "        self.__atributo_privado = valor\n",
    "        print(f\"El nuevo valor que el setter ha asignado al atributo privado es {self.__atributo_privado}\")"
   ]
  },
  {
   "cell_type": "code",
   "execution_count": 5,
   "metadata": {},
   "outputs": [
    {
     "name": "stdout",
     "output_type": "stream",
     "text": [
      "Estoy en un getter y el valor del atributo privado es: \n",
      "Este es un atributo privado de la clase\n",
      "El nuevo valor que el setter ha asignado al atributo privado es Nuevo valor\n",
      "Estoy en un getter y el valor del atributo privado es: \n",
      "Nuevo valor\n"
     ]
    }
   ],
   "source": [
    "e= Ejemplo()\n",
    "print(e.atributo_privado)\n",
    "e.atributo_privado = \"Nuevo valor\"\n",
    "print(e.atributo_privado)"
   ]
  }
 ],
 "metadata": {
  "kernelspec": {
   "display_name": "Python 3",
   "language": "python",
   "name": "python3"
  },
  "language_info": {
   "codemirror_mode": {
    "name": "ipython",
    "version": 3
   },
   "file_extension": ".py",
   "mimetype": "text/x-python",
   "name": "python",
   "nbconvert_exporter": "python",
   "pygments_lexer": "ipython3",
   "version": "3.12.0"
  }
 },
 "nbformat": 4,
 "nbformat_minor": 2
}
