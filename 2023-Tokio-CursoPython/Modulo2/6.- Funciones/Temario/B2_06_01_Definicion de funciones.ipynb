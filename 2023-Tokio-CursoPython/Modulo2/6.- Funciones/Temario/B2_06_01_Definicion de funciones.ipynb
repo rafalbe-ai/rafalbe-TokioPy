{
 "cells": [
  {
   "cell_type": "markdown",
   "metadata": {},
   "source": [
    "# Las funciones\n",
    "Son fragmentos de código que se pueden ejecutar múltiples veces. Pueden recibir y devolver información para comunicarse con el proceso principal (con la función principal, llamada __main__).\n",
    "\n",
    "### Definición y llamada"
   ]
  },
  {
   "cell_type": "code",
   "execution_count": 1,
   "metadata": {},
   "outputs": [
    {
     "name": "stdout",
     "output_type": "stream",
     "text": [
      "Hola! Este print se llama desde la función saludar()\n"
     ]
    }
   ],
   "source": [
    "def saludar():\n",
    "    print(\"Hola! Este print se llama desde la función saludar()\")\n",
    "\n",
    "saludar()"
   ]
  },
  {
   "cell_type": "markdown",
   "metadata": {},
   "source": [
    "### Programación secuencial\n",
    "Sabemos que Python es un lenguaje de __programación secuencial__, lo que significa que ejecuta las líneas de código desde la primera hasta N de una en una. __Pero__ las funciones tienen un comportamiento diferente, sus líneas de código sólamente se ejecutan cuando la función es llamada. \n",
    "Para verlo, vamos a realizar __la trazabilidad__ del programa,  es decir, la secuencia de ejecuciones de nuestro programa:"
   ]
  },
  {
   "cell_type": "code",
   "execution_count": 2,
   "metadata": {},
   "outputs": [
    {
     "name": "stdout",
     "output_type": "stream",
     "text": [
      "Hola que tal\n",
      "Esto es una prueba\n",
      "Hola! Este print se llama desde la función saludar()\n",
      "Hola de nuevo\n",
      "Hola! Este print se llama desde la función saludar()\n",
      "Adios\n"
     ]
    }
   ],
   "source": [
    "def saludar():\n",
    "    print(\"Hola! Este print se llama desde la función saludar()\") # LINEA EN EJECUCION NUMERO 4 y 7\n",
    "\n",
    "print(\"Hola que tal\")             # LINEA EN EJECUCION NUMERO 1\n",
    "print(\"Esto es una prueba\")  # LINEA EN EJECUCION NUMERO 2\n",
    "saludar()                               # LINEA EN EJECUCION NUMERO 3\n",
    "print(\"Hola de nuevo\")        # LINEA EN EJECUCION NUMERO 5\n",
    "saludar()                              # LINEA EN EJECUCION NUMERO 6\n",
    "print(\"Adios\")                     # LINEA EN EJECUCION NUMERO 8"
   ]
  },
  {
   "cell_type": "markdown",
   "metadata": {},
   "source": [
    "#### Dentro de una función podemos utilizar variables y sentencias de control:"
   ]
  },
  {
   "cell_type": "code",
   "execution_count": 5,
   "metadata": {},
   "outputs": [
    {
     "name": "stdout",
     "output_type": "stream",
     "text": [
      "5 x 0 = 0\n",
      "5 x 1 = 5\n",
      "5 x 2 = 10\n",
      "5 x 3 = 15\n",
      "5 x 4 = 20\n",
      "5 x 5 = 25\n",
      "5 x 6 = 30\n",
      "5 x 7 = 35\n",
      "5 x 8 = 40\n",
      "5 x 9 = 45\n"
     ]
    }
   ],
   "source": [
    "def dibujar_tabla_del_5():\n",
    "    for i in range(10):\n",
    "        #print(\"5 * {} = {}\".format(i,i*5))\n",
    "        print(f\"5 x {i} = {5*i}\")\n",
    "        \n",
    "dibujar_tabla_del_5()"
   ]
  },
  {
   "cell_type": "markdown",
   "metadata": {},
   "source": [
    "### Ámbito (scope) de las variables\n",
    "Una variable declarada en una función no existe en la función principal:"
   ]
  },
  {
   "cell_type": "code",
   "execution_count": 6,
   "metadata": {},
   "outputs": [
    {
     "name": "stdout",
     "output_type": "stream",
     "text": [
      "Mostrando el valor de n dentro de la funcion test:  10\n"
     ]
    }
   ],
   "source": [
    "def test():\n",
    "    n = 10\n",
    "    print(\"Mostrando el valor de n dentro de la funcion test: \", n)\n",
    "\n",
    "test()"
   ]
  },
  {
   "cell_type": "code",
   "execution_count": 7,
   "metadata": {},
   "outputs": [
    {
     "ename": "NameError",
     "evalue": "name 'n' is not defined",
     "output_type": "error",
     "traceback": [
      "\u001b[1;31m---------------------------------------------------------------------------\u001b[0m",
      "\u001b[1;31mNameError\u001b[0m                                 Traceback (most recent call last)",
      "Cell \u001b[1;32mIn[7], line 1\u001b[0m\n\u001b[1;32m----> 1\u001b[0m \u001b[38;5;28mprint\u001b[39m(\u001b[43mn\u001b[49m)\n",
      "\u001b[1;31mNameError\u001b[0m: name 'n' is not defined"
     ]
    }
   ],
   "source": [
    "print(n)"
   ]
  },
  {
   "cell_type": "markdown",
   "metadata": {},
   "source": [
    "#### Sin embargo, una variable declarada fuera de la función (al mismo nivel), sí que es accesible desde la función (estas variables se conocen como globales):"
   ]
  },
  {
   "cell_type": "code",
   "execution_count": 8,
   "metadata": {},
   "outputs": [
    {
     "name": "stdout",
     "output_type": "stream",
     "text": [
      "Mostrando el valor de m DENTRO de la funcion test:  10\n",
      "Mostrando el valor de m FUERA de la funcion test:  10\n"
     ]
    }
   ],
   "source": [
    "def test():\n",
    "    print(\"Mostrando el valor de m DENTRO de la funcion test: \", m)\n",
    "    \n",
    "m = 10\n",
    "test()\n",
    "print(\"Mostrando el valor de m FUERA de la funcion test: \", m)"
   ]
  },
  {
   "cell_type": "markdown",
   "metadata": {},
   "source": [
    "#### Siempre que declaremos la variable antes de la ejecución, podemos acceder a ella desde dentro:"
   ]
  },
  {
   "cell_type": "code",
   "execution_count": 9,
   "metadata": {},
   "outputs": [
    {
     "ename": "NameError",
     "evalue": "name 'l' is not defined",
     "output_type": "error",
     "traceback": [
      "\u001b[1;31m---------------------------------------------------------------------------\u001b[0m",
      "\u001b[1;31mNameError\u001b[0m                                 Traceback (most recent call last)",
      "Cell \u001b[1;32mIn[9], line 4\u001b[0m\n\u001b[0;32m      1\u001b[0m \u001b[38;5;28;01mdef\u001b[39;00m \u001b[38;5;21mtest\u001b[39m():\n\u001b[0;32m      2\u001b[0m     \u001b[38;5;28mprint\u001b[39m(l)\n\u001b[1;32m----> 4\u001b[0m \u001b[43mtest\u001b[49m\u001b[43m(\u001b[49m\u001b[43m)\u001b[49m \u001b[38;5;66;03m# En este punto, la variable l aún no existe -> Error\u001b[39;00m\n\u001b[0;32m      5\u001b[0m l \u001b[38;5;241m=\u001b[39m \u001b[38;5;241m10\u001b[39m\n",
      "Cell \u001b[1;32mIn[9], line 2\u001b[0m, in \u001b[0;36mtest\u001b[1;34m()\u001b[0m\n\u001b[0;32m      1\u001b[0m \u001b[38;5;28;01mdef\u001b[39;00m \u001b[38;5;21mtest\u001b[39m():\n\u001b[1;32m----> 2\u001b[0m     \u001b[38;5;28mprint\u001b[39m(\u001b[43ml\u001b[49m)\n",
      "\u001b[1;31mNameError\u001b[0m: name 'l' is not defined"
     ]
    }
   ],
   "source": [
    "def test():\n",
    "    print(l)\n",
    "\n",
    "test() # En este punto, la variable l aún no existe -> Error\n",
    "l = 10"
   ]
  },
  {
   "cell_type": "markdown",
   "metadata": {},
   "source": [
    "#### En el caso que declaremos de nuevo una variable en la función, se creará un copia de la misma que sólo funcionará dentro de la función. \n",
    "### Por tanto *no podemos modificar una variable externa dentro de una función*:"
   ]
  },
  {
   "cell_type": "code",
   "execution_count": 10,
   "metadata": {},
   "outputs": [
    {
     "name": "stdout",
     "output_type": "stream",
     "text": [
      "Variable o DENTRO de la funcion 5\n",
      "Variable o DENTRO de la funcion 5\n",
      "Variable o FUERA de la funcion 10\n"
     ]
    }
   ],
   "source": [
    "def test():\n",
    "    o = 5 # variable que sólo existe dentro de la función\n",
    "    print(\"Variable o DENTRO de la funcion\", o)\n",
    "\n",
    "test()\n",
    "o=10 # variable externa, no modificable\n",
    "test()\n",
    "print(\"Variable o FUERA de la funcion\", o)"
   ]
  },
  {
   "cell_type": "markdown",
   "metadata": {},
   "source": [
    "## La instrucción global\n",
    "Para poder modificar una variable externa en la función, debemos indicar que es global de la siguiente forma:"
   ]
  },
  {
   "cell_type": "code",
   "execution_count": 4,
   "metadata": {},
   "outputs": [
    {
     "name": "stdout",
     "output_type": "stream",
     "text": [
      "Variable o DENTRO de la funcion 5\n",
      "Variable o DENTRO de la funcion 5\n",
      "Variable o FUERA de la funcion 5\n",
      "Variable o FUERA de la funcion 15\n"
     ]
    }
   ],
   "source": [
    "def test():\n",
    "    global o # Esta variable o, aunque sea local porque se ha creado dentro de la funcion, la palabra global, la convierte en global\n",
    "    o = 5\n",
    "    print(\"Variable o DENTRO de la funcion\", o)\n",
    "\n",
    "test()\n",
    "o=10\n",
    "test()\n",
    "print(\"Variable o FUERA de la funcion\", o)\n",
    "o=15\n",
    "print(\"Variable o FUERA de la funcion\", o)"
   ]
  },
  {
   "cell_type": "markdown",
   "metadata": {},
   "source": [
    "El ejemplo anterior sería igual a:"
   ]
  },
  {
   "cell_type": "code",
   "execution_count": null,
   "metadata": {},
   "outputs": [],
   "source": [
    "def test():\n",
    "    o = 5\n",
    "    print(\"Variable o DENTRO de la funcion\", o)\n",
    "\n",
    "o # Declaramos la o en este punto, fuera de la funcion, es decir, declaramos una funcion global\n",
    "test()\n",
    "o = 10\n",
    "test()\n",
    "print(\"Variable o FUERA de la funcion\", o)"
   ]
  },
  {
   "cell_type": "markdown",
   "metadata": {},
   "source": [
    "# La función main y su ámbito\n",
    "Todos los lenguajes de programación tienen una función main. Es el punto de inicio de nuestro código. \n",
    "Para ser correctos, todo nuestro código debería estar dentro de funciones, para una mayor organización y reutilización. Por lo que tendremos:\n",
    "* Función main: Con el código inicial y las llamadas al resto de funciones\n",
    "* Resto de funciones con funcionalidades particulares"
   ]
  },
  {
   "cell_type": "code",
   "execution_count": 11,
   "metadata": {},
   "outputs": [
    {
     "name": "stdout",
     "output_type": "stream",
     "text": [
      "Hola! Este print se llama desde la función saludar()\n"
     ]
    }
   ],
   "source": [
    "def saludar():\n",
    "    print(\"Hola! Este print se llama desde la función saludar()\")\n",
    "    \n",
    "saludar()"
   ]
  },
  {
   "cell_type": "markdown",
   "metadata": {},
   "source": [
    "El ejemplo anterior sería más correcto de la siguiente manera:"
   ]
  },
  {
   "cell_type": "code",
   "execution_count": 12,
   "metadata": {},
   "outputs": [
    {
     "name": "stdout",
     "output_type": "stream",
     "text": [
      "Inicio del programa con sus inicializaciones\n",
      "Hola! Este print se llama desde la función saludar()\n",
      "Continuamos con el resto del código\n",
      "¡Adiós!\n",
      "Continuamos con el resto del código ...\n"
     ]
    }
   ],
   "source": [
    "def saludar():\n",
    "    print(\"Hola! Este print se llama desde la función saludar()\")\n",
    "    \n",
    "def despedirse():\n",
    "    print(\"¡Adiós!\")\n",
    "    \n",
    "if __name__ == \"__main__\":\n",
    "    print(\"Inicio del programa con sus inicializaciones\")\n",
    "    saludar() # Invocamos al metodo saludar\n",
    "    print(\"Continuamos con el resto del código\")\n",
    "    despedirse()\n",
    "    print(\"Continuamos con el resto del código ...\")"
   ]
  },
  {
   "cell_type": "markdown",
   "metadata": {},
   "source": [
    "<div class=\"alert alert-danger\"><h3>Orden de main y el resto de las funciones</h3><br>\n",
    "    La función main <b>SIEMPRE</b> tiene que ir al final de nuestro código. De esta manera, nuestro interprete pasa por todas las funciones y aunque no las ejecute las pre-carga en memoria y sabe que están ahí. </div>"
   ]
  },
  {
   "cell_type": "markdown",
   "metadata": {},
   "source": [
    "### Ámbito de las variables con la función main\n",
    "Las variables declaradas en el main son GLOBALES"
   ]
  },
  {
   "cell_type": "code",
   "execution_count": 13,
   "metadata": {},
   "outputs": [
    {
     "name": "stdout",
     "output_type": "stream",
     "text": [
      "Estoy en main Hola\n",
      "Estoy en suma 5\n",
      "Estoy en suma Hola\n"
     ]
    }
   ],
   "source": [
    "def suma():\n",
    "    varSuma = 5 # Variable local\n",
    "    print(\"Estoy en suma\", varSuma)\n",
    "    print(\"Estoy en suma\", varMain)\n",
    "    \n",
    "if __name__ == \"__main__\":\n",
    "    varMain = \"Hola\" # Esta variable es global\n",
    "    print(\"Estoy en main\", varMain) # Esto funciona\n",
    "    #print(\"Estoy en main\", varSuma) # Esto no funciona, varSuma tiene ambito local\n",
    "    suma()"
   ]
  },
  {
   "cell_type": "markdown",
   "metadata": {},
   "source": [
    "Para lograr que varSuma se pueda usar en main o en cualquier otro sitio hay que hacerla global"
   ]
  },
  {
   "cell_type": "code",
   "execution_count": 14,
   "metadata": {},
   "outputs": [
    {
     "name": "stdout",
     "output_type": "stream",
     "text": [
      "Estoy en main Hola\n",
      "Estoy en main 5\n",
      "Estoy en suma Hola\n",
      "Estoy en suma 5\n"
     ]
    }
   ],
   "source": [
    "def suma():\n",
    "    print(\"Estoy en suma\", varMain)\n",
    "    print(\"Estoy en suma\", varSuma)\n",
    "    \n",
    "if __name__ == \"__main__\":\n",
    "    varMain = \"Hola\" # Esta variable es global\n",
    "    varSuma = 5 # Esta variable es global\n",
    "    \n",
    "    print(\"Estoy en main\", varMain) \n",
    "    print(\"Estoy en main\", varSuma) \n",
    "    suma()"
   ]
  },
  {
   "cell_type": "markdown",
   "metadata": {},
   "source": [
    "<div class=\"alert alert-success\"><h3>Usando variables globales</h3><br>\n",
    "    Si queremos visualizar con un print una variable global, vale con meterla dentro del print, pero si queremos manipular dicha variable, necesitamos indicar que esa variable es global con la palabra reservada global </div>"
   ]
  },
  {
   "cell_type": "markdown",
   "metadata": {},
   "source": [
    "Comprueba el siguiente error:"
   ]
  },
  {
   "cell_type": "code",
   "execution_count": 15,
   "metadata": {},
   "outputs": [
    {
     "name": "stdout",
     "output_type": "stream",
     "text": [
      "Estoy en main Hola\n",
      "Estoy en main 5\n",
      "Estoy en suma Hola\n"
     ]
    },
    {
     "ename": "UnboundLocalError",
     "evalue": "cannot access local variable 'varSuma' where it is not associated with a value",
     "output_type": "error",
     "traceback": [
      "\u001b[1;31m---------------------------------------------------------------------------\u001b[0m",
      "\u001b[1;31mUnboundLocalError\u001b[0m                         Traceback (most recent call last)",
      "Cell \u001b[1;32mIn[15], line 13\u001b[0m\n\u001b[0;32m     11\u001b[0m \u001b[38;5;28mprint\u001b[39m(\u001b[38;5;124m\"\u001b[39m\u001b[38;5;124mEstoy en main\u001b[39m\u001b[38;5;124m\"\u001b[39m, varMain) \n\u001b[0;32m     12\u001b[0m \u001b[38;5;28mprint\u001b[39m(\u001b[38;5;124m\"\u001b[39m\u001b[38;5;124mEstoy en main\u001b[39m\u001b[38;5;124m\"\u001b[39m, varSuma) \n\u001b[1;32m---> 13\u001b[0m \u001b[43msuma\u001b[49m\u001b[43m(\u001b[49m\u001b[43m)\u001b[49m\n",
      "Cell \u001b[1;32mIn[15], line 3\u001b[0m, in \u001b[0;36msuma\u001b[1;34m()\u001b[0m\n\u001b[0;32m      1\u001b[0m \u001b[38;5;28;01mdef\u001b[39;00m \u001b[38;5;21msuma\u001b[39m():\n\u001b[0;32m      2\u001b[0m     \u001b[38;5;28mprint\u001b[39m(\u001b[38;5;124m\"\u001b[39m\u001b[38;5;124mEstoy en suma\u001b[39m\u001b[38;5;124m\"\u001b[39m, varMain)\n\u001b[1;32m----> 3\u001b[0m     \u001b[38;5;28mprint\u001b[39m(\u001b[38;5;124m\"\u001b[39m\u001b[38;5;124mEstoy en suma\u001b[39m\u001b[38;5;124m\"\u001b[39m, \u001b[43mvarSuma\u001b[49m)\n\u001b[0;32m      4\u001b[0m     varSuma \u001b[38;5;241m=\u001b[39m varSuma \u001b[38;5;241m+\u001b[39m \u001b[38;5;241m1\u001b[39m\n\u001b[0;32m      5\u001b[0m     \u001b[38;5;28mprint\u001b[39m(\u001b[38;5;124m\"\u001b[39m\u001b[38;5;124mEstoy en suma y actualizando varSuma\u001b[39m\u001b[38;5;124m\"\u001b[39m, varSuma)\n",
      "\u001b[1;31mUnboundLocalError\u001b[0m: cannot access local variable 'varSuma' where it is not associated with a value"
     ]
    }
   ],
   "source": [
    "def suma():\n",
    "    print(\"Estoy en suma\", varMain)\n",
    "    print(\"Estoy en suma\", varSuma)\n",
    "    varSuma = varSuma + 1\n",
    "    print(\"Estoy en suma y actualizando varSuma\", varSuma)\n",
    "    \n",
    "if __name__ == \"__main__\":\n",
    "    varMain = \"Hola\" # Esta variable es global\n",
    "    varSuma = 5 # Esta variable es global\n",
    "    \n",
    "    print(\"Estoy en main\", varMain) \n",
    "    print(\"Estoy en main\", varSuma) \n",
    "    suma()"
   ]
  },
  {
   "cell_type": "markdown",
   "metadata": {},
   "source": [
    "Lo arreglamos indicando que varSuma va a ser una variable global (ha sido definida fuera de la función suma, en este caso en el main)"
   ]
  },
  {
   "cell_type": "code",
   "execution_count": 16,
   "metadata": {},
   "outputs": [
    {
     "name": "stdout",
     "output_type": "stream",
     "text": [
      "Estoy en main Hola\n",
      "Estoy en main 5\n",
      "Estoy en suma Hola\n",
      "Estoy en suma 5\n",
      "Estoy en suma y actualizando varSuma 6\n"
     ]
    }
   ],
   "source": [
    "def suma():\n",
    "    global varSuma\n",
    "    print(\"Estoy en suma\", varMain)\n",
    "    print(\"Estoy en suma\", varSuma)\n",
    "    varSuma = varSuma + 1\n",
    "    print(\"Estoy en suma y actualizando varSuma\", varSuma)\n",
    "    \n",
    "if __name__ == \"__main__\":\n",
    "    varMain = \"Hola\" # Esta variable es global\n",
    "    varSuma = 5 # Esta variable es global\n",
    "    \n",
    "    print(\"Estoy en main\", varMain) \n",
    "    print(\"Estoy en main\", varSuma) \n",
    "    suma()"
   ]
  },
  {
   "cell_type": "markdown",
   "metadata": {},
   "source": [
    "<div class=\"alert alert-danger\"><h3>CUIDADO CON LAS VARIABLE GLOBALES</h3><br>\n",
    "    Las variables globales son peligrosas, hay que tener cuidado con su uso. Si una variable puede ser modificada en múltiples puntos de nuestro programa, tenemos que tener un gran control sobre nuestro código para no obtener resultados no esperados. Por eso existen los ámbitos de las variables, si cada variable existe en su ámbito limitamos la posibilidad de problemas, de que una variable sea modificada o eliminada por error en un lugar que no deba. \n",
    "    <br><br>Pero si cada variable solo existe dentro de su función (de su ámbito), ¿cómo podemos compartir resultados entre funciones sin romper la estructura de ámbitos de Python?\n",
    "    <br><br><b>Retornando valores y pasando valores por parámetro.</b> Lo que veremos a continuación.</div>"
   ]
  }
 ],
 "metadata": {
  "kernelspec": {
   "display_name": "Python 3",
   "language": "python",
   "name": "python3"
  },
  "language_info": {
   "codemirror_mode": {
    "name": "ipython",
    "version": 3
   },
   "file_extension": ".py",
   "mimetype": "text/x-python",
   "name": "python",
   "nbconvert_exporter": "python",
   "pygments_lexer": "ipython3",
   "version": "3.12.0"
  }
 },
 "nbformat": 4,
 "nbformat_minor": 1
}
