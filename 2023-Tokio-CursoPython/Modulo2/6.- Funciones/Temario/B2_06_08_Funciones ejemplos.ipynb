{
 "cells": [
  {
   "cell_type": "markdown",
   "metadata": {},
   "source": [
    "# Funciones (ejemplos)\n"
   ]
  },
  {
   "cell_type": "code",
   "execution_count": 4,
   "metadata": {},
   "outputs": [
    {
     "name": "stdout",
     "output_type": "stream",
     "text": [
      "22.77777777777778\n"
     ]
    },
    {
     "ename": "",
     "evalue": "",
     "output_type": "error",
     "traceback": [
      "\u001b[1;31mEl Kernel se bloqueó al ejecutar código en la celda actual o en una celda anterior. Revise el código de las celdas para identificar una posible causa del error. Haga clic <a href='https://aka.ms/vscodeJupyterKernelCrash'>aquí</a> para obtener más información. Vea el [registro] de Jupyter (command:jupyter.viewOutput) para obtener más detalles."
     ]
    }
   ],
   "source": [
    "def fahr_a_celsius(temp_en_fahr):\n",
    "    temp_en_celsius = ((temp_en_fahr - 32) * (5/9))\n",
    "    return temp_en_celsius\n",
    "\n",
    "celsius = fahr_a_celsius(73)\n",
    "print(celsius)"
   ]
  },
  {
   "cell_type": "code",
   "execution_count": 3,
   "metadata": {},
   "outputs": [
    {
     "name": "stdout",
     "output_type": "stream",
     "text": [
      "__main__\n",
      "__main__\n",
      "10\n"
     ]
    }
   ],
   "source": [
    "def sumar(a, b):\n",
    "    print(__name__)\n",
    "    return a+b\n",
    "\n",
    "def restar(x, y):\n",
    "    print(__name__)\n",
    "    return x-y\n",
    "\n",
    "def pot(n1, n2):\n",
    "    print(__name__)\n",
    "    return n1*n2\n",
    "\n",
    "def op1(n1):\n",
    "    print(__name__)\n",
    "    n2 = 5\n",
    "    op2(n1,n2)\n",
    "    \n",
    "def op2(a, b):\n",
    "    print(__name__)\n",
    "    resultado = sumar(a,b)\n",
    "    resultado2 = restar(resultado,b)\n",
    "    op3(resultado, resultado2)\n",
    "    \n",
    "def op3(a, b):\n",
    "    print(__name__)\n",
    "    resultado = pot(a, b)\n",
    "    resultado = resultado - 11\n",
    "    print(resultado)\n",
    "\n",
    "def main():\n",
    "    op3(7,3)\n",
    "    \n",
    "if __name__ == \"__main__\":\n",
    "    main()"
   ]
  }
 ],
 "metadata": {
  "kernelspec": {
   "display_name": "Python 3",
   "language": "python",
   "name": "python3"
  },
  "language_info": {
   "codemirror_mode": {
    "name": "ipython",
    "version": 3
   },
   "file_extension": ".py",
   "mimetype": "text/x-python",
   "name": "python",
   "nbconvert_exporter": "python",
   "pygments_lexer": "ipython3",
   "version": "3.12.0"
  }
 },
 "nbformat": 4,
 "nbformat_minor": 1
}
