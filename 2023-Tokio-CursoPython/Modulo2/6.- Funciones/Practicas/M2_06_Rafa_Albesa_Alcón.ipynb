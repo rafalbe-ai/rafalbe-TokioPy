{
 "cells": [
  {
   "cell_type": "markdown",
   "metadata": {},
   "source": [
    "# Ejercicios Modulo 2. Funciones\n",
    "\n",
    "Consideraciones a tener en cuenta: \n",
    "\n",
    "* Guardar este documento con el siguiente formato para su entrega: __M2_06_nombre_apellido1_apellido2__\n",
    "* Realizar los ejercicios con las herramientas vistas en las sesiones. \n",
    "* Comentar el código\n",
    "* Utilizar nombres de variables apropiados, si vais a guardar una nota, llamar a esa variable nota, no n o x"
   ]
  },
  {
   "cell_type": "markdown",
   "metadata": {},
   "source": [
    "**1) Realiza una función que devuelva el área de un rectángulo a partir de su base y su altura. La función se llamará area_rectangulo(). La base y la altura se pedirán al usuario por teclado.**\n",
    "\n",
    "*Nota: El área de un rectángulo se obtiene al multiplicar la base por la altura.*"
   ]
  },
  {
   "cell_type": "code",
   "execution_count": null,
   "metadata": {},
   "outputs": [],
   "source": [
    "def area_rectangulo(a, b):\n",
    "    return a*b\n",
    "#Inicializamos los valores de la base y la altura del rectángulo.\n",
    "base = 10\n",
    "altura = 5\n",
    "area = area_rectangulo(base, altura)\n",
    "#Llamamos a la función que calcula el área del rectángulo\n",
    "print(f\"El área de un rectángulo de base {base}m y altura {altura}m es {area}m2\")\n"
   ]
  },
  {
   "cell_type": "markdown",
   "metadata": {},
   "source": [
    "**2) Realiza una función que devuelva el área de un círculo a partir de un radio. La función se llamará area_circulo(). El radio se pedirá al usuario por teclado:**\n",
    "\n",
    "Nota: El área de un círculo se obtiene al elevar el radio a dos y multiplicando el resultado por el número pi. Puedes utilizar el valor 3.14159 como pi o importarlo del módulo math:\n",
    "```python\n",
    "import math\n",
    "print(math.pi)\n",
    "> 3.1415...\n",
    "```"
   ]
  },
  {
   "cell_type": "code",
   "execution_count": null,
   "metadata": {},
   "outputs": [],
   "source": [
    "#Importamos el módulo de math para poder usar pi con precisión.\n",
    "import math\n",
    "#Definimos la función que calcula el área de un círculo a partir de su radio.\n",
    "def area_circulo(radio) -> float: \n",
    "    ''' Función que calcula el área de un círculo a partir de su radio.\n",
    "        Argumento de entrada: Radio en metros\n",
    "        Salida: La función devuelve el valor del área como un float'''\n",
    "    \n",
    "    return(math.pi*radio*radio)\n",
    "\n",
    "#Inicializamos el valor del radio del círculo para el que queremos calcular el área.\n",
    "radio = 10\n",
    "#Llamamos a la función que calcula el área del círculo y asignamos el valor devuelto a la variable area:\n",
    "area = area_circulo(radio)\n",
    "print(f\"El área de un círculo de radio {radio}m es {area} m2\")"
   ]
  },
  {
   "cell_type": "markdown",
   "metadata": {},
   "source": [
    "**3) Realiza una función llamada lee_numero() que solicite y lea por teclado un numero. Utilizar esta función para pedirle al usuario 3 números. Luego pasarle estos 3 números a una función que se llame mayor() que tenga 3 parámetros y que devuelva el número mayor de los 3:**"
   ]
  },
  {
   "cell_type": "code",
   "execution_count": null,
   "metadata": {},
   "outputs": [],
   "source": [
    "#Función que pide los tres números al usuario (no he introducido comprobación de errores y supongo que el usuario introduce tres números reales.)\n",
    "def lee_numero() -> list:\n",
    "    ''' Entrada: ninguna\n",
    "        Salida: Lista de tres números reales'''\n",
    "    lista_numeros = []\n",
    "    lista_numeros.append(float(input(\"Introduzca el primer valor:\")))\n",
    "    lista_numeros.append(float(input(\"Introduzca el segundo valor:\")))\n",
    "    lista_numeros.append(float(input(\"Introduzca el tercer valor:\")))\n",
    "    return(lista_numeros)\n",
    "#Función que busca el mayor de entre los elementos de una lista de números reales. \n",
    "def mayor(lista_num) -> float:\n",
    "    ''' Entrada: lista de números reales\n",
    "        Salida: un valor float con el máximo de la lista'''\n",
    "    return(max(lista_num))\n",
    "\n",
    "'''Pedimos los tres números reales llamando a la funicón lee_numero(), que nos devuelve una lista'''\n",
    "lista = lee_numero()\n",
    "'''Calculamos el máximo de entre los números de la lista llamando a la función mayor() pasándole la lista como argumento por referencia'''\n",
    "maximo = mayor(lista)\n",
    "'''Imprimimos la lista y el valor máximo de la misma.'''\n",
    "print(f\"El máximo de la lista {lista} es: {maximo}\")\n"
   ]
  },
  {
   "cell_type": "markdown",
   "metadata": {},
   "source": [
    "**4) Realizar una función llamada imc(). Esta función nos proporcionará el estado nutricional de una persona. Esto es; la clasificación de su índice de masa corporal (IMC), según la tabla proporcionada. La función recibirá el peso (en kilos) y la talla de una persona (en metros con dos decimales), datos a partir de los cuales se puede calcular el IMC cómo:**\n",
    "\n",
    "IMC = peso / (altura * altura)\n",
    "\n",
    "Clasificación: IMC (Kg/m^2)\n",
    "* Bajo peso:  < 18.50\n",
    "* Normal:      [18.50, 25.00)\n",
    "* Sobrepeso: >= 25.00\n",
    "* Obesidad: >= 30.00"
   ]
  },
  {
   "cell_type": "code",
   "execution_count": null,
   "metadata": {},
   "outputs": [],
   "source": [
    "def imc(peso:float, altura:float) -> dict:\n",
    "    ''' Función que devuelve el estado de la persona en función del IMC calculado a partir de su peso y su altura.\n",
    "        Entradas: \n",
    "            peso: float\n",
    "            altura: float\n",
    "        Salida:\n",
    "            Un diccionario con el valor del IMC y el estado para el ese IMC: {'imc': valor del imc, 'estado': valor del estado}.'''\n",
    "    imc = round(peso/(altura**2),2)\n",
    "    if imc < 18.50:\n",
    "        return {'imc' : imc, 'estado':'Bajo peso'}\n",
    "    elif (18.5 <= imc < 25.00):\n",
    "        return {'imc' : imc, 'estado':'Normal'}\n",
    "    elif (25.00 <= imc < 30.0):\n",
    "        return {'imc' : imc, 'estado':'Sobrepeso'}\n",
    "    else:\n",
    "        return {'imc' : imc, 'estado':'Obesidad'}\n",
    "\n",
    "#Bucle generado para probar el funcionamiento de la función.\n",
    "#bucle para pesos entre 50 y 100 kg.\n",
    "for k in range(5000,10000,5):\n",
    "    #Bucle para alturas entre 1,5 y 2,00 m.\n",
    "    for i in range (150,200,5):\n",
    "        #Imprimimos el resultado del i\n",
    "        print(f\"Para un peso de {k/100} y una altura de {i/100} el estado es {imc(k/100, i/100)}\")\n"
   ]
  },
  {
   "cell_type": "markdown",
   "metadata": {},
   "source": [
    "**5) ¿Recuerdas este programa de la unidad de control de flujo?**\n",
    "\n",
    "Realiza un programa que realice las siguientes tareas:\n",
    "\n",
    "* Paso 1) solicite al usuario una contraseña y la guarde en una variable\n",
    "* Paso 2) pida al usuario introducir la contraseña para loguearse\n",
    "    * si la contraseña es correcta mostramos \"Login correcto\"\n",
    "    * si la contraseña no es correcta se le tendrá que mostrar un mensaje de \"Login fallido. Intento 1\", donde 1 será una variable contador que irá incrementandose hasta llegar a 5. En ese punto reiniciamos el programa y volveremos al Paso 1\n",
    "\n",
    "__Reestructura el ejercicio dividiéndolo al máximo en funciones.__"
   ]
  },
  {
   "cell_type": "code",
   "execution_count": null,
   "metadata": {},
   "outputs": [],
   "source": [
    "contador = 0\n",
    "while contador <= 4:\n",
    "    if contador == 0:\n",
    "        contraseña = input(\"Introduzca su contraseña, por favor:\")\n",
    "    password = input(f\"Intento {contador+1} --> Introduzca su password para el login:\")\n",
    "    if password == contraseña:\n",
    "        print(\"Contraseña correcta. Está usted dentro del sistema.\")\n",
    "        break\n",
    "    else:\n",
    "        contador +=1\n",
    "    if contador == 4:\n",
    "        print(\"Ha agotado los intentos para la contraseña actual. Tendrá que introducir una nueva contraseña.\")\n",
    "        contador = 0\n"
   ]
  }
 ],
 "metadata": {
  "anaconda-cloud": {},
  "kernelspec": {
   "display_name": "Python 3",
   "language": "python",
   "name": "python3"
  },
  "language_info": {
   "codemirror_mode": {
    "name": "ipython",
    "version": 3
   },
   "file_extension": ".py",
   "mimetype": "text/x-python",
   "name": "python",
   "nbconvert_exporter": "python",
   "pygments_lexer": "ipython3",
   "version": "3.12.0"
  }
 },
 "nbformat": 4,
 "nbformat_minor": 1
}
