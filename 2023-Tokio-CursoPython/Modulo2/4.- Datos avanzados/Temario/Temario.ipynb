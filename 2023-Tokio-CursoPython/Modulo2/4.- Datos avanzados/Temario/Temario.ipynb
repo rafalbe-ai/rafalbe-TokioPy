{
 "cells": [
  {
   "cell_type": "code",
   "execution_count": 1,
   "metadata": {},
   "outputs": [
    {
     "name": "stdout",
     "output_type": "stream",
     "text": [
      "[1, 2, 3, 4]\n"
     ]
    }
   ],
   "source": [
    "numeros = [1, 2, 3, 4]\n",
    "print(numeros)"
   ]
  },
  {
   "cell_type": "code",
   "execution_count": 13,
   "metadata": {},
   "outputs": [
    {
     "name": "stdout",
     "output_type": "stream",
     "text": [
      "[4, 'Una cadena', -15, 3.14, 'Otra cadena en último lugar']\n",
      "La variable datos es de tipo <class 'list'>.\n",
      "El primer dato de la lista es: 4\n",
      "y el segundo dato es: Una cadena\n",
      "Por otra parte, el último dato es: Otra cadena en último lugar\n",
      "También se puede hacer slicing desde el principio: ['Una cadena', -15]\n",
      "o desde el final hacia atrás [3.14, 'Otra cadena en último lugar']\n"
     ]
    }
   ],
   "source": [
    "datos = [4, \"Una cadena\", -15, 3.14, \"Otra cadena en último lugar\"]\n",
    "print(datos)\n",
    "print(f\"La variable datos es de tipo {type(datos)}.\")\n",
    "print(f\"El primer dato de la lista es: {datos[0]}\")\n",
    "print(f\"y el segundo dato es: {datos[1]}\")\n",
    "print(f\"Por otra parte, el último dato es: {datos[-1]}\")\n"
   ]
  },
  {
   "cell_type": "code",
   "execution_count": 14,
   "metadata": {},
   "outputs": [
    {
     "name": "stdout",
     "output_type": "stream",
     "text": [
      "Devolviendo trozos de la lista\n",
      "También se puede hacer slicing desde el principio: ['Una cadena', -15]\n",
      "o desde el final hacia atrás [3.14, 'Otra cadena en último lugar']\n"
     ]
    }
   ],
   "source": [
    "print(\"Devolviendo trozos de la lista\")\n",
    "print(f\"También se puede hacer slicing desde el principio: {datos[1:3]}\")\n",
    "print(f\"o desde el final hacia atrás {datos[-2:]}\")"
   ]
  },
  {
   "cell_type": "code",
   "execution_count": 23,
   "metadata": {},
   "outputs": [
    {
     "name": "stdout",
     "output_type": "stream",
     "text": [
      "Ahora contatenamos listas\n",
      "[1, 2, 3, 4, 5, 6, 7, 8]\n",
      "Lista de números pares erronea: [0, 2, 4, 5, 8, 10]\n",
      "Lista de números pares corregida: [0, 2, 4, 6, 8, 10]\n",
      "Añadimos un valor al final de la lista\n",
      "Lista de números pares ampliada con .append: [0, 2, 4, 6, 8, 10, 12]\n",
      "Insertamos un número en la segunda posición con pares.insert(1,123): [0, 123, 2, 4, 6, 8, 10, 12]\n"
     ]
    }
   ],
   "source": [
    "print(\"Ahora contatenamos listas\")\n",
    "numeros = [1, 2, 3, 4]\n",
    "numeros = numeros + [5, 6, 7, 8]\n",
    "print(numeros)\n",
    "pares = [0, 2, 4, 5, 8, 10]\n",
    "print(f\"Lista de números pares erronea: {pares}\")\n",
    "pares[3] = 6\n",
    "print(f\"Lista de números pares corregida: {pares}\")\n",
    "print(\"Añadimos un valor al final de la lista\")\n",
    "pares.append(12)\n",
    "print(f\"Lista de números pares ampliada con .append: {pares}\")\n",
    "pares.insert(1,123)\n",
    "print(f\"Insertamos un número en la segunda posición con pares.insert(1,123): {pares}\")\n"
   ]
  },
  {
   "cell_type": "code",
   "execution_count": 29,
   "metadata": {},
   "outputs": [
    {
     "name": "stdout",
     "output_type": "stream",
     "text": [
      "El contenido de la lista letras es: ['a', 'b', 'c', 'd', 'e', 'f']\n",
      "Slicing con listas. Imprimimos los tres primeros elementos de la lista con print(letras[:3])\n",
      "['a', 'b', 'c']\n",
      "Asignamos una lista a otra con letras[:3] = ['A', 'B', 'C']\n",
      "La nueva lista letras es: ['A', 'B', 'C', 'd', 'e', 'f']\n",
      "También podemos eliminar parte de una lista asignándole una lista vacía. Por ejemplo letras[:3] = []\n",
      "Letras = ['d', 'e', 'f']\n",
      "La longitud de la lista es: 3\n"
     ]
    }
   ],
   "source": [
    "letras = ['a', 'b', 'c', 'd', 'e', 'f']\n",
    "print(f\"El contenido de la lista letras es: {letras}\")\n",
    "print(f\"Slicing con listas. Imprimimos los tres primeros elementos de la lista con print(letras[:3])\")\n",
    "print(letras[:3])\n",
    "print(f\"Asignamos una lista a otra con letras[:3] = ['A', 'B', 'C']\")\n",
    "letras[:3] = ['A', 'B', 'C']\n",
    "print(f\"La nueva lista letras es: {letras}\")\n",
    "print(f\"También podemos eliminar parte de una lista asignándole una lista vacía. Por ejemplo letras[:3] = []\")\n",
    "letras[:3] = []\n",
    "print(f\"Letras = {letras}\")\n",
    "print(f\"La longitud de la lista es: {len(letras)}\")"
   ]
  },
  {
   "cell_type": "code",
   "execution_count": 34,
   "metadata": {},
   "outputs": [
    {
     "name": "stdout",
     "output_type": "stream",
     "text": [
      "¿Estaá el el número dos en la lista pares? True\n",
      "¿Estaá el el número siete en la lista pares? False\n"
     ]
    }
   ],
   "source": [
    "print(f\"¿Estaá el el número dos en la lista pares? {2 in pares}\")\n",
    "print(f\"¿Estaá el el número siete en la lista pares? {7 in pares}\")"
   ]
  },
  {
   "cell_type": "code",
   "execution_count": 46,
   "metadata": {},
   "outputs": [
    {
     "name": "stdout",
     "output_type": "stream",
     "text": [
      "[[1, 2, 3], [4, 5, 6], [7, 8, 9]]\n",
      "[7, 8, 9]\n",
      "[[1, 2, 3], [4, 5, 6]]\n",
      "[1, 2, 3]\n",
      "1\n",
      "5\n",
      "9\n"
     ]
    }
   ],
   "source": [
    "a = [1,2,3]\n",
    "b = [4,5,6]\n",
    "c = [7,8,9] \n",
    "r = [a,b,c]\n",
    "print(r)\n",
    "print(r[-1])\n",
    "print(r[:-1])\n",
    "print(r[0])\n",
    "print(r[0][0])\n",
    "print(r[1][1])\n",
    "print(r[2][2])"
   ]
  },
  {
   "cell_type": "code",
   "execution_count": 55,
   "metadata": {},
   "outputs": [
    {
     "name": "stdout",
     "output_type": "stream",
     "text": [
      "[4, 'Una cadena', -15, 3.14, 'Otra cadena'] es de tipo <class 'list'>\n",
      "(4, 'Una cadena', -15, 3.14, 'Otra cadena') es de tipo <class 'tuple'>\n",
      "{-15, 'Una cadena', 3.14, 4, 'Otra cadena'} es de tipo <class 'set'> y no admite valores repetidos\n"
     ]
    }
   ],
   "source": [
    "eslista = [4,\"Una cadena\",-15,3.14,\"Otra cadena\"]\n",
    "estupla = (4,\"Una cadena\",-15,3.14,\"Otra cadena\")\n",
    "esconjunto = {4,\"Una cadena\",-15,3.14,\"Otra cadena\"}\n",
    "print(f\"{eslista} es de tipo {type(eslista)}\")\n",
    "print(f\"{estupla} es de tipo {type(estupla)}\")\n",
    "print(f\"{esconjunto} es de tipo {type(esconjunto)} y no admite valores repetidos y su orden lo decide el lenguaje\")\n"
   ]
  },
  {
   "cell_type": "code",
   "execution_count": 65,
   "metadata": {},
   "outputs": [
    {
     "name": "stdout",
     "output_type": "stream",
     "text": [
      "C++\n",
      "Java\n",
      "Python\n",
      "True\n",
      "Para añadir un elemento en un conjunto utilizamos .add(elemento)\n",
      "{'C++', 'Java', 'Python', 'C#'}\n",
      "Para añadir más de un elemento a un conjunto utilizamos .update({elementos separados por comas}) ó .update([elementos separados por comas])\n",
      "{'PHP', 'Python', 'C#', 'C++', 'Javascript', 'Java', 'Go'}\n",
      "Elminiar elementos de un conjunto con .discard() o .remove()\n",
      "{'Python', 'C#', 'C++', 'Javascript', 'Java', 'Go'}\n",
      "{'Python', 'C#', 'Javascript', 'Java', 'Go'}\n",
      "True\n",
      "set()\n"
     ]
    }
   ],
   "source": [
    "lenguajes = {\"Python\", \"C++\", \"Java\"}\n",
    "for x in lenguajes:\n",
    "    print(x)\n",
    "    \n",
    "print(\"Python\" in lenguajes)\n",
    "print(\"Para añadir un elemento en un conjunto utilizamos .add(elemento)\")\n",
    "lenguajes.add(\"C#\")\n",
    "print(lenguajes)\n",
    "print(\"Para añadir más de un elemento a un conjunto utilizamos .update({elementos separados por comas}) ó .update([elementos separados por comas])\")\n",
    "lenguajes.update({\"Go\", \"Javascript\", \"PHP\"})\n",
    "print(lenguajes)\n",
    "print(\"Elminiar elementos de un conjunto con .discard() o .remove()\")\n",
    "lenguajes.remove(\"PHP\")\n",
    "print(lenguajes)\n",
    "lenguajes.discard(\"C++\")\n",
    "print(lenguajes)\n",
    "print(\"Go\" in lenguajes)\n",
    "lenguajes.clear()\n",
    "print(lenguajes)\n"
   ]
  },
  {
   "cell_type": "code",
   "execution_count": 85,
   "metadata": {},
   "outputs": [
    {
     "name": "stdout",
     "output_type": "stream",
     "text": [
      "{'brand': 'Ford', 'model': 'Mustang', 'year': 1964} es del tipo <class 'dict'>\n",
      "Mustang\n",
      "Mustang\n",
      "True\n",
      "{'brand': 'Ford', 'model': 'Mustang', 'year': 2023}\n",
      "3\n",
      "_____________________________________________\n",
      "brand :  Ford\n",
      "model :  Mustang\n",
      "year :  2023\n",
      "_____________________________________________\n",
      "Ford\n",
      "Mustang\n",
      "2023\n",
      "_____________________________________________\n",
      "brand :  Ford\n",
      "model :  Mustang\n",
      "year :  2023\n"
     ]
    }
   ],
   "source": [
    "##DICCIONARIOS\n",
    "vehiculos = {\n",
    "    \"brand\": \"Ford\",\n",
    "    \"model\": \"Mustang\",\n",
    "    \"year\": 1964\n",
    "}\n",
    "print(f\"{vehiculos} es del tipo {type(vehiculos)}\")\n",
    "#Se accede por el key para que te de el valor almacenado\n",
    "print(vehiculos[\"model\"])\n",
    "print(vehiculos.get(\"model\"))\n",
    "print(\"model\" in vehiculos)\n",
    "#asignación de valores a un diccionario\n",
    "vehiculos[\"year\"] = 2023\n",
    "print(vehiculos)\n",
    "print(len(vehiculos))\n",
    "print(\"_____________________________________________\")\n",
    "for x in vehiculos:\n",
    "    print(x, \": \", vehiculos[x])\n",
    "print(\"_____________________________________________\")\n",
    "for x in vehiculos.values():\n",
    "    print(x)\n",
    "print(\"_____________________________________________\")\n",
    "for x, y in vehiculos.items():\n",
    "    print(x, \": \", y)"
   ]
  },
  {
   "cell_type": "code",
   "execution_count": 93,
   "metadata": {},
   "outputs": [
    {
     "name": "stdout",
     "output_type": "stream",
     "text": [
      "{'brand': 'Ford', 'model': 'Mustang', 'year': 1964}\n",
      "{'brand': 'Ford', 'model': 'Mustang'}\n",
      "{'brand': 'Ford', 'model': 'Mustang', 'year': 2024}\n",
      "{'model': 'Mustang', 'year': 2024}\n",
      "{'model': 'Mustang', 'year': 2024, 'brand': 'Ford'}\n"
     ]
    }
   ],
   "source": [
    "#eliminar elementos de un diccionario:\n",
    "vehiculos = {\n",
    "    \"brand\": \"Ford\",\n",
    "    \"model\": \"Mustang\",\n",
    "    \"year\": 1964\n",
    "}\n",
    "print(vehiculos)\n",
    "#Eliminamos el último elemento \n",
    "vehiculos.popitem()\n",
    "print(vehiculos)\n",
    "vehiculos[\"year\"] = 2024\n",
    "print(vehiculos)\n",
    "#eliminasmos un par en concreto.\n",
    "vehiculos.pop(\"brand\")\n",
    "print(vehiculos)\n",
    "vehiculos[\"brand\"] = \"Ford\"\n",
    "print(vehiculos)"
   ]
  },
  {
   "cell_type": "code",
   "execution_count": 97,
   "metadata": {},
   "outputs": [
    {
     "name": "stdout",
     "output_type": "stream",
     "text": [
      "Utilizando dict1 = dict.copy() hacemos una copia independiente.\n",
      "vehiculos = {'brand': 'Ford', 'model': 'Mustang', 'year': 1964}\n",
      "vehiculos1 = {'brand': 'Ford', 'model': 'Mustang'}\n",
      "Utilizando dict1 = dict hacemos una referencia\n",
      "vehiculos = {'brand': 'Ford', 'model': 'Mustang'}\n",
      "vehiculos2 = {'brand': 'Ford', 'model': 'Mustang'}\n"
     ]
    }
   ],
   "source": [
    "#COpia de diccionarios\n",
    "vehiculos = {\n",
    "    \"brand\": \"Ford\",\n",
    "    \"model\": \"Mustang\",\n",
    "    \"year\": 1964\n",
    "}\n",
    "vehiculos1 = vehiculos.copy()\n",
    "vehiculos1.pop(\"year\")\n",
    "print(\"Utilizando dict1 = dict.copy() hacemos una copia independiente.\")\n",
    "print(f\"vehiculos = {vehiculos}\")\n",
    "print(f\"vehiculos1 = {vehiculos1}\")\n",
    "print(\"Utilizando dict1 = dict hacemos una referencia\")\n",
    "vehiculos2 = vehiculos\n",
    "vehiculos2.pop(\"year\")\n",
    "print(f\"vehiculos = {vehiculos}\")\n",
    "print(f\"vehiculos2 = {vehiculos2}\")\n"
   ]
  }
 ],
 "metadata": {
  "kernelspec": {
   "display_name": "Python 3",
   "language": "python",
   "name": "python3"
  },
  "language_info": {
   "codemirror_mode": {
    "name": "ipython",
    "version": 3
   },
   "file_extension": ".py",
   "mimetype": "text/x-python",
   "name": "python",
   "nbconvert_exporter": "python",
   "pygments_lexer": "ipython3",
   "version": "3.12.0"
  }
 },
 "nbformat": 4,
 "nbformat_minor": 2
}
