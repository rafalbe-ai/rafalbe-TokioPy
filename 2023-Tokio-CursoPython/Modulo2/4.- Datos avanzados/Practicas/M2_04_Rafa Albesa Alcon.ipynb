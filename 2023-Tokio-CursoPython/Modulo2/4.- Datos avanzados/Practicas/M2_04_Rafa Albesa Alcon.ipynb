{
 "cells": [
  {
   "cell_type": "markdown",
   "metadata": {},
   "source": [
    "# Ejercicios Modulo 2. Tipos avanzados\n",
    "\n",
    "Consideraciones a tener en cuenta: \n",
    "\n",
    "* Guardar este documento con el siguiente formato para su entrega: __M2_04_nombre_apellido1_apellido2__\n",
    "* Realizar los ejercicios con las herramientas vistas en las sesiones. Aún no hemos llegado a condicionales ni bucles\n",
    "* Comentar el código\n",
    "* Utilizar nombres de variables apropiados, si vais a guardar una nota, llamar a esa variable nota, no n o x"
   ]
  },
  {
   "cell_type": "markdown",
   "metadata": {},
   "source": [
    "## Ejercicios de tipos avanzados"
   ]
  },
  {
   "cell_type": "markdown",
   "metadata": {},
   "source": [
    "**1) Trabajemos con listas y tuplas**\n",
    "* Crea una lista y una tupla que contenga strings (al menos 3 elementos). Tematica libre, sobre lo que quieras, vehiculos, comida, música, etc.\n",
    "* Muestra la lista y la tupla\n",
    "* Muestra el 2º elemento de la lista y el penúltimo de la tupla\n",
    "* Modifica (si se puede) algún elemento de la lista y de la tupla. Y mostrar el resultado\n",
    "* Muestra el tamaño de la lista y de la tupla\n",
    "* Realiza una búsqueda de un elemento dentro de la lista y de la tupla. Mostrar si devuelve True o False\n",
    "* Añade (si se puede) algún elemento a la lista y a la tupla. Mostrar de nuevo la lista y la tupla para verificar si se ha realizado correctamente la acción.\n",
    "* Borra o elimina (si se puede) el contenido de la lista y de la tupla. Mosstrar de nuevo la lista y la tupla para verificar si se ha realizado correctamente la acción\n",
    "\n"
   ]
  },
  {
   "cell_type": "code",
   "execution_count": 1,
   "metadata": {},
   "outputs": [
    {
     "name": "stdout",
     "output_type": "stream",
     "text": [
      "Crea una lista y una tupla que contenga strings (al menos 3 elementos). Tematica libre, sobre lo que quieras, vehiculos, comida, música, etc.\n",
      "________________________________________________________________________________________________________________________________\n",
      " Muestra la lista y la tupla\n",
      "La lista es: ['The Fleshtones', 'Car seat headrest', 'The jackets', 'The Cynics', 'Johnny Casino', 'Guadalupe Plata', 'Hombre lobo internacional', 'The Fleshtones']\n",
      "La tupla es: ('The lie detectors', 'Billy Childish', 'The green hornets', 'The hi-fives', 'The Smugglers', 'Tito Ramirez', 'The Hentchmen', 'Billy Childish', 'Barrence Whitfield', 'Nick Waterhouse')\n",
      "________________________________________________________________________________________________________________________________\n",
      "Muestra el 2º elemento de la lista y el penúltimo de la tupla\n",
      "El segundo elemento de la lista es: Car seat headrest\n",
      "El penúltimo elemento de la tupla es: Barrence Whitfield\n",
      "________________________________________________________________________________________________________________________________\n",
      "Modifica (si se puede) algún elemento de la lista y de la tupla. Y mostrar el resultado\n",
      "La lista, tras modificar el tercer elemento, queda como sigue: ['The Fleshtones', 'Car seat headrest', 'The Rubinoos', 'The Cynics', 'Johnny Casino', 'Guadalupe Plata', 'Hombre lobo internacional', 'The Fleshtones']\n",
      "La tupla es inmutable, por lo que no puedo modificar su contenido mediante una asignación.\n",
      "________________________________________________________________________________________________________________________________\n",
      "Muestra el tamaño de la lista y de la tupla\n",
      "La longitud de la lista es: 8\n",
      "La longitud de la tupla es: 10\n",
      "________________________________________________________________________________________________________________________________\n",
      "Realiza una búsqueda de un elemento dentro de la lista y de la tupla. Mostrar si devuelve True o False\n",
      "Está Guadalupe Plata en la lista?: True\n",
      "Está The Courrettes en la lista?: False\n",
      "________________________________________________________________________________________________________________________________\n",
      "Añade (si se puede) algún elemento a la lista y a la tupla. Mostrar de nuevo la lista y la tupla para verificar si se ha realizado correctamente la acción.\n",
      "Añadimos un elemento al final de la lista: ['The Fleshtones', 'Car seat headrest', 'The Rubinoos', 'The Cynics', 'Johnny Casino', 'Guadalupe Plata', 'Hombre lobo internacional', 'The Fleshtones', 'Babies in Toyland']\n",
      "Si lo que deseamos es insertar un elemento en la posición 4, por ejemplo usaremos listagruposmusicales.insert(3,'Jet boys')\n",
      "['The Fleshtones', 'Car seat headrest', 'The Rubinoos', 'Jet boys', 'The Cynics', 'Johnny Casino', 'Guadalupe Plata', 'Hombre lobo internacional', 'The Fleshtones', 'Babies in Toyland']\n",
      "Las tuplas no tienen métodos append o add. Para añadir elementos, se me ocurre concatenardos tuplas, \n",
      "      aunque tiene limitaciones. No podemos concatenar un elemento de tipo string, pero sí un caracter.\n",
      "La tupla queda como sigue: ('The lie detectors', 'Billy Childish', 'The green hornets', 'The hi-fives', 'The Smugglers', 'Tito Ramirez', 'The Hentchmen', 'Billy Childish', 'Barrence Whitfield', 'Nick Waterhouse', 'C')\n",
      "Si intentamos concatenar un string, el efecto es el siguiente:\n",
      "('The lie detectors', 'Billy Childish', 'The green hornets', 'The hi-fives', 'The Smugglers', 'Tito Ramirez', 'The Hentchmen', 'Billy Childish', 'Barrence Whitfield', 'Nick Waterhouse', 'C', 'N', 'e', 'w', 's', 't', 'r', 'i', 'n', 'g')\n",
      "________________________________________________________________________________________________________________________________\n",
      "Borra o elimina (si se puede) el contenido de la lista y de la tupla. Mosstrar de nuevo la lista y la tupla para verificar si se ha realizado correctamente la acción\n",
      "Antes de borrar la lista es: ['The Fleshtones', 'Car seat headrest', 'The Rubinoos', 'Jet boys', 'The Cynics', 'Johnny Casino', 'Guadalupe Plata', 'Hombre lobo internacional', 'The Fleshtones', 'Babies in Toyland']\n",
      "y su tercer y quinto elementos son: The Rubinoos y The Cynics\n",
      "Tras el borrado del tercer y el quinto elemento, la lista queda como sigue: ['The Fleshtones', 'Car seat headrest', 'Jet boys', 'Johnny Casino', 'Guadalupe Plata', 'Hombre lobo internacional', 'The Fleshtones', 'Babies in Toyland']\n",
      "Los elementos de la tupla no pueden eliminarse\n"
     ]
    }
   ],
   "source": [
    "print(\"Crea una lista y una tupla que contenga strings (al menos 3 elementos). Tematica libre, sobre lo que quieras, vehiculos, comida, música, etc.\")\n",
    "listagruposmusicales = [\"The Fleshtones\" , \"Car seat headrest\", \"The jackets\" , \"The Cynics\", \"Johnny Casino\", \"Guadalupe Plata\", \"Hombre lobo internacional\", \"The Fleshtones\"]\n",
    "tuplagruposmusicales =(\"The lie detectors\", \"Billy Childish\", \"The green hornets\", \"The hi-fives\", \"The Smugglers\", \"Tito Ramirez\", \"The Hentchmen\", \"Billy Childish\", \"Barrence Whitfield\", \"Nick Waterhouse\")\n",
    "print(\"________________________________________________________________________________________________________________________________\")\n",
    "print(\" Muestra la lista y la tupla\")\n",
    "print(f\"La lista es: {listagruposmusicales}\")\n",
    "print(f\"La tupla es: {tuplagruposmusicales}\")\n",
    "print(\"________________________________________________________________________________________________________________________________\")\n",
    "print(\"Muestra el 2º elemento de la lista y el penúltimo de la tupla\")\n",
    "print(f\"El segundo elemento de la lista es: {listagruposmusicales[1]}\")\n",
    "print(f\"El penúltimo elemento de la tupla es: {tuplagruposmusicales[-2]}\")\n",
    "print(\"________________________________________________________________________________________________________________________________\")\n",
    "print(\"Modifica (si se puede) algún elemento de la lista y de la tupla. Y mostrar el resultado\")\n",
    "listagruposmusicales[2] = \"The Rubinoos\"\n",
    "print(f\"La lista, tras modificar el tercer elemento, queda como sigue: {listagruposmusicales}\")\n",
    "print(\"La tupla es inmutable, por lo que no puedo modificar su contenido mediante una asignación.\")\n",
    "print(\"________________________________________________________________________________________________________________________________\")\n",
    "print(\"Muestra el tamaño de la lista y de la tupla\")\n",
    "print(f\"La longitud de la lista es: {len(listagruposmusicales)}\")\n",
    "print(f\"La longitud de la tupla es: {len(tuplagruposmusicales)}\")\n",
    "print(\"________________________________________________________________________________________________________________________________\")\n",
    "print(\"Realiza una búsqueda de un elemento dentro de la lista y de la tupla. Mostrar si devuelve True o False\")\n",
    "print(f\"Está Guadalupe Plata en la lista?: {\"Guadalupe Plata\" in listagruposmusicales}\")\n",
    "print(f\"Está The Courrettes en la lista?: {\"The Courettes\" in listagruposmusicales}\")\n",
    "print(\"________________________________________________________________________________________________________________________________\")\n",
    "print(\"Añade (si se puede) algún elemento a la lista y a la tupla. Mostrar de nuevo la lista y la tupla para verificar si se ha realizado correctamente la acción.\")\n",
    "listagruposmusicales.append(\"Babies in Toyland\")\n",
    "print(f\"Añadimos un elemento al final de la lista: {listagruposmusicales}\")\n",
    "print(\"Si lo que deseamos es insertar un elemento en la posición 4, por ejemplo usaremos listagruposmusicales.insert(3,'Jet boys')\")\n",
    "listagruposmusicales.insert(3,\"Jet boys\")\n",
    "print(listagruposmusicales)\n",
    "print(\"\"\"Las tuplas no tienen métodos append o add. Para añadir elementos, se me ocurre concatenardos tuplas, \n",
    "      aunque tiene limitaciones. No podemos concatenar un elemento de tipo string, pero sí un caracter.\"\"\")\n",
    "tuplagruposmusicales = tuplagruposmusicales + tuple('C')\n",
    "print(f\"La tupla queda como sigue: {tuplagruposmusicales}\")\n",
    "print(\"Si intentamos concatenar un string, el efecto es el siguiente:\")\n",
    "tupla2 = tuplagruposmusicales + tuple('Newstring')\n",
    "print(tupla2)\n",
    "print(\"________________________________________________________________________________________________________________________________\")\n",
    "print(\"Borra o elimina (si se puede) el contenido de la lista y de la tupla. Mosstrar de nuevo la lista y la tupla para verificar si se ha realizado correctamente la acción\")\n",
    "print(f\"Antes de borrar la lista es: {listagruposmusicales}\")\n",
    "print(f\"y su tercer y quinto elementos son: {listagruposmusicales[2]} y {listagruposmusicales[4]}\")\n",
    "listagruposmusicales.remove(\"The Rubinoos\")\n",
    "listagruposmusicales.remove(listagruposmusicales[3])\n",
    "print(f\"Tras el borrado del tercer y el quinto elemento, la lista queda como sigue: {listagruposmusicales}\")\n",
    "print(\"Los elementos de la tupla no pueden eliminarse\")\n",
    "\n"
   ]
  },
  {
   "cell_type": "markdown",
   "metadata": {},
   "source": [
    "**2) Trabajemos con sets y diccionarios**\n",
    "* Crea una set y un diccionario que contengan strings (al menos 3 elementos en el caso del set y 3 conjuntos de clave:valor en el caso del diccionario). Tematica libre, sobre lo que quieras, vehiculos, comida, música, etc.\n",
    "* Muestra el set y el diccionario\n",
    "* Muestra (si se puede) el 2º elemento del set y el valor del primer clave-valor del diccionario\n",
    "* Modifica (si se puede) algún elemento del set o del diccionario. Y mostrar el resultado\n",
    "* Muestra el tamaño del set y del diccionario\n",
    "* Realiza una búsqueda de un elemento dentro del set y dentro del diccionario. Mostrar si devuelve True o False\n",
    "* Añade (si se puede) algún elemento al set y algun clave-valor al diccionario. Mostrar de nuevo el set y el diccionario para verificar si se ha realizado correctamente la acción.\n",
    "* Borra o elimina (si se puede) el contenido del set y del diccionario. Mosstrar de nuevo el set y el diccionario para verificar si se ha realizado correctamente la acción\n",
    "\n"
   ]
  },
  {
   "cell_type": "code",
   "execution_count": 2,
   "metadata": {},
   "outputs": [
    {
     "name": "stdout",
     "output_type": "stream",
     "text": [
      "Crea una set y un diccionario que contengan strings (al menos 3 elementos en el caso del set y 3 conjuntos de clave:valor en el caso del diccionario). Tematica libre, sobre lo que quieras, vehiculos, comida, música, etc.\n",
      "El set de grupos musicales creado es: {'The Cynics', 'The Fleshtones', 'Johnny Casino', 'Car seat headrest', 'Hombre lobo internacional', 'Guadalupe Plata', 'The jackets'}\n",
      "El diccionario creado es:\n",
      "{'grupo1': {'nombregrupo': 'The Fleshtones', 'nacionalidad': 'USA', 'genero': 'garageRnR'}, 'grupo2': {'nombregrupo': 'Billy Childish', 'nacionalidad': 'UK', 'genero': 'garage'}, 'grupo3': {'nombregrupo': 'The jackets', 'nacionalidad': 'Suiza', 'genero': 'RnR'}, 'grupo4': {'nombregrupo': 'The Cynics', 'nacionalidad': 'USA', 'genero': 'garage'}, 'grupo5': {'nombregrupo': 'Barrence Withfield', 'nacionalidad': 'USA', 'genero': 'Soul and RnB'}, 'grupo6': {'nombregrupo': 'Lie detectors', 'nacionalidad': 'Spain', 'genero': 'GarageRnB'}}\n",
      "Para verlo mejor: \n",
      "      grupo1 :  {'nombregrupo': 'The Fleshtones', 'nacionalidad': 'USA', 'genero': 'garageRnR'}\n",
      "      grupo2 :  {'nombregrupo': 'Billy Childish', 'nacionalidad': 'UK', 'genero': 'garage'}\n",
      "      grupo3 :  {'nombregrupo': 'The jackets', 'nacionalidad': 'Suiza', 'genero': 'RnR'}\n",
      "      grupo4 :  {'nombregrupo': 'The Cynics', 'nacionalidad': 'USA', 'genero': 'garage'}\n",
      "      grupo5 :  {'nombregrupo': 'Barrence Withfield', 'nacionalidad': 'USA', 'genero': 'Soul and RnB'}\n",
      "      grupo6 :  {'nombregrupo': 'Lie detectors', 'nacionalidad': 'Spain', 'genero': 'GarageRnB'}\n",
      "Incluso mejor: \n",
      "     grupo1\n",
      "     -  nombregrupo :  The Fleshtones\n",
      "     -  nacionalidad :  USA\n",
      "     -  genero :  garageRnR\n",
      "     grupo2\n",
      "     -  nombregrupo :  Billy Childish\n",
      "     -  nacionalidad :  UK\n",
      "     -  genero :  garage\n",
      "     grupo3\n",
      "     -  nombregrupo :  The jackets\n",
      "     -  nacionalidad :  Suiza\n",
      "     -  genero :  RnR\n",
      "     grupo4\n",
      "     -  nombregrupo :  The Cynics\n",
      "     -  nacionalidad :  USA\n",
      "     -  genero :  garage\n",
      "     grupo5\n",
      "     -  nombregrupo :  Barrence Withfield\n",
      "     -  nacionalidad :  USA\n",
      "     -  genero :  Soul and RnB\n",
      "     grupo6\n",
      "     -  nombregrupo :  Lie detectors\n",
      "     -  nacionalidad :  Spain\n",
      "     -  genero :  GarageRnB\n",
      "________________________________________________________________________________________________________________________________\n",
      "Muestra (si se puede) el 2º elemento del set y el valor del primer clave-valor del diccionario\n",
      "El segundo elemento del conjunto es no se puede seleccionar al ser un conjunto desordenado. Podemos hacerlo iterando\n",
      "el segundo elemento en este caso es: The Fleshtones\n",
      "El grupo1 es: {'nombregrupo': 'The Fleshtones', 'nacionalidad': 'USA', 'genero': 'garageRnR'}\n",
      "El grupo3 es: The jackets y es de nacionalidad Suiza\n",
      "El grupo2 es: {'nombregrupo': 'Billy Childish', 'nacionalidad': 'UK', 'genero': 'garage'}\n",
      "El grupo3 es: The Fleshtones, es de nacionalidad USA y toca garage\n",
      "________________________________________________________________________________________________________________________________\n",
      "Modifica (si se puede) algún elemento del set o del diccionario. Y mostrar el resultado\n",
      "Los elementos de un conjunto no se pueden modificar. Una forma de conseguirlo es añadiendo el deseado y elminando el que contiene la modificación, pero hay que tener en cuenta     que es un conjunto desordenado.\n",
      "{'The Cynics', 'The Fleshtones', 'Johnny Casino', 'Car seat headrest', 'Hombre lobo internacional', 'The jackets', 'The Courettes'}\n",
      "Modificamos la nacionalidad del grupo 3 del diccionario\n",
      "{'nombregrupo': 'The jackets', 'nacionalidad': 'Coreana', 'genero': 'RnR'}\n",
      "________________________________________________________________________________________________________________________________\n",
      "Muestra el tamaño del set y del diccionario\n",
      "La longitud del conjunto de datos es: 7 elementos\n",
      "La longitud del diccionario de datos es: 6 elementos\n",
      "La dimensión del diccionario es de 6 elementos x 3 pares clave-elemento por elemento\n"
     ]
    }
   ],
   "source": [
    "print(\"Crea una set y un diccionario que contengan strings (al menos 3 elementos en el caso del set y 3 conjuntos de clave:valor en el caso del diccionario). Tematica libre, sobre lo que quieras, vehiculos, comida, música, etc.\")\n",
    "setgruposmusicales = {\"The Fleshtones\" , \"Car seat headrest\", \"The jackets\" , \"The Cynics\", \"Johnny Casino\", \"Guadalupe Plata\", \"Hombre lobo internacional\"}\n",
    "print(f\"El set de grupos musicales creado es: {setgruposmusicales}\")\n",
    "diccionariogruposmusicales = {\n",
    "    \"grupo1\": {\n",
    "        \"nombregrupo\" : \"The Fleshtones\",\n",
    "        \"nacionalidad\" : \"USA\",\n",
    "        \"genero\": \"garageRnR\"\n",
    "    },\n",
    "    \"grupo2\": {\n",
    "        \"nombregrupo\" : \"Billy Childish\",\n",
    "        \"nacionalidad\" : \"UK\",\n",
    "        \"genero\": \"garage\"\n",
    "    },\n",
    "    \"grupo3\": {\n",
    "        \"nombregrupo\" : \"The jackets\",\n",
    "        \"nacionalidad\" : \"Suiza\",\n",
    "        \"genero\": \"RnR\"\n",
    "    },\n",
    "    \"grupo4\": {\n",
    "        \"nombregrupo\" : \"The Cynics\",\n",
    "        \"nacionalidad\" : \"USA\",\n",
    "        \"genero\": \"garage\"\n",
    "    },\n",
    "    \"grupo5\": {\n",
    "        \"nombregrupo\" : \"Barrence Withfield\",\n",
    "        \"nacionalidad\" : \"USA\",\n",
    "        \"genero\": \"Soul and RnB\"\n",
    "    },\n",
    "    \"grupo6\": {\n",
    "        \"nombregrupo\" : \"Lie detectors\",\n",
    "        \"nacionalidad\" : \"Spain\",\n",
    "        \"genero\": \"GarageRnB\"\n",
    "    }\n",
    "}\n",
    "print(\"El diccionario creado es:\")\n",
    "print(diccionariogruposmusicales)\n",
    "print(\"Para verlo mejor: \")\n",
    "for x in diccionariogruposmusicales:\n",
    "    print(\"     \", x, \": \", diccionariogruposmusicales[x])\n",
    "print(\"Incluso mejor: \")\n",
    "for x in diccionariogruposmusicales:\n",
    "    print(\"    \", x)\n",
    "    for y in diccionariogruposmusicales[x]:\n",
    "        print(\"     - \", y, \": \", diccionariogruposmusicales[x][y])\n",
    "    \n",
    "print(\"________________________________________________________________________________________________________________________________\")\n",
    "print(\"Muestra (si se puede) el 2º elemento del set y el valor del primer clave-valor del diccionario\")\n",
    "print(\"El segundo elemento del conjunto es no se puede seleccionar al ser un conjunto desordenado. Podemos hacerlo iterando\")\n",
    "contador = 0\n",
    "for x in setgruposmusicales:\n",
    "    if contador == 1:\n",
    "        print(f\"el segundo elemento en este caso es: {x}\")\n",
    "    contador+=1  \n",
    "print(f\"El grupo1 es: {diccionariogruposmusicales[\"grupo1\"]}\")\n",
    "print(f\"El grupo3 es: {diccionariogruposmusicales[\"grupo3\"][\"nombregrupo\"]} y es de nacionalidad {diccionariogruposmusicales[\"grupo3\"][\"nacionalidad\"]}\")\n",
    "print(f\"El grupo2 es: {diccionariogruposmusicales[\"grupo2\"]}\")\n",
    "print(f\"El grupo3 es: {diccionariogruposmusicales[\"grupo1\"][\"nombregrupo\"]}, es de nacionalidad {diccionariogruposmusicales[\"grupo1\"][\"nacionalidad\"]} y \\\n",
    "toca {diccionariogruposmusicales[\"grupo2\"][\"genero\"]}\")\n",
    "print(\"________________________________________________________________________________________________________________________________\")\n",
    "print(\"Modifica (si se puede) algún elemento del set o del diccionario. Y mostrar el resultado\")\n",
    "print(\"Los elementos de un conjunto no se pueden modificar. Una forma de conseguirlo es añadiendo el deseado y elminando el que contiene la modificación, pero hay que tener en cuenta\\\n",
    "     que es un conjunto desordenado.\")\n",
    "setgruposmusicales.add(\"The Courettes\")\n",
    "setgruposmusicales.remove(\"Guadalupe Plata\")\n",
    "print(setgruposmusicales)\n",
    "print(\"Modificamos la nacionalidad del grupo 3 del diccionario\")\n",
    "diccionariogruposmusicales[\"grupo3\"][\"nacionalidad\"] = \"Coreana\"\n",
    "print(diccionariogruposmusicales[\"grupo3\"])\n",
    "print(\"________________________________________________________________________________________________________________________________\")\n",
    "print(\"Muestra el tamaño del set y del diccionario\")\n",
    "print(f\"La longitud del conjunto de datos es: {len(setgruposmusicales)} elementos\")\n",
    "print(f\"La longitud del diccionario de datos es: {len(diccionariogruposmusicales)} elementos\")\n",
    "print(f\"La dimensión del diccionario es de {len(diccionariogruposmusicales.keys())} elementos x {len(diccionariogruposmusicales[\"grupo1\"])} pares clave-elemento por elemento\")"
   ]
  },
  {
   "cell_type": "code",
   "execution_count": 3,
   "metadata": {},
   "outputs": [
    {
     "name": "stdout",
     "output_type": "stream",
     "text": [
      "Realiza una búsqueda de un elemento dentro del set y dentro del diccionario. Mostrar si devuelve True o False\n",
      "¿Se encuentra el elemento The Cynics en el conjunto de datos? --> True\n",
      "¿Se encuentra el elemento The Mystery lights en el conjunto de datos? --> False\n",
      "_______________________________________________________________________________\n",
      "¿Se encuentra el elemento The Mystery lights en el diccionario de datos?\n",
      "El grupo The Cynics está en el diccionario en el grupo llamado grupo4 --> True\n",
      "El grupo The Mystery lights no se encuentra en el diccionario --> False\n"
     ]
    }
   ],
   "source": [
    "print(\"Realiza una búsqueda de un elemento dentro del set y dentro del diccionario. Mostrar si devuelve True o False\")\n",
    "elementobuscado = \"The Cynics\"\n",
    "print(f\"¿Se encuentra el elemento {elementobuscado} en el conjunto de datos? --> {elementobuscado in setgruposmusicales}\")\n",
    "elementobuscado = \"The Mystery lights\"\n",
    "print(f\"¿Se encuentra el elemento {elementobuscado} en el conjunto de datos? --> {elementobuscado in setgruposmusicales}\")\n",
    "print(\"_______________________________________________________________________________\")\n",
    "print(f\"¿Se encuentra el elemento {elementobuscado} en el diccionario de datos?\")\n",
    "elementobuscado = \"The Cynics\"\n",
    "encontrado = False\n",
    "for x in diccionariogruposmusicales:\n",
    "   if elementobuscado == diccionariogruposmusicales[x]['nombregrupo']:\n",
    "      print(f\"El grupo {elementobuscado} está en el diccionario en el grupo llamado {x} --> {elementobuscado in diccionariogruposmusicales[x]['nombregrupo']}\")\n",
    "      encontrado = True\n",
    "if encontrado == False:\n",
    "   print(f\"El grupo {elementobuscado} no se encuentra en el diccionario --> {encontrado}\")\n",
    "elementobuscado = \"The Mystery lights\"\n",
    "encontrado = False\n",
    "for x in diccionariogruposmusicales:\n",
    "   if elementobuscado == diccionariogruposmusicales[x]['nombregrupo']:\n",
    "      print(f\"El grupo {elementobuscado} está en el diccionario en el grupo llamado {x} --> {elementobuscado in diccionariogruposmusicales[x]['nombregrupo']}\")\n",
    "      encontrado = True\n",
    "if encontrado == False:\n",
    "   print(f\"El grupo {elementobuscado} no se encuentra en el diccionario --> {encontrado}\") \n",
    "\n",
    "\n"
   ]
  },
  {
   "cell_type": "code",
   "execution_count": 4,
   "metadata": {},
   "outputs": [
    {
     "name": "stdout",
     "output_type": "stream",
     "text": [
      "Añade (si se puede) algún elemento al set y algun clave-valor al diccionario. Mostrar de nuevo el set y el diccionario para verificar si se ha realizado correctamente la acción.\n",
      "Al añadir elementos a un conjunto, es el sistema quien decide dónde incluirlos\n",
      "Antes de incluirlos\n",
      "{'The Cynics', 'The Fleshtones', 'Johnny Casino', 'Car seat headrest', 'Hombre lobo internacional', 'The jackets', 'The Courettes'}\n",
      "Insertamos el grupo Me first and the gimme gimmies\n",
      "{'The Cynics', 'The jackets', 'Me first and the gimme gimmies', 'The Fleshtones', 'The Courettes', 'Johnny Casino', 'Car seat headrest', 'Hombre lobo internacional'}\n",
      "{'grupo1': {'nombregrupo': 'The Fleshtones', 'nacionalidad': 'USA', 'genero': 'garageRnR'}, 'grupo2': {'nombregrupo': 'Billy Childish', 'nacionalidad': 'UK', 'genero': 'garage'}, 'grupo3': {'nombregrupo': 'The jackets', 'nacionalidad': 'Coreana', 'genero': 'RnR'}, 'grupo4': {'nombregrupo': 'The Cynics', 'nacionalidad': 'USA', 'genero': 'garage'}, 'grupo5': {'nombregrupo': 'Barrence Withfield', 'nacionalidad': 'USA', 'genero': 'Soul and RnB'}, 'grupo6': {'nombregrupo': 'Lie detectors', 'nacionalidad': 'Spain', 'genero': 'GarageRnB'}, 'grupo7': {'nombregrupo': 'The Kaisers', 'nacionalidad': 'UK', 'genero': 'beatRnBlues'}}\n",
      "___________________________________________________________________________________________________________________________________________________________\n",
      "Borra o elimina (si se puede) el contenido del set y del diccionario. Mosstrar de nuevo el set y el diccionario para verificar si se ha realizado correctamente la acción.\n",
      "{'The Cynics', 'The jackets', 'Me first and the gimme gimmies', 'The Fleshtones', 'The Courettes', 'Johnny Casino', 'Car seat headrest', 'Hombre lobo internacional'}\n",
      "{'The jackets', 'Me first and the gimme gimmies', 'The Fleshtones', 'The Courettes', 'Johnny Casino', 'Car seat headrest', 'Hombre lobo internacional'}\n",
      "grupo2\n",
      "{'grupo1': {'nombregrupo': 'The Fleshtones', 'nacionalidad': 'USA', 'genero': 'garageRnR'}, 'grupo3': {'nombregrupo': 'The jackets', 'nacionalidad': 'Coreana', 'genero': 'RnR'}, 'grupo4': {'nombregrupo': 'The Cynics', 'nacionalidad': 'USA', 'genero': 'garage'}, 'grupo5': {'nombregrupo': 'Barrence Withfield', 'nacionalidad': 'USA', 'genero': 'Soul and RnB'}, 'grupo6': {'nombregrupo': 'Lie detectors', 'nacionalidad': 'Spain', 'genero': 'GarageRnB'}, 'grupo7': {'nombregrupo': 'The Kaisers', 'nacionalidad': 'UK', 'genero': 'beatRnBlues'}}\n"
     ]
    }
   ],
   "source": [
    "diccionariogruposmusicales2 = diccionariogruposmusicales.copy()\n",
    "print(\"Añade (si se puede) algún elemento al set y algun clave-valor al diccionario. Mostrar de nuevo el set y el diccionario para verificar si se ha realizado correctamente la acción.\")\n",
    "print(\"Al añadir elementos a un conjunto, es el sistema quien decide dónde incluirlos\")\n",
    "print(\"Antes de incluirlos\")\n",
    "print(setgruposmusicales)\n",
    "print(\"Insertamos el grupo Me first and the gimme gimmies\")\n",
    "setgruposmusicales.add(\"Me first and the gimme gimmies\")\n",
    "print(setgruposmusicales)\n",
    "\n",
    "ultimogrupo = f\"grupo{len(diccionariogruposmusicales2)+1}\"\n",
    "elementoparadic = {\n",
    "        \"nombregrupo\" : \"The Kaisers\",\n",
    "        \"nacionalidad\" : \"UK\",\n",
    "        \"genero\": \"beatRnBlues\"\n",
    "    }\n",
    "diccionariogruposmusicales2[ultimogrupo] = elementoparadic\n",
    "print(diccionariogruposmusicales2)\n",
    "print(\"___________________________________________________________________________________________________________________________________________________________\")\n",
    "print(\"Borra o elimina (si se puede) el contenido del set y del diccionario. Mosstrar de nuevo el set y el diccionario para verificar si se ha realizado correctamente la acción.\")\n",
    "print(setgruposmusicales)\n",
    "setgruposmusicales.add(\"The Cynics\")\n",
    "setgruposmusicales.remove(\"The Cynics\")\n",
    "print(setgruposmusicales)\n",
    "print(list(diccionariogruposmusicales2.keys())[1])\n",
    "diccionariogruposmusicales2.pop(list(diccionariogruposmusicales2.keys())[1])\n",
    "print(diccionariogruposmusicales2)"
   ]
  },
  {
   "cell_type": "markdown",
   "metadata": {},
   "source": [
    "**3) Realizar un programa que pida al usuario 3 números que pueden ser flotantes (no es necesario realizar bucles aún, podemos repetir el código), estos números se deberán introducir en una lista. Cuando se haya finalizado la introducción de los datos, se mostrará el sumatorio de toda la lista. Guardar el sumatorio en una variable que se llame \"sumatorio\"**\n",
    "\n",
    "*Ayuda: Existe una función llamada sum(lista) ¡Pruébalo!*"
   ]
  },
  {
   "cell_type": "code",
   "execution_count": 5,
   "metadata": {},
   "outputs": [
    {
     "name": "stdout",
     "output_type": "stream",
     "text": [
      "Los valores introducidos no son del tipo adecuado\n"
     ]
    }
   ],
   "source": [
    "valor1 = (input(\"Introduzca el primer número real: \"))\n",
    "valor2 = (input(\"Introduzca el primer número real: \"))\n",
    "valor3 = (input(\"Introduzca el primer número real: \"))\n",
    "try:\n",
    "    valor1 = float(valor1)\n",
    "    valor2 = float(valor2)\n",
    "    valor3 = float(valor3)\n",
    "except ValueError:\n",
    "    print(\"Los valores introducidos no son del tipo adecuado\")\n",
    "else:\n",
    "    if isinstance(valor1, float) and isinstance(valor2, float) and isinstance(valor3, float):\n",
    "        lista = [valor1, valor2, valor3]\n",
    "        #Opción 1\n",
    "        sumatorio = 0.0\n",
    "        for x in lista:\n",
    "            sumatorio += x\n",
    "        print(f\"La suma de los valores es: {sumatorio}\")\n"
   ]
  },
  {
   "cell_type": "markdown",
   "metadata": {},
   "source": [
    "**4) Sobre el ejercicio anterior, queremos mostrar la media aritmética de los elementos de esa lista. Indicar la instrucción necesaria para obtenerla.**\n",
    "\n",
    "*En este caso sabemos que el número de elementos que ha introducido el usuario es 3, pero en otra ocasión podría ser diferente, por lo tanto, no hagáis referencia al número 3 en ningún sitio*"
   ]
  },
  {
   "cell_type": "code",
   "execution_count": 6,
   "metadata": {},
   "outputs": [
    {
     "ename": "NameError",
     "evalue": "name 'sumatorio' is not defined",
     "output_type": "error",
     "traceback": [
      "\u001b[1;31m---------------------------------------------------------------------------\u001b[0m",
      "\u001b[1;31mNameError\u001b[0m                                 Traceback (most recent call last)",
      "Cell \u001b[1;32mIn[6], line 1\u001b[0m\n\u001b[1;32m----> 1\u001b[0m media \u001b[38;5;241m=\u001b[39m \u001b[43msumatorio\u001b[49m\u001b[38;5;241m/\u001b[39m\u001b[38;5;28mlen\u001b[39m(lista)\n\u001b[0;32m      2\u001b[0m \u001b[38;5;28mprint\u001b[39m(\u001b[38;5;124mf\u001b[39m\u001b[38;5;124m\"\u001b[39m\u001b[38;5;124mLa media aritmética es: \u001b[39m\u001b[38;5;132;01m{\u001b[39;00m\u001b[38;5;124m\"\u001b[39m\u001b[38;5;132;01m{:10.3f}\u001b[39;00m\u001b[38;5;124m\"\u001b[39m\u001b[38;5;241m.\u001b[39mformat(media)\u001b[38;5;132;01m}\u001b[39;00m\u001b[38;5;124m\"\u001b[39m)\n",
      "\u001b[1;31mNameError\u001b[0m: name 'sumatorio' is not defined"
     ]
    }
   ],
   "source": [
    "media = sumatorio/len(lista)\n",
    "print(f\"La media aritmética es: {\"{:10.3f}\".format(media)}\")"
   ]
  },
  {
   "cell_type": "markdown",
   "metadata": {},
   "source": [
    "**5) Dada la siguiente matriz de notas (una matriz es una lista de listas anidadas) se observa que cada fila es un listado de notas de un alumno, donde en la última posición de cada lista se encuentra el sumatorio de todas las notas anteriores de esa lista. Pero apreciamos que hay varios errores en los sumatorios de varios alumnos, utilizar la técnica de slicing para acceder a estas posiciones y modificar los valores erroneos de la forma más automatizada posible.**\n",
    "\n",
    "* No vale poner directamente los valores:\n",
    "```python\n",
    "notas[1][3] = 60\n",
    "notas[3][3] = 120\n",
    "```\n",
    "* Hay que buscar una forma automatizada de acceder y modificar esos valores"
   ]
  },
  {
   "cell_type": "code",
   "execution_count": null,
   "metadata": {},
   "outputs": [
    {
     "name": "stdout",
     "output_type": "stream",
     "text": [
      "[[10, 10, 10, 30], [20, 20, 20, 60], [30, 30, 30, 90], [50, 50, 50, 150]]\n",
      "[[10, 10, 10, 30], [20, 20, 20, 60], [30, 30, 30, 90], [50, 50, 50, 150]]\n"
     ]
    }
   ],
   "source": [
    "notas = [ \n",
    "    [10, 10, 10, 30],\n",
    "    [20, 20, 20, 70],\n",
    "    [30, 30, 30, 90],\n",
    "    [50, 50, 50, 130]\n",
    "]\n",
    "notas2 = notas\n",
    "\n",
    "#Opcion 1: \n",
    "notas2[0][3] = notas2[0][0]+notas2[0][1]+notas2[0][2]\n",
    "notas2[1][3] = notas2[1][1]+notas2[1][1]+notas2[1][2]\n",
    "notas2[2][3] = notas2[2][0]+notas2[2][1]+notas2[2][2]\n",
    "notas2[3][3] = notas2[3][0]+notas2[3][1]+notas2[3][2]\n",
    "print(notas2)\n",
    "\n",
    "notas3 = notas\n",
    "#Opcion 2\n",
    "for x in range(0,3):\n",
    "    notas3[x][3] = notas3[x][0]+notas3[x][1]+notas3[x][2]\n",
    "print(notas3)"
   ]
  },
  {
   "cell_type": "markdown",
   "metadata": {},
   "source": [
    "**6) Supongamos que obtenemos una cadena de texto corrupta, esta al revés. Esta cadena contiene el nombre y el año de nacimiento de una persona. Formatear dicha cadena para obtener el siguiente formato:**\n",
    "\n",
    "* Empleado ***Nombre*** ***Apellido*** nacido en el año ***Año***\n",
    "\n",
    "*Pista: Para invertir el orden una cadena usando técnicas de slicing se puede utilizar un tercer índice -1: cadena[::-1]*\n"
   ]
  },
  {
   "cell_type": "code",
   "execution_count": null,
   "metadata": {},
   "outputs": [
    {
     "name": "stdout",
     "output_type": "stream",
     "text": [
      "1985,Carlos Perez\n",
      "Carlos Perez\n",
      "1985\n",
      "Empleado Carlos Perez nacido el año 1,985\n"
     ]
    }
   ],
   "source": [
    "cadena = \"zereP solraC,5891\"\n",
    "cadena = cadena[len(cadena)::-1]\n",
    "print(cadena)\n",
    "posicioncoma = cadena.find(\",\")\n",
    "nombre = cadena[posicioncoma+1:]\n",
    "print(nombre)\n",
    "añonacimiento = cadena[:posicioncoma]\n",
    "print(añonacimiento)\n",
    "print(f\"Empleado {nombre.title()} nacido el año {\"{:,}\".format(int(añonacimiento))}\")\n"
   ]
  },
  {
   "cell_type": "markdown",
   "metadata": {},
   "source": [
    "**7) Practiquemos con conjuntos:**\n",
    "* Crea un conjunto llamado mamíferos que tenga los elementos Gato, León, Caballo, Ballena y Tortuga\n",
    "* Crea un conjunto llamado peces que tenga los elementos Ballena y Sardina\n",
    "* Borra la Tortuga del conjunto mamiíferos\n",
    "* Añade el Pez Payaso al conjunto peces\n",
    "* Imprime los conjuntos por pantalla\n",
    "* Imprime por pantalla los elementos que se encuentren en ambos conjuntos, es decir, que sean mamíferos y peces"
   ]
  },
  {
   "cell_type": "code",
   "execution_count": null,
   "metadata": {},
   "outputs": [
    {
     "name": "stdout",
     "output_type": "stream",
     "text": [
      "{'Gato', 'Tortuga', 'León', 'Ballena'}\n",
      "{'Tortuga', 'Ballena'}\n",
      "{'Gato', 'León', 'Ballena'}\n",
      "{'Tortuga', 'Pez Payaso', 'Ballena'}\n",
      "Salida con la opción 1 = ['Delfín', 'Ballena']\n",
      "Salida con la opción 2 = ['Delfín', 'Ballena']\n"
     ]
    }
   ],
   "source": [
    "mamiferos = {\"Gato\", \"León\", \"Ballena\", \"Tortuga\"}\n",
    "peces = {\"Ballena\", \"Tortuga\"}\n",
    "print(mamiferos)\n",
    "print(peces)\n",
    "mamiferos.remove(\"Tortuga\")\n",
    "print(mamiferos)\n",
    "peces.add(\"Pez Payaso\")\n",
    "print(peces)\n",
    "peces.add(\"Delfín\")\n",
    "mamiferos.add(\"Delfín\")\n",
    "salida = []\n",
    "#Opcion 1\n",
    "for x in mamiferos:\n",
    "    if x in peces:\n",
    "        salida.append(x)\n",
    "print(f\"Salida con la opción 1 = {salida}\")\n",
    "#Opcion 2\n",
    "salida = [x for x in mamiferos if x in peces]\n",
    "print(f\"Salida con la opción 2 = {salida}\")"
   ]
  },
  {
   "cell_type": "markdown",
   "metadata": {},
   "source": [
    "**8) Practiquemos con diccionarios. Tenemos un diccionario que contiene una serie de productos. Realicemos las tres siguientes tareas:**\n",
    "* Ver productos\n",
    "* Subir el precio a todos los productos\n",
    "* Volver a ver todos los precios (para comprobar que el precio ha subido)\n",
    "\n",
    "Al inicio del programa, se mostrarán todos los productos, tienen que aparecer ordenados con el siguiente formato: <br><code>1 - Arduino - 30€</code><br>\n",
    "Posteriormente, a todos los productos se aplicará una subida del 50% a todos los precios de productos.<br>\n",
    "Y finalmente volveremos a mostrar todos los productos para comprobar la subida de precios."
   ]
  },
  {
   "cell_type": "code",
   "execution_count": null,
   "metadata": {},
   "outputs": [
    {
     "name": "stdout",
     "output_type": "stream",
     "text": [
      "Antes de la subida de precios:\n",
      "1 - Arduino - 30 €\n",
      "2 - RPi - 70 €\n",
      "3 - Print 3D - 300 €\n",
      "______________________________________________________________________\n",
      "Tras la subida de precios:\n",
      "1 - Arduino - 40 €\n",
      "2 - RPi - 80 €\n",
      "3 - Print 3D - 310 €\n"
     ]
    }
   ],
   "source": [
    "productos = { 'id':[1,2,3], \n",
    "             'nombre':['Arduino', 'RPi', 'Print 3D'], \n",
    "             'precio': [30, 70, 300] \n",
    "            }\n",
    "print(\"Antes de la subida de precios:\")\n",
    "print(f\"{productos[\"id\"][0]} - {productos[\"nombre\"][0]} - {productos[\"precio\"][0]} €\")\n",
    "print(f\"{productos[\"id\"][1]} - {productos[\"nombre\"][1]} - {productos[\"precio\"][1]} €\")\n",
    "print(f\"{productos[\"id\"][2]} - {productos[\"nombre\"][2]} - {productos[\"precio\"][2]} €\")\n",
    "\n",
    "productos[\"precio\"][0] = productos[\"precio\"][0] + 10\n",
    "productos[\"precio\"][1] = productos[\"precio\"][1] + 10\n",
    "productos[\"precio\"][2] = productos[\"precio\"][2] + 10\n",
    "print(\"______________________________________________________________________\")\n",
    "\n",
    "print(\"Tras la subida de precios:\")\n",
    "print(f\"{productos[\"id\"][0]} - {productos[\"nombre\"][0]} - {productos[\"precio\"][0]} €\")\n",
    "print(f\"{productos[\"id\"][1]} - {productos[\"nombre\"][1]} - {productos[\"precio\"][1]} €\")\n",
    "print(f\"{productos[\"id\"][2]} - {productos[\"nombre\"][2]} - {productos[\"precio\"][2]} €\")\n"
   ]
  }
 ],
 "metadata": {
  "anaconda-cloud": {},
  "kernelspec": {
   "display_name": "Python 3",
   "language": "python",
   "name": "python3"
  },
  "language_info": {
   "codemirror_mode": {
    "name": "ipython",
    "version": 3
   },
   "file_extension": ".py",
   "mimetype": "text/x-python",
   "name": "python",
   "nbconvert_exporter": "python",
   "pygments_lexer": "ipython3",
   "version": "3.12.0"
  }
 },
 "nbformat": 4,
 "nbformat_minor": 1
}
