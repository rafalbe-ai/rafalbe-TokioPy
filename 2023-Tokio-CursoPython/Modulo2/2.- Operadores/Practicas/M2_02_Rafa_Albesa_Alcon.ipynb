{
 "cells": [
  {
   "cell_type": "markdown",
   "metadata": {},
   "source": [
    "# Ejercicios Modulo 2. Operadores\n",
    "\n",
    "Consideraciones a tener en cuenta: \n",
    "\n",
    "* Guardar este documento con el siguiente formato para su entrega: __M2_02_nombre_apellido1_apellido2__\n",
    "* Realizar los ejercicios con las herramientas vistas en las sesiones. Aún no hemos llegado a condicionales ni bucles\n",
    "* Comentar el código\n",
    "* Utilizar nombres de variables apropiados, si vais a guardar una nota, llamar a esa variable nota, no n o x"
   ]
  },
  {
   "cell_type": "markdown",
   "metadata": {},
   "source": [
    "## Ejercicios de operadores y expresiones"
   ]
  },
  {
   "cell_type": "markdown",
   "metadata": {},
   "source": [
    "**1) Crear 5 variables con 5 notas numéricas y realizar la media aritmética. Mostrar el resultado final con un mensaje como este: \"La nota media es 6.0\"**"
   ]
  },
  {
   "cell_type": "code",
   "execution_count": 2,
   "metadata": {},
   "outputs": [
    {
     "name": "stdout",
     "output_type": "stream",
     "text": [
      "La media aritmética de las notas de la clase es 6.5\n"
     ]
    }
   ],
   "source": [
    "# Asignamos los valores a las variables con las notas de la clase.\n",
    "nota1 = 3.4\n",
    "nota2 = 6.0\n",
    "nota3 = 9.1\n",
    "nota4 = 7.6\n",
    "nota5 = 6.4\n",
    "\n",
    "#Calculamos la media aritmética de las notas de la clase.\n",
    "mediaAritmetica = (nota1 + nota2 + nota3 + nota4 + nota5) / 5\n",
    "print(f\"La media aritmética de las notas de la clase es {mediaAritmetica}\")\n"
   ]
  },
  {
   "cell_type": "markdown",
   "metadata": {},
   "source": [
    "**2) Busca en la documentación la forma correcta de redondear el siguiente resultado a tan solo 2 decimales: operacion = (365 / 12) * 14.7**"
   ]
  },
  {
   "cell_type": "code",
   "execution_count": 8,
   "metadata": {},
   "outputs": [
    {
     "name": "stdout",
     "output_type": "stream",
     "text": [
      "El resultado sin redondear es 447.125 y el resultado redondeado es 447.12\n"
     ]
    }
   ],
   "source": [
    "#Calculamos el valor de la operación sin redondear.\n",
    "operacion = (365 / 12) * 14.7\n",
    "'''Redondeamos la operación con dos decimales. Utilizamos la función round(). Podríamos utilizar tamibén las operaciones ceil y floor, que redondean por \n",
    "ababjo y por arriba respectivamente'''\n",
    "operacionRedondeada = round(operacion,2)\n",
    "print(f\"El resultado sin redondear es {operacion} y el resultado redondeado es {operacionRedondeada}\")\n"
   ]
  },
  {
   "cell_type": "markdown",
   "metadata": {},
   "source": [
    "**3) Crea dos variables que almacenen 2 strings (username y password). Realizar las siguientes comprobaciones utilizando operadores lógicos:**\n",
    "* Que la longitud de username sea mayor o igual que tres y menor que diez\n",
    "* Que la password sea igual a \"Tokio\" o que sea igual a \"Python\".\n",
    "<br>La salida por pantalla tiene que ser:\n",
    "    * **Username: True o False** (según se haya evaluado)\n",
    "    * **Password: True o False** (según se haya evaluado)"
   ]
  },
  {
   "cell_type": "code",
   "execution_count": 13,
   "metadata": {},
   "outputs": [
    {
     "name": "stdout",
     "output_type": "stream",
     "text": [
      "Username: False\n",
      "Password: True\n"
     ]
    }
   ],
   "source": [
    "''' Asignamos valores a las variables username y password'''\n",
    "username = \"NombredeUsuario\"\n",
    "password = \"Python\"\n",
    "\n",
    "''' Comprobamos que la longitud del nombre de usuario esté entre 3 y 9'''\n",
    "checkLongitud = len(username)>=3 and len(username)<10\n",
    "''' Comprobamos que el password sea Tokio o Python.'''\n",
    "checkPassword  = (password == \"Tokio\") or (password == \"Python\")\n",
    "'''Imprimimos los resultados obtenidos.'''\n",
    "print(f\"Username: {checkLongitud}\")\n",
    "print(f\"Password: {checkPassword}\")"
   ]
  },
  {
   "cell_type": "markdown",
   "metadata": {},
   "source": [
    "**4) Practiquemos con los operadores de asignación (=, +=, *=, etc.):**\n",
    "* Crea dos variables y asignales los números que quieras\n",
    "* Incrementale a num1 su valor en 1\n",
    "* Decrementale a num2 su valor en 2\n",
    "* Multiplica num1 por 3 y actualiza su valor\n",
    "* Dividide num2 por 2 y actualiza su valor\n",
    "* Muestra los resultados"
   ]
  },
  {
   "cell_type": "code",
   "execution_count": 23,
   "metadata": {},
   "outputs": [
    {
     "name": "stdout",
     "output_type": "stream",
     "text": [
      "Sumamos uno a num1 (1.0), resultando num1 = 2.0\n",
      "Restamos dos a num2 (10.0), resultando num2 = 8.0\n",
      "Multiplicamos el valor de num1 (2.0) por tres, resultando num1 = 6.0\n",
      "Dividimos el valor de num1 (8.0) entre dos, resultando num1 = 4.0\n",
      "El valor de las variables tras las múltimples operaciones es:\n",
      "num1 = 6.0\n",
      "num2 = 4.0\n"
     ]
    }
   ],
   "source": [
    "num1 = 1.0\n",
    "num2 = 10.0\n",
    "print(f\"Sumamos uno a num1 ({num1}), resultando num1 = {(num1+1)}\")\n",
    "num1 += 1.0\n",
    "print(f\"Restamos dos a num2 ({num2}), resultando num2 = {num2-2}\")\n",
    "num2 -= 2\n",
    "print(f\"Multiplicamos el valor de num1 ({num1}) por tres, resultando num1 = {num1*3}\")\n",
    "num1 *= 3\n",
    "print(f\"Dividimos el valor de num1 ({num2}) entre dos, resultando num1 = {num2/2}\")\n",
    "num2 /= 2\n",
    "\n",
    "print(\"El valor de las variables tras las múltimples operaciones es:\")\n",
    "print(f\"num1 = {num1}\")\n",
    "print(f\"num2 = {num2}\")\n"
   ]
  }
 ],
 "metadata": {
  "anaconda-cloud": {},
  "kernelspec": {
   "display_name": "Python 3",
   "language": "python",
   "name": "python3"
  },
  "language_info": {
   "codemirror_mode": {
    "name": "ipython",
    "version": 3
   },
   "file_extension": ".py",
   "mimetype": "text/x-python",
   "name": "python",
   "nbconvert_exporter": "python",
   "pygments_lexer": "ipython3",
   "version": "3.12.0"
  }
 },
 "nbformat": 4,
 "nbformat_minor": 1
}
