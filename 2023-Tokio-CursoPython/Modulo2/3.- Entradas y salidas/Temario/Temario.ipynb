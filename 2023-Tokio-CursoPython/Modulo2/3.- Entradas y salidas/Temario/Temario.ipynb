{
 "cells": [
  {
   "cell_type": "code",
   "execution_count": 5,
   "metadata": {},
   "outputs": [
    {
     "name": "stdout",
     "output_type": "stream",
     "text": [
      "<class 'str'>\n"
     ]
    }
   ],
   "source": [
    "valor = input()\n",
    "print(type(valor))"
   ]
  },
  {
   "cell_type": "code",
   "execution_count": 7,
   "metadata": {},
   "outputs": [
    {
     "name": "stdout",
     "output_type": "stream",
     "text": [
      "Intruce tres valores: \n",
      "['a', 'b', 'c']\n"
     ]
    }
   ],
   "source": [
    "valores = []\n",
    "print(\"Intruce tres valores: \")\n",
    "for k in range(3):\n",
    "    valores.append(input(\"Introduzca un valor: \"))\n",
    "    \n",
    "print(valores)"
   ]
  },
  {
   "cell_type": "code",
   "execution_count": 9,
   "metadata": {},
   "outputs": [
    {
     "name": "stdout",
     "output_type": "stream",
     "text": [
      "un texto: otro texto y un numero: 10\n"
     ]
    }
   ],
   "source": [
    "v = \"otro texto\"\n",
    "n = 10\n",
    "print(\"un texto:\", v, \"y un numero:\", n)"
   ]
  },
  {
   "cell_type": "code",
   "execution_count": 12,
   "metadata": {},
   "outputs": [
    {
     "name": "stdout",
     "output_type": "stream",
     "text": [
      "Un texto\t una tabulación\n",
      "Un texto en una linea...\n",
      " y otro en otra.\n"
     ]
    }
   ],
   "source": [
    "print(\"Un texto\\t una tabulación\")\n",
    "print(\"Un texto en una linea...\\n y otro en otra.\")"
   ]
  },
  {
   "cell_type": "code",
   "execution_count": 13,
   "metadata": {},
   "outputs": [
    {
     "name": "stdout",
     "output_type": "stream",
     "text": [
      "C:\\directorio1\\subdirectorio\n"
     ]
    }
   ],
   "source": [
    "print(r\"C:\\directorio1\\subdirectorio\")"
   ]
  },
  {
   "cell_type": "code",
   "execution_count": 16,
   "metadata": {},
   "outputs": [
    {
     "name": "stdout",
     "output_type": "stream",
     "text": [
      " esto es un \n",
      "      texto multilínea dentro \n",
      "      un print.\n",
      "      Funciona como los comentarios en Python.\n"
     ]
    }
   ],
   "source": [
    "print(\"\"\" esto es un \n",
    "      texto multilínea dentro \n",
    "      un print.\n",
    "      Funciona como los comentarios en Python.\"\"\")"
   ]
  },
  {
   "cell_type": "code",
   "execution_count": 18,
   "metadata": {},
   "outputs": [
    {
     "name": "stdout",
     "output_type": "stream",
     "text": [
      "1 2 3 4\n",
      "1 * 2 * 3 * 4\n",
      "1 * 2 * 3 * 4--FIN"
     ]
    }
   ],
   "source": [
    "print (1,2,3,4)\n",
    "print(1,2,3,4, sep=\" * \")\n",
    "print(1,2,3,4, sep= \" * \", end = \"--FIN\")"
   ]
  },
  {
   "cell_type": "code",
   "execution_count": 24,
   "metadata": {},
   "outputs": [
    {
     "name": "stdout",
     "output_type": "stream",
     "text": [
      "un texto otro texto y un numero 10\n",
      "un numero 10 y un texto otro texto\n",
      "un texto un texto y un numero 32\n"
     ]
    }
   ],
   "source": [
    "texto = \"otro texto\"\n",
    "n = 10\n",
    "c = \"un texto {} y un numero {}\".format(texto,n)\n",
    "print(c)\n",
    "c = \"un numero {1} y un texto {0}\".format(texto, n)\n",
    "print(c)\n",
    "c= \"un texto {t} y un numero {n}\".format(t=\"un texto\", n = 32)\n",
    "print (c)"
   ]
  },
  {
   "cell_type": "code",
   "execution_count": 26,
   "metadata": {},
   "outputs": [
    {
     "name": "stdout",
     "output_type": "stream",
     "text": [
      "Esto es un texto. - Esto es un texto. - Esto es un texto.\n"
     ]
    }
   ],
   "source": [
    "texto = \"Esto es un texto.\"\n",
    "print(\"{t} - {t} - {t}\".format(t=texto))"
   ]
  },
  {
   "cell_type": "code",
   "execution_count": 44,
   "metadata": {},
   "outputs": [
    {
     "name": "stdout",
     "output_type": "stream",
     "text": [
      "                                                                   aligned right in 100 chars length\n",
      "aligned to left in 100 chars length\n",
      "                                centered in a 100 char lenght string                                \n"
     ]
    }
   ],
   "source": [
    "\"\"\"Alineaciones de texto\"\"\"\n",
    "#1.- A la izquierda\n",
    "print(\"{:>100}\".format(\"aligned right in 100 chars length\"))\n",
    "print(\"{:10}\".format(\"aligned to left in 100 chars length\"))\n",
    "print(\"{:^100}\".format(\"centered in a 100 char lenght string\"))"
   ]
  },
  {
   "cell_type": "code",
   "execution_count": 52,
   "metadata": {},
   "outputs": [
    {
     "name": "stdout",
     "output_type": "stream",
     "text": [
      "truncamos los \n",
      "                                           truncamos los                                            \n"
     ]
    }
   ],
   "source": [
    "#Truncar un cadena de caracteres\n",
    "print(\"{:.14}\".format(\"truncamos los primerso 14 caracetes de la cadena\"))\n",
    "print(\"{:^100.14}\".format(\"truncamos los primerso 14 caracetes de la cadena y centramos en 100 chars\"))"
   ]
  },
  {
   "cell_type": "code",
   "execution_count": 54,
   "metadata": {},
   "outputs": [
    {
     "name": "stdout",
     "output_type": "stream",
     "text": [
      "0010\n",
      "0100\n",
      "1000\n"
     ]
    }
   ],
   "source": [
    "print(\"{:04d}\".format(10))\n",
    "print(\"{:04d}\".format(100))\n",
    "print(\"{:04d}\".format(1000))"
   ]
  },
  {
   "cell_type": "code",
   "execution_count": 56,
   "metadata": {},
   "outputs": [
    {
     "name": "stdout",
     "output_type": "stream",
     "text": [
      "123456.1234\n"
     ]
    }
   ],
   "source": [
    "print(\"{:07.4f}\".format(123456.1234))"
   ]
  }
 ],
 "metadata": {
  "kernelspec": {
   "display_name": "Python 3",
   "language": "python",
   "name": "python3"
  },
  "language_info": {
   "codemirror_mode": {
    "name": "ipython",
    "version": 3
   },
   "file_extension": ".py",
   "mimetype": "text/x-python",
   "name": "python",
   "nbconvert_exporter": "python",
   "pygments_lexer": "ipython3",
   "version": "3.12.0"
  }
 },
 "nbformat": 4,
 "nbformat_minor": 2
}
