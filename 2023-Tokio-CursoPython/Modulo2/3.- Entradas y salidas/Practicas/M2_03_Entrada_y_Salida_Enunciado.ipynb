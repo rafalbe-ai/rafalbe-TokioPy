{
 "cells": [
  {
   "cell_type": "markdown",
   "metadata": {},
   "source": [
    "# Ejercicios Modulo 2. Entrada y salida de datos\n",
    "\n",
    "Consideraciones a tener en cuenta: \n",
    "\n",
    "* Guardar este documento con el siguiente formato para su entrega: __M2_03_nombre_apellido1_apellido2__\n",
    "* Realizar los ejercicios con las herramientas vistas en las sesiones. Aún no hemos llegado a condicionales ni bucles\n",
    "* Comentar el código\n",
    "* Utilizar nombres de variables apropiados, si vais a guardar una nota, llamar a esa variable nota, no n o x"
   ]
  },
  {
   "cell_type": "markdown",
   "metadata": {},
   "source": [
    "## Ejercicios de entrada y salida"
   ]
  },
  {
   "cell_type": "markdown",
   "metadata": {},
   "source": [
    "**1) Utiliza el método input() para realizar las siguientes tareas:**\n",
    "\n",
    "* Pide un número por teclado, muestra el resultado y su tipo (para conocer en que tipo de dato captura la información input())\n",
    "* Pide un número por teclado y asegurate de que capturemos la información en formato int\n",
    "* Pide un número por teclado y asegurate de que capturemos la información en formato float\n",
    "\n",
    "__Comprobar con type que los datos son del tipo correcto__"
   ]
  },
  {
   "cell_type": "code",
   "execution_count": 30,
   "metadata": {},
   "outputs": [
    {
     "name": "stdout",
     "output_type": "stream",
     "text": [
      "El tipo de 1 es <class 'str'>\n",
      "El tipo de 2 es <class 'int'>\n",
      "El tipo de 2.4 es <class 'float'>\n"
     ]
    }
   ],
   "source": [
    "numero = input(\"Introduzca un número: \")\n",
    "print(f\"El tipo de {numero} es {type(numero)}\")\n",
    "try:\n",
    "    numero = int(input(\"Introduzca un número entero: \"))\n",
    "    print(f\"El tipo de {numero} es {type(numero)}\")\n",
    "except ValueError:\n",
    "    print(\"El valor introducido no es un número entero.\")\n",
    "try:\n",
    "    numero = float(input(\"Introduzca un número real: \"))\n",
    "    print(f\"El tipo de {numero} es {type(numero)}\")\n",
    "except ValueError:\n",
    "    print(\"El valor introducido no es un número real.\")\n"
   ]
  },
  {
   "cell_type": "markdown",
   "metadata": {},
   "source": [
    "**2) Vamos a formatear números:**\n",
    "\n",
    "* Pide un numero entero por teclado\n",
    "* Muéstralo con el formato de 5 dígitos rellenos con 0s por delante\n",
    "* Pide un número flotante por teclado\n",
    "* Muéstralo con 5 dígitos para la parte entera y 3 dígitos para la parte decimal"
   ]
  },
  {
   "cell_type": "code",
   "execution_count": 14,
   "metadata": {},
   "outputs": [
    {
     "name": "stdout",
     "output_type": "stream",
     "text": [
      "00001\n",
      "00001.000\n"
     ]
    }
   ],
   "source": [
    "try:\n",
    "    numero = int(input(\"Introduzca un número entero: \"))\n",
    "    print(\"{:05d}\".format(numero))\n",
    "except ValueError:\n",
    "    print(\"El valor introducido no es un número real.\")    \n",
    "    \n",
    "try:\n",
    "    numero = float(input(\"Introduzca un número real: \"))\n",
    "    print(\"{:09.3f}\".format(numero))\n",
    "except ValueError:\n",
    "    print(\"El valor introducido no es un número real.\")    "
   ]
  },
  {
   "cell_type": "markdown",
   "metadata": {},
   "source": [
    "**3) Vamos a ponernos creativos. ¿Cuántas formas tienes de mostrar esta información?**<bR>\n",
    "<code>La altura es de 1,80 metros y el peso es de 80,135 KG</code>\n",
    "    \n",
    "Siendo la altura y el peso dos variables que se recojan con 2 inputs\n",
    "    \n",
    "__Pista: format() se puede usar de varias formas__"
   ]
  },
  {
   "cell_type": "code",
   "execution_count": 31,
   "metadata": {},
   "outputs": [
    {
     "name": "stdout",
     "output_type": "stream",
     "text": [
      "La altura es de  1.85  metros y el peso es de  98.3  KG\n",
      "La altura es de 1.85 metros y el peso es de 98.3 KG\n",
      "La altura es de 1.85 metros y el peso es de 98.3 KG\n",
      "La altura es de 1.85 metros y el peso es de 98.3 KG\n",
      "La altura es de 1.85 metros el peso es de 98.3 KG\n",
      "La altura es de 1.85 metros y el peso es de 98.30 KG\n"
     ]
    },
    {
     "ename": "",
     "evalue": "",
     "output_type": "error",
     "traceback": [
      "\u001b[1;31mEl Kernel se bloqueó al ejecutar código en la celda actual o en una celda anterior. Revise el código de las celdas para identificar una posible causa del error. Haga clic <a href='https://aka.ms/vscodeJupyterKernelCrash'>aquí</a> para obtener más información. Vea el [registro] de Jupyter (command:jupyter.viewOutput) para obtener más detalles."
     ]
    }
   ],
   "source": [
    "try:\n",
    "    altura = float(input(\"Introduzca su altura: \"))\n",
    "    peso = float(input(\"Introduzca su peso (si no es indiscreción): \"))\n",
    "\n",
    "except ValueError:\n",
    "    print(\"Los datos introducidos no son correctos.\") \n",
    "#Directa. No tiene formateo más que de posición en la impresión.\n",
    "print(\"La altura es de \", altura, \" metros y el peso es de \", peso, \" KG\")   \n",
    "print(\"La altura es de {} metros y el peso es de {} KG\".format(altura,peso))\n",
    "print(\"La altura es de {1} metros y el peso es de {0} KG\".format(peso,altura))\n",
    "print(\"La altura es de {a} metros y el peso es de {p} KG\".format(a=altura,p=peso))\n",
    "print(f\"La altura es de {altura} metros el peso es de {peso} KG\")\n",
    "print(f\"La altura es de {\"{:03.2f}\".format(altura)} metros y el peso es de {\"{:#5.2f}\".format(peso)} KG\")   "
   ]
  }
 ],
 "metadata": {
  "anaconda-cloud": {},
  "kernelspec": {
   "display_name": "Python 3",
   "language": "python",
   "name": "python3"
  },
  "language_info": {
   "codemirror_mode": {
    "name": "ipython",
    "version": 3
   },
   "file_extension": ".py",
   "mimetype": "text/x-python",
   "name": "python",
   "nbconvert_exporter": "python",
   "pygments_lexer": "ipython3",
   "version": "3.12.0"
  }
 },
 "nbformat": 4,
 "nbformat_minor": 1
}
