{
 "cells": [
  {
   "cell_type": "markdown",
   "metadata": {},
   "source": [
    "# Ejercicios Modulo 2. Operadores (Soluciones)\n",
    "\n",
    "Consideraciones a tener en cuenta: \n",
    "\n",
    "* Guardar este documento con el siguiente formato para su entrega: __M2_02_nombre_apellido1_apellido2__\n",
    "* Realizar los ejercicios con las herramientas vistas en las sesiones. Aún no hemos llegado a condicionales ni bucles\n",
    "* Comentar el código\n",
    "* Utilizar nombres de variables apropiados, si vais a guardar una nota, llamar a esa variable nota, no n o x"
   ]
  },
  {
   "cell_type": "markdown",
   "metadata": {},
   "source": [
    "## Ejercicios de operadores y expresiones"
   ]
  },
  {
   "cell_type": "markdown",
   "metadata": {},
   "source": [
    "**1) Crear 5 variables con 5 notas numéricas y realizar la media aritmética. Mostrar el resultado final con un mensaje como este: \"La nota media es 6.0\"**"
   ]
  },
  {
   "cell_type": "code",
   "execution_count": 1,
   "metadata": {},
   "outputs": [
    {
     "name": "stdout",
     "output_type": "stream",
     "text": [
      "La nota media es 7.0\n"
     ]
    }
   ],
   "source": [
    "nota_1 = 9\n",
    "nota_2 = 3\n",
    "nota_3 = 6\n",
    "nota_4 = 7\n",
    "nota_5 = 10\n",
    "\n",
    "# Hay que realizar primero la suma de los 5 números antes de dividir\n",
    "media = (nota_1 + nota_2 + nota_3 + nota_4 + nota_5) / 5  \n",
    "print(\"La nota media es\", media)"
   ]
  },
  {
   "cell_type": "markdown",
   "metadata": {},
   "source": [
    "Explicación:\n",
    "El orden de precedencia en Python establece el orden en el que se evalúan los operadores en una expresión matemática. En general, se sigue la convención estándar de precedencia de operadores matemáticos.\n",
    "\n",
    "En el caso específico de la expresión __media = (nota_1 + nota_2 + nota_3 + nota_4 + nota_5) / 5__, se evalúa primero la suma de las notas __nota_1 + nota_2 + nota_3 + nota_4 + nota_5__ y luego se realiza la división por 5.\n",
    "\n",
    "La razón por la cual se realiza primero la suma antes de la división es debido a la precedencia de operadores en matemáticas. En este caso, la suma tiene mayor precedencia que la división. Al agrupar la suma entre paréntesis __(nota_1 + nota_2 + nota_3 + nota_4 + nota_5)__, aseguramos que se evalúa primero la suma antes de realizar la división.\n",
    "\n",
    "Si se omitieran los paréntesis y se escribiera la expresión de la siguiente manera:\n",
    "\n",
    "__media = nota_1 + nota_2 + nota_3 + nota_4 + nota_5 / 5__\n",
    "Se evaluaría primero la división __nota_5 / 5__ y luego se realizaría la suma de las notas. Esto daría un resultado incorrecto, ya que se estaría dividiendo solo la última nota por 5, en lugar de sumar todas las notas y luego dividir el resultado por 5.\n",
    "\n",
    "En resumen, el uso de paréntesis en la expresión __(nota_1 + nota_2 + nota_3 + nota_4 + nota_5)__ establece explícitamente el orden de evaluación y asegura que primero se realice la suma antes de la división, siguiendo el orden de precedencia de operadores matemáticos.\n",
    "\n",
    "A continuación el orden de precedencia de los operadores:\n",
    "\n",
    "| Precedencia | Operadores        | Descripción                      |\n",
    "|-------------|-------------------|----------------------------------|\n",
    "| 1           | `()`              | Paréntesis                       |\n",
    "| 2           | `**`              | Potencia                         |\n",
    "| 3           | `*`, `/`, `%`     | Multiplicación, división, módulo |\n",
    "| 4           | `+`, `-`          | Suma, resta                      |\n",
    "| 5           | `<`, `<=`, `>`, `>=`, `==`, `!=` | Comparación            |\n",
    "| 6           | `not`             | Negación lógica (unario)         |\n",
    "| 7           | `and`             | Conjunción lógica                |\n",
    "| 8           | `or`              | Disyunción lógica                |\n"
   ]
  },
  {
   "cell_type": "markdown",
   "metadata": {},
   "source": [
    "**2) Busca en la documentación la forma correcta de redondear el siguiente resultado a tan solo 2 decimales: operacion = (365 / 12) * 14.7**"
   ]
  },
  {
   "cell_type": "code",
   "execution_count": 1,
   "metadata": {},
   "outputs": [
    {
     "name": "stdout",
     "output_type": "stream",
     "text": [
      "447.125\n",
      "447.12\n"
     ]
    }
   ],
   "source": [
    "# Realizar la operación: dividir 365 entre 12.36 y luego multiplicar por 14.7. \n",
    "# Muy importante la precedencia con los ()\n",
    "operacion = (365 / 12) * 14.7\n",
    "\n",
    "# Imprimir el resultado de la operación sin redondear\n",
    "print(operacion)\n",
    "\n",
    "# Imprimir el resultado de la operación redondeado a 2 decimales\n",
    "print(round(operacion, 2))"
   ]
  },
  {
   "cell_type": "markdown",
   "metadata": {},
   "source": [
    "**3) Crea dos variables que almacenen 2 strings (username y password). Realizar las siguientes comprobaciones utilizando operadores lógicos:**\n",
    "* Que la longitud de username sea mayor o igual que tres y menor que diez\n",
    "* Que la password sea igual a \"Tokio\" o que sea igual a \"Python\".\n",
    "<br>La salida por pantalla tiene que ser:\n",
    "    * **Username: True o False** (según se haya evaluado)\n",
    "    * **Password: True o False** (según se haya evaluado)"
   ]
  },
  {
   "cell_type": "code",
   "execution_count": 2,
   "metadata": {},
   "outputs": [
    {
     "name": "stdout",
     "output_type": "stream",
     "text": [
      "Escribe un nombre de usuario: Cristian\n",
      "Escribe una contraseña: Tokio\n",
      "Username: True\n",
      "Password: True\n"
     ]
    }
   ],
   "source": [
    "# Solicitar al usuario que ingrese un nombre de usuario\n",
    "# Input recoge la información en formato string\n",
    "username = input(\"Escribe un nombre de usuario: \") \n",
    "\n",
    "# Solicitar al usuario que ingrese una contraseña\n",
    "# Input recoge la info en formato string\n",
    "password = input(\"Escribe una contraseña: \") \n",
    "\n",
    "# Comprobar la longitud del nombre de usuario y evaluar si está entre 6 y 10 caracteres\n",
    "# La función len() devuelve la longitud de una cadena de texto\n",
    "# En este caso, se utiliza len(username) para obtener la longitud del nombre de usuario\n",
    "# La expresión len(username) >= 6 and len(username) < 10 evalúa si la longitud del  \n",
    "# nombre de usuario cumple con la condición establecida\n",
    "# El operador and se utiliza para evaluar si ambas condiciones son verdaderas\n",
    "print(\"Username:\", len(username) >= 6 and len(username) < 10)\n",
    "\n",
    "# Comprobar si la contraseña coincide con una de las opciones establecidas \n",
    "# (\"Tokio\" o \"Python\")\n",
    "# La expresión password == \"Tokio\" or password == \"Python\" evalúa si la contraseña \n",
    "# es igual a \"Tokio\" o a \"Python\"\n",
    "# El operador or se utiliza para evaluar si al menos una de las condiciones es True\n",
    "print(\"Password:\", password == \"Tokio\" or password == \"Python\")"
   ]
  },
  {
   "cell_type": "markdown",
   "metadata": {},
   "source": [
    "#### A continuación se detalla un fallo común. \n",
    "En muchas ocasiones estamos tentados a realizar lo siguiente: <br>\n",
    "**print(\"Username:\", len(username) >= 6 and < 10)**\n",
    "\n",
    "<br>En Python, la sentencia **print(\"Username:\", len(username) >= 6 and < 10)** está mal formada debido a una falta de expresión después del operador and.\n",
    "\n",
    "La intención de la expresión es evaluar dos condiciones simultáneamente:\n",
    "\n",
    "- La primera condición es len(username) >= 6, que verifica si la longitud del nombre de usuario (username) es mayor o igual a 6.\n",
    "- La segunda condición debería ser < 10, que debería verificar si la longitud del nombre de usuario es menor que 10.\n",
    "\n",
    "Sin embargo, la segunda condición está incompleta y no especifica qué debe ser menor que 10.\n",
    "\n",
    "Para corregir esto, necesitamos proporcionar una expresión completa después del operador and. Por ejemplo, podríamos corregir la sentencia de la siguiente manera:\n",
    "\n",
    "**print(\"Username:\", len(username) >= 6 and len(username) < 10)**"
   ]
  },
  {
   "cell_type": "markdown",
   "metadata": {},
   "source": [
    "__4) Practiquemos con los operadores de asignación (=, +=, *=, etc.):__\n",
    "* Crea dos variables y asignales los números que quieras\n",
    "* Incrementale a num1 su valor en 1\n",
    "* Decrementale a num2 su valor en 2\n",
    "* Multiplica num1 por 3 y actualiza su valor\n",
    "* Dividide num2 por 2 y actualiza su valor\n",
    "* Muestra los resultados"
   ]
  },
  {
   "cell_type": "code",
   "execution_count": 9,
   "metadata": {},
   "outputs": [
    {
     "name": "stdout",
     "output_type": "stream",
     "text": [
      "num1 = 24\n",
      "num2 = 4.0\n"
     ]
    }
   ],
   "source": [
    "# Inicializar las variables num1 y num2 con los valores 7 y 10 respectivamente\n",
    "num1 = 7\n",
    "num2 = 10\n",
    "\n",
    "# Incrementar el valor de num1 en 1\n",
    "num1 += 1  # Equivalente a: num1 = num1 + 1\n",
    "\n",
    "# Decrementar el valor de num2 en 2\n",
    "num2 -= 2  # Equivalente a: num2 = num2 - 2\n",
    "\n",
    "# Multiplicar el valor de num1 por 3\n",
    "num1 *= 3  # Equivalente a: num1 = num1 * 3\n",
    "\n",
    "# Dividir el valor de num2 entre 2\n",
    "num2 /= 2  # Equivalente a: num2 = num2 / 2\n",
    "\n",
    "# Imprimir el valor actualizado de num1\n",
    "print(\"num1 =\", num1)\n",
    "\n",
    "# Imprimir el valor actualizado de num2\n",
    "print(\"num2 =\", num2)\n"
   ]
  }
 ],
 "metadata": {
  "anaconda-cloud": {},
  "kernelspec": {
   "display_name": "Python 3 (ipykernel)",
   "language": "python",
   "name": "python3"
  },
  "language_info": {
   "codemirror_mode": {
    "name": "ipython",
    "version": 3
   },
   "file_extension": ".py",
   "mimetype": "text/x-python",
   "name": "python",
   "nbconvert_exporter": "python",
   "pygments_lexer": "ipython3",
   "version": "3.10.9"
  }
 },
 "nbformat": 4,
 "nbformat_minor": 1
}
