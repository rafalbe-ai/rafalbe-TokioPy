{
 "cells": [
  {
   "cell_type": "markdown",
   "metadata": {},
   "source": [
    "# Herencia múltiple\n",
    "Posibilidad de que una subclase herede de múltiples superclases.\n",
    "\n",
    "El problema aparece cuando las superclases tienen atributos o métodos comunes. \n",
    "\n",
    "En estos casos, Python dará prioridad a las clases más a la izquierda en el momento de la declaración de la subclase."
   ]
  },
  {
   "cell_type": "code",
   "execution_count": 1,
   "metadata": {},
   "outputs": [
    {
     "name": "stdout",
     "output_type": "stream",
     "text": [
      "Soy de clase A\n"
     ]
    }
   ],
   "source": [
    "class A:\n",
    "    def __init__(self):\n",
    "        print(\"Soy de clase A\")\n",
    "    def a(self):\n",
    "        print(\"Este método lo heredo de A\")\n",
    "        \n",
    "class B:\n",
    "    def __init__(self):\n",
    "        print(\"Soy de clase B\")\n",
    "    def b(self):\n",
    "        print(\"Este método lo heredo de B\")\n",
    "        \n",
    "class C(A,B):\n",
    "    def __init__(self):\n",
    "        super().__init__()\n",
    "        \n",
    "    def c(self):\n",
    "        print(\"Este método es de C\")\n",
    "\n",
    "c = C() # Al crear un objeto de la clase C, hereda el constructor de la superclase B (porque es la que esta más a la izquierda)"
   ]
  },
  {
   "cell_type": "markdown",
   "metadata": {},
   "source": [
    "<div class=\"alert alert-info\">\n",
    "\n",
    "**Pruebas**<br>\n",
    "<li>Prueba a cambiar el orden de C(A,B) a C(B,A). ¿Qué constructor se ejecuta?</li>\n",
    "<li>Prueba a eliminar el constructor de C. ¿Qué constructor se ejecuta?</li>\n",
    "<li>Prueba a eliminar el constructor de C y también del padre principal. ¿Qué constructor se ejecuta?</li>\n",
    "</div>"
   ]
  },
  {
   "cell_type": "code",
   "execution_count": null,
   "metadata": {},
   "outputs": [],
   "source": [
    "# Comprobamos que desde c podemos acceder a métodos de a y b\n",
    "c.c()\n",
    "c.a()\n",
    "c.b()"
   ]
  },
  {
   "cell_type": "markdown",
   "metadata": {},
   "source": [
    "# Herencia múltiple con un ejemplo"
   ]
  },
  {
   "cell_type": "code",
   "execution_count": null,
   "metadata": {},
   "outputs": [],
   "source": [
    "class Vehiculos(): \n",
    "\n",
    "    # Constructor\n",
    "    def __init__(self, marca, modelo):\n",
    "        self.marca = marca\n",
    "        self.modelo = modelo\n",
    "        print(\"Creado objeto de la clase Vehiculos\")\n",
    "        \n",
    "    def repostar(self):\n",
    "        print(\"Repostando combustible\")\n",
    "\n",
    "class VElectricos():\n",
    "    \n",
    "    # Constructor\n",
    "    def __init__(self):\n",
    "        self.autonomia = 100\n",
    "        print(\"Creado objeto de la clase VElectricos\")\n",
    "\n",
    "    def cargarEnergia(self):\n",
    "        '''Metodo cargarEnergia() de la clase VElectricos. Indica al sistema si el vehiculo electrico esta cargando o no'''\n",
    "        self.cargando = True \n",
    "        print(\"Cargando energía\")\n",
    "        \n",
    "class BicicletaElectrica(VElectricos,Vehiculos):\n",
    "    '''Clase BicicletaElectrica que hereda de la clase Vehiculos y de la clase VElectricos, es decir, herencia multiple'''\n",
    "    pass\n",
    "\n",
    "class Quad():\n",
    "    pass\n",
    "\n",
    "print(\"\\nBICICLETA ELECTRICA\")\n",
    "\n",
    "# Objeto de la clase BicicletaElectrica\n",
    "# Al heredar de 2 clases, tiene disponibles 2 constructores. ¿Cual ejecuta? ¿Cual esta heredando? En este caso, el de VElectricos, porque al definir la herencia multiple, VElectricos se puso primero\n",
    "miBici = BicicletaElectrica()\n",
    "print(\"Autonomía:\", miBici.autonomia)"
   ]
  },
  {
   "cell_type": "markdown",
   "metadata": {},
   "source": [
    "## Comprobaciones\n",
    "Vamos a comprobar a que clase pertenece el objeto miBici y quien es su padre"
   ]
  },
  {
   "cell_type": "code",
   "execution_count": null,
   "metadata": {},
   "outputs": [],
   "source": [
    "# Comprobamos si miBici pertenece a BicicletaElectrica\n",
    "print(isinstance(miBici, BicicletaElectrica))\n",
    "# Comprobamos el nombre de la clase a la que pertenece el objeto miBici\n",
    "print(type(miBici).__name__)\n",
    "\n",
    "# Comprobamos si BicicletaElectrica hereda de VElectricos, Vehiculos y Quad\n",
    "print(issubclass(BicicletaElectrica, VElectricos))\n",
    "print(issubclass(BicicletaElectrica, Vehiculos))\n",
    "print(issubclass(BicicletaElectrica, Quad))"
   ]
  },
  {
   "cell_type": "markdown",
   "metadata": {},
   "source": [
    "# Herencia múltiple ... compliquemos el ejemplo\n",
    "Cuando una clase hereda de más de una clase, hemos visto que de forma predeterminada ejecuta el constructor de la clase principal (la ubicada más a la izquierda en la lista de herencia). Pero lo que tiene que quedar claro, es que podemos acceder a todos los métodos de todas las clases de las que se herede. "
   ]
  },
  {
   "cell_type": "code",
   "execution_count": null,
   "metadata": {},
   "outputs": [],
   "source": [
    "miBici.repostar() # Método de Vehiculos\n",
    "miBici.cargarEnergia() # Método de VElectricos"
   ]
  },
  {
   "cell_type": "markdown",
   "metadata": {},
   "source": [
    "## Pero ... ¿para que la herencia múltiple funcione siempre tengo que ejecutar el constructor del padre?\n",
    "No, si nuestra clase hija, la cual hereda de múltiples clases, tiene su propio constructor, se ejecutará este, y no se ejecutará el constructor del padre de forma automática"
   ]
  },
  {
   "cell_type": "code",
   "execution_count": null,
   "metadata": {},
   "outputs": [],
   "source": [
    "class Vehiculos(): \n",
    "\n",
    "    # Constructor\n",
    "    def __init__(self, marca, modelo):\n",
    "        self.marca = marca\n",
    "        self.modelo = modelo\n",
    "        print(\"Creado objeto de la clase Vehiculos\")\n",
    "\n",
    "class VElectricos():\n",
    "    \n",
    "    # Constructor\n",
    "    def __init__(self):\n",
    "        self.autonomia = 100\n",
    "        print(\"Creado objeto de la clase VElectricos\")\n",
    "        \n",
    "class BicicletaElectrica(VElectricos,Vehiculos):\n",
    "    \n",
    "    # Constructor\n",
    "    def __init__(self):\n",
    "        print(\"Creado objeto de la clase BicicletaElectrica\")\n",
    "\n",
    "miBici = BicicletaElectrica()"
   ]
  },
  {
   "cell_type": "markdown",
   "metadata": {},
   "source": [
    "## Entendido, en resumen tenemos dos casos cuando hacemos que una clase herede de múltiples clases\n",
    "* Si la clase que tiene herencia múltiple tiene constructor -> Lo ejecuta\n",
    "* Si la clase que tiene herencia múltiple NO tiene constructor -> Ejecuta el constructor del padre principal (el que se encuentra más a la izquierda en la lista de herencia)"
   ]
  },
  {
   "cell_type": "markdown",
   "metadata": {},
   "source": [
    "## Y en el caso de que la clase que hereda, tenga constructor (y lo ejecute), ¿puede aún así ejecutar los constructores de sus padres?\n",
    "<b>¡Si!</b> Invocaremos desde el constructor de nuestra clase a todos los constructores de los padres que queramos:"
   ]
  },
  {
   "cell_type": "code",
   "execution_count": null,
   "metadata": {},
   "outputs": [],
   "source": [
    "class Vehiculos(): \n",
    "\n",
    "    # Constructor\n",
    "    def __init__(self, marca, modelo):\n",
    "        self.marca = marca\n",
    "        self.modelo = modelo\n",
    "        print(\"Creado objeto de la clase Vehiculos\")\n",
    "        \n",
    "    def __str__(self):\n",
    "        return \"Marca: {}\\nModelo: {}\".format(self.marca,self.modelo)\n",
    "\n",
    "class VElectricos():\n",
    "    \n",
    "    # Constructor\n",
    "    def __init__(self, autonomia):\n",
    "        self.autonomia = autonomia\n",
    "        print(\"Creado objeto de la clase VElectricos\")\n",
    "        \n",
    "    def __str__(self):\n",
    "        return \"Autonomia: {}\".format(self.autonomia)\n",
    "        \n",
    "class BicicletaElectrica(VElectricos,Vehiculos):\n",
    "    '''Clase BicicletaElectrica que hereda de la clase Vehiculos y de la clase VElectricos, es decir, herencia multiple'''\n",
    "    \n",
    "    def __init__(self, marca=None, modelo=None, autonomia=None):\n",
    "        VElectricos.__init__(self, autonomia) # Equivalente a: super().__init__(autonomia)\n",
    "        Vehiculos.__init__(self, marca, modelo)\n",
    "        print(\"Creado objeto de la clase BicicletaElectrica\")\n",
    "        \n",
    "    def __str__(self):\n",
    "        return Vehiculos.__str__(self) + \"\\n\" + VElectricos.__str__(self)\n",
    "        # Equivalente a:\n",
    "        # return Vehiculos.__str__(self) + \"\\n\" + super().__str__()\n",
    "\n",
    "class Quad():\n",
    "    pass\n",
    "\n",
    "# Creamos diferentes objetos con diferentes configuraciones\n",
    "# Y mostramos los objetos con print (invocación a __str__)\n",
    "miBici = BicicletaElectrica(\"Ford\", \"Xtreme\", 80)\n",
    "print(miBici, end=\"\\n\\n\")\n",
    "miBici2 = BicicletaElectrica(\"Ford\", \"Xtreme\")\n",
    "print(miBici2, end=\"\\n\\n\")\n",
    "miBici3 = BicicletaElectrica(\"Ford\", None, 100)\n",
    "print(miBici3, end=\"\\n\\n\")"
   ]
  },
  {
   "cell_type": "markdown",
   "metadata": {},
   "source": [
    "Otro ejemplo:"
   ]
  },
  {
   "cell_type": "code",
   "execution_count": null,
   "metadata": {},
   "outputs": [],
   "source": [
    "class Futbolista:\n",
    "    \n",
    "    def __init__(self, altura, peso):\n",
    "        self.altura = altura\n",
    "        self.peso = peso\n",
    "        print(\"Creado futbolista\")\n",
    "        \n",
    "class Nacionalidad:\n",
    "    \n",
    "    def __init__(self, pais_origen):\n",
    "        self.pais_origen = pais_origen\n",
    "        print(\"Nacionalidad creada\")\n",
    "        \n",
    "class Defensa(Futbolista, Nacionalidad):\n",
    "    \n",
    "    # Este constructor tiene que recibir todos los parametros, los de Futbolista y los de Nacionalidad\n",
    "    def __init__(self, def_altura, def_peso, def_pais):\n",
    "        super().__init__(def_altura, def_peso)\n",
    "        Nacionalidad.__init__(self, def_pais)\n",
    "        # OJO. Cuando usamos super, super es un método de Python que hace referencia a la clase padre principal, por lo tanto,\n",
    "        # como es un metodo lleva (), es decir, super(). Pero cuando accedemos a una clase, no tenemos que usar esos ()\n",
    "        # Nacionalidad.__init__ es suficiente. Otro detalle es que super nos traslada self de manera automatica. Pero\n",
    "        # cuando invocamos a una clase manualmente, no, por lo tanto, tenemos que pasar self en el __init__\n",
    "        \n",
    "d1 = Defensa(\"1.88\", 79, \"Uruguay\")\n",
    "print(\"Altura:\", d1.altura)\n",
    "print(\"Nacionalidad:\", d1.pais_origen)"
   ]
  },
  {
   "cell_type": "markdown",
   "metadata": {},
   "source": [
    "# Herencia multinivel\n",
    "Ya hemos visto la herencia simple y la herencia múltiple, ahora veremos la tercera opción, la herencia multinivel.\n",
    "\n",
    "Podemos heredar de una clase derivada. Esto se llama herencia multinivel. Puede ser de cualquier profundidad en Python.\n",
    "\n",
    "En la herencia multinivel, las características de la clase base y la clase derivada se heredan en la nueva clase derivada.\n",
    "\n",
    "Vamos a crear la siguiente estructura de clases: <b>Abuelo -> Padre -> Hijo</b>"
   ]
  },
  {
   "cell_type": "code",
   "execution_count": null,
   "metadata": {},
   "outputs": [],
   "source": [
    "class Abuelo:\n",
    "    __nombre = None\n",
    "    \n",
    "    def __init__(self,nombreAbuelo=None):\n",
    "        self.__nombre = nombreAbuelo\n",
    "        print(\"Abuelo creado\")\n",
    "        \n",
    "    @property\n",
    "    def nombre(self):\n",
    "        return self.__nombre\n",
    "\n",
    "    @nombre.setter\n",
    "    def nombre(self, nuevoNombre):\n",
    "        self.__nombre = nuevoNombre\n",
    "        \n",
    "    def lenguajeDelAbuelo(self):\n",
    "        print(self.__nombre, \"programa en Ensablador\")\n",
    "        \n",
    "    def __str__(self):\n",
    "        return \"Nombre del abuelo: {}\".format(self.__nombre)\n",
    "    \n",
    "class Padre(Abuelo):\n",
    "    __nombre = None\n",
    "    \n",
    "    def __init__(self,nombrePadre=None, nombreAbuelo=None):\n",
    "        super().__init__(nombreAbuelo) \n",
    "        self.__nombre = nombrePadre\n",
    "        print(\"Padre creado\")\n",
    "        \n",
    "    @property\n",
    "    def nombre(self):\n",
    "        return self.__nombre\n",
    "\n",
    "    @nombre.setter\n",
    "    def nombre(self, nuevoNombre):\n",
    "        self.__nombre = nuevoNombre\n",
    "        \n",
    "    def lenguajeDelPadre(self):\n",
    "        print(self.__nombre, \"programa en C\")\n",
    "        \n",
    "    def __str__(self):\n",
    "        return super().__str__() + \"\\nNombre del padre: {}\".format(self.__nombre)\n",
    "    \n",
    "class Hijo(Padre):\n",
    "    __nombre = None\n",
    "    \n",
    "    def __init__(self,nombreHijo=None, nombrePadre=None, nombreAbuelo=None):\n",
    "        super().__init__(nombrePadre, nombreAbuelo) \n",
    "        self.__nombre = nombreHijo\n",
    "        print(\"Hijo creado\")\n",
    "        \n",
    "    @property\n",
    "    def nombre(self):\n",
    "        return self.__nombre\n",
    "\n",
    "    @nombre.setter\n",
    "    def nombre(self, nuevoNombre):\n",
    "        self.__nombre = nuevoNombre\n",
    "        \n",
    "    def lenguajeDelHijo(self):\n",
    "        print(self.__nombre, \"programa en Python\")\n",
    "        \n",
    "    def __str__(self):\n",
    "        return super().__str__() + \"\\nNombre del hijo: {}\".format(self.__nombre)\n",
    "    \n",
    "if __name__ == '__main__': \n",
    "    \n",
    "    # Creamos un objeto de la clase Abuelo y probamos sus métodos\n",
    "    print(\"=== ABUELO ===\")\n",
    "    abuelo = Abuelo(\"Fran\")\n",
    "    print(abuelo) # Método __str__\n",
    "    print(abuelo.nombre) # Método getter\n",
    "    abuelo.nombre = \"Francisco\" # Método setter\n",
    "    print(abuelo) # Método __str__\n",
    "\n",
    "    # Creamos un objeto de la clase Padre y probamos sus métodos\n",
    "    print(\"\\n=== PADRE ===\")\n",
    "    padre = Padre(\"Carlos\", \"Francisco\")\n",
    "    print(padre)\n",
    "\n",
    "    # Creamos un objeto de la clase Hijo y probamos sus métodos\n",
    "    print(\"\\n=== HIJO ===\")\n",
    "    hijo = Hijo(\"Pablo\", \"Carlos\", \"Francisco\")\n",
    "    print(hijo)\n",
    "    \n",
    "    # Comprobamos que desde la última clase (Hijo) podemos acceder a \n",
    "    # métodos de su padre (Padre) y de su abuelo (Abuelo)\n",
    "    print(\"\\n=== LENGUAJES DE PROGRAMACIÓN ===\")\n",
    "    hijo.lenguajeDelHijo() # Método de la clase Hijo\n",
    "    hijo.lenguajeDelPadre() # Método de la clase Padre\n",
    "    hijo.lenguajeDelAbuelo() # Método de la clase Abuelo\n",
    "    padre.lenguajeDelPadre()\n",
    "    padre.lenguajeDelAbuelo()\n",
    "    abuelo.lenguajeDelAbuelo()"
   ]
  },
  {
   "cell_type": "markdown",
   "metadata": {},
   "source": [
    "## MRO (Method Resolution Order)\n",
    "El MRO es el orden en el que Python busca un método en una jerarquía de clases. Especialmente juega un papel vital en el contexto de la herencia múltiple, ya que se puede encontrar un método único en múltiples superclases."
   ]
  },
  {
   "cell_type": "code",
   "execution_count": null,
   "metadata": {},
   "outputs": [],
   "source": [
    "class Class1: \n",
    "    def m(self): \n",
    "        print(\"En Class1\") \n",
    "  \n",
    "class Class2(Class1): \n",
    "    def m(self): \n",
    "        print(\"En Class2\") \n",
    "        super().m() \n",
    "  \n",
    "class Class3(Class1): \n",
    "    def m(self): \n",
    "        print(\"En Class3\") \n",
    "        super().m() \n",
    "  \n",
    "class Class4(Class2, Class3): \n",
    "    def m(self): \n",
    "        print(\"En Class4\")    \n",
    "        super().m() \n",
    "       \n",
    "obj = Class4() \n",
    "obj.m() "
   ]
  },
  {
   "cell_type": "markdown",
   "metadata": {},
   "source": [
    "Comprobamos que al crear un objeto de Class4 e invocar a su método m() se ejecuta:\n",
    "1. El método m() local de la propia clase <b>Class4</b>\n",
    "2. El método m() del padre principal de Class4: <b>Class2</b>\n",
    "3. El método m() del otro padre de Class4: <b>Class3</b>\n",
    "4. El método m() del padre de Class2 y Class3, es decir, el abuelo de Class4: <b>Class1</b>"
   ]
  },
  {
   "cell_type": "code",
   "execution_count": null,
   "metadata": {},
   "outputs": [],
   "source": [
    "# Un truco es poder ver el orden que MRO esta asignando a nuestras clases directamene con el método mro()\n",
    "print(Class4.mro())\n",
    "# Vemos que el orden es Class4 -> Class2 -> Class3 -> Class1 -> Object (clase principal de Python de la cual heredan todas las clases del lenguaje)"
   ]
  },
  {
   "cell_type": "markdown",
   "metadata": {},
   "source": [
    "# Preparemonos para el Polimorfismo. Ejemplo Productos"
   ]
  },
  {
   "cell_type": "code",
   "execution_count": null,
   "metadata": {},
   "outputs": [],
   "source": [
    "class Producto:\n",
    "    def __init__(self,referencia,nombre,pvp,descripcion):\n",
    "        self.referencia = referencia\n",
    "        self.nombre = nombre\n",
    "        self.pvp = pvp\n",
    "        self.descripcion = descripcion\n",
    "        \n",
    "    def __str__(self):\n",
    "        return \"\"\"\\\n",
    "REFERENCIA\\t{}\n",
    "NOMBRE\\t\\t{}\n",
    "PVP\\t\\t{}\n",
    "DESCRIPCIÓN\\t{}\"\"\".format(self.referencia,self.nombre,self.pvp,self.descripcion)\n",
    "    \n",
    "\n",
    "class Adorno(Producto):\n",
    "    pass\n",
    "\n",
    "\n",
    "class Alimento(Producto):\n",
    "    productor = \"\"\n",
    "    distribuidor = \"\"\n",
    "    \n",
    "    def __str__(self):\n",
    "        return \"\"\"\\\n",
    "REFERENCIA\\t{}\n",
    "NOMBRE\\t\\t{}\n",
    "PVP\\t\\t{}\n",
    "DESCRIPCIÓN\\t{}\n",
    "PRODUCTOR\\t{}\n",
    "DISTRIBUIDOR\\t{}\"\"\".format(self.referencia,self.nombre,self.pvp,self.descripcion,self.productor,self.distribuidor)\n",
    "\n",
    "\n",
    "class Libro(Producto):\n",
    "    isbn = \"\"\n",
    "    autor = \"\"\n",
    "    \n",
    "    def __str__(self):\n",
    "        return \"\"\"\\\n",
    "REFERENCIA\\t{}\n",
    "NOMBRE\\t\\t{}\n",
    "PVP\\t\\t{}\n",
    "DESCRIPCIÓN\\t{}\n",
    "ISBN\\t\\t{}\n",
    "AUTOR\\t\\t{}\"\"\".format(self.referencia,self.nombre,self.pvp,self.descripcion,self.isbn,self.autor)"
   ]
  },
  {
   "cell_type": "markdown",
   "metadata": {},
   "source": [
    "#### Creamos algunos objetos"
   ]
  },
  {
   "cell_type": "code",
   "execution_count": null,
   "metadata": {},
   "outputs": [],
   "source": [
    "ad = Adorno(2034,\"Vaso adornado\",15,\"Vaso de porcelana adornado con árboles\")\n",
    "\n",
    "al = Alimento(2035,\"Botella de Aceite de Oliva Extra\",5,\"250 ML\")\n",
    "al.productor = \"La Aceitera\"\n",
    "al.distribuidor = \"Distribuciones SA\"\n",
    "\n",
    "li = Libro(2036,\"Cocina Mediterránea\",9,\"Recetas sanas y buenas\")\n",
    "li.isbn = \"0-123456-78-9\"\n",
    "li.autor = \"Doña Juana\""
   ]
  },
  {
   "cell_type": "markdown",
   "metadata": {},
   "source": [
    "#### Listamos los productos"
   ]
  },
  {
   "cell_type": "code",
   "execution_count": null,
   "metadata": {},
   "outputs": [],
   "source": [
    "productos = [ad, al, li]\n",
    "for p in productos:\n",
    "    print(p,\"\\n\")"
   ]
  },
  {
   "cell_type": "markdown",
   "metadata": {
    "collapsed": true
   },
   "source": [
    "## Polimorfismo\n",
    "Se refiere a una propiedad de la herencia por la que objetos de distintas subclases pueden responder a una misma acción."
   ]
  },
  {
   "cell_type": "code",
   "execution_count": null,
   "metadata": {},
   "outputs": [],
   "source": [
    "def rebajar_producto(p, rebaja):\n",
    "    \"\"\"Rebaja un producto en porcentaje de su precio\"\"\"\n",
    "    p.pvp = p.pvp - (p.pvp/100 * rebaja)\n",
    "    \n",
    "print(\"ANTES DE LAS REBAJAS: \", end=\"\")\n",
    "print(al.pvp)\n",
    "rebajar_producto(al, 10)\n",
    "print(\"DESPUES DE LAS REBAJAS: \", end=\"\")\n",
    "print(al.pvp)"
   ]
  },
  {
   "cell_type": "markdown",
   "metadata": {},
   "source": [
    "El método  **rebajar_producto()** es capaz de tomar objetos de distintas subclases y manipular el atributo **pvp**.\n",
    "\n",
    "La acción de manipular el **pvp** funcionará siempre que los objetos tengan ése atributo, pero en el caso de no ser así, daría error.\n",
    "\n",
    "La polimorfia es implícita en Python en todos los objetos, ya que todos son hijos de una superclase común llamada **Object**."
   ]
  },
  {
   "cell_type": "markdown",
   "metadata": {},
   "source": [
    "## Funciones que reciben objetos de distintas clases\n",
    "### Los objetos se envían por referencia a las funciones\n",
    "Así que debemos tener en cuenta que cualquier cambio realizado dentro afectará al propio objeto."
   ]
  },
  {
   "cell_type": "code",
   "execution_count": null,
   "metadata": {},
   "outputs": [],
   "source": [
    "def rebajar_producto(p, rebaja):\n",
    "    \"\"\"Rebaja un producto en porcentaje de su precio\"\"\"\n",
    "    p.pvp = p.pvp - (p.pvp/100 * rebaja)\n",
    "\n",
    "print(\"ANTES DE LAS REBAJAS: \", end=\"\")\n",
    "print(al.pvp)\n",
    "rebajar_producto(al, 10)\n",
    "print(\"DESPUES DE LAS REBAJAS: \", end=\"\")\n",
    "print(al.pvp)"
   ]
  },
  {
   "cell_type": "markdown",
   "metadata": {},
   "source": [
    "### Una copia de un objeto también hace referencia al objeto copiado (como un acceso directo)"
   ]
  },
  {
   "cell_type": "code",
   "execution_count": null,
   "metadata": {},
   "outputs": [],
   "source": [
    "copia_al = al"
   ]
  },
  {
   "cell_type": "code",
   "execution_count": null,
   "metadata": {},
   "outputs": [],
   "source": [
    "copia_al.referencia = 2038"
   ]
  },
  {
   "cell_type": "code",
   "execution_count": null,
   "metadata": {},
   "outputs": [],
   "source": [
    "print(copia_al)"
   ]
  },
  {
   "cell_type": "code",
   "execution_count": null,
   "metadata": {},
   "outputs": [],
   "source": [
    "print(al)"
   ]
  },
  {
   "cell_type": "markdown",
   "metadata": {},
   "source": [
    "### Para crear una copia 100% nueva debemos utilizar el módulo copy:"
   ]
  },
  {
   "cell_type": "code",
   "execution_count": null,
   "metadata": {},
   "outputs": [],
   "source": [
    "import copy\n",
    "\n",
    "copia_ad = copy.copy(ad)"
   ]
  },
  {
   "cell_type": "code",
   "execution_count": null,
   "metadata": {},
   "outputs": [],
   "source": [
    "print(copia_ad)"
   ]
  },
  {
   "cell_type": "code",
   "execution_count": null,
   "metadata": {},
   "outputs": [],
   "source": [
    "copia_ad.pvp = 25"
   ]
  },
  {
   "cell_type": "code",
   "execution_count": null,
   "metadata": {},
   "outputs": [],
   "source": [
    "print(copia_ad)"
   ]
  },
  {
   "cell_type": "code",
   "execution_count": null,
   "metadata": {},
   "outputs": [],
   "source": [
    "print(ad)"
   ]
  },
  {
   "cell_type": "markdown",
   "metadata": {
    "collapsed": true
   },
   "source": [
    "## Polimorfismo. Ejemplo de vehiculos"
   ]
  },
  {
   "cell_type": "code",
   "execution_count": null,
   "metadata": {},
   "outputs": [],
   "source": [
    "class Coche():\n",
    "    \n",
    "    def desplazamiento(self):\n",
    "        print(\"Me desplazo utilizando cuatro ruedas\")\n",
    "        \n",
    "class Moto():\n",
    "    \n",
    "    def desplazamiento(self):\n",
    "        print(\"Me desplazo utilizando dos ruedas\")\n",
    "        \n",
    "class Camion():\n",
    "    \n",
    "    def desplazamiento(self):\n",
    "        print(\"Me desplazo utilizando seis ruedas\")\n",
    "        \n",
    "# Programa principal, fuera de las clases\n",
    "\n",
    "print(\"USO NORMAL (SIN POLIMORFISMO)\")\n",
    "# Cada objeto instanciado de cada una de las 3 clases accede a su metodo desplazamiento\n",
    "miVehiculo = Moto()\n",
    "miVehiculo.desplazamiento()\n",
    "\n",
    "miVehiculo2 = Coche()\n",
    "miVehiculo2.desplazamiento()\n",
    "\n",
    "miVehiculo3 = Camion()\n",
    "miVehiculo3.desplazamiento()\n",
    "\n",
    "# Ahora usemos el polimorfismo. Vamos a crear un metodo que recibira por parametro un objeto del tipo vehiculo\n",
    "def desplazamientoVehiculo(vehiculo):\n",
    "    vehiculo.desplazamiento()\n",
    "   \n",
    "print(\"\\nUSO DE POLIMORFISMO\")\n",
    "miVehiculo4 = Camion()\n",
    "desplazamientoVehiculo(miVehiculo4)\n",
    "miVehiculo5 = Moto()\n",
    "desplazamientoVehiculo(miVehiculo5)"
   ]
  }
 ],
 "metadata": {
  "kernelspec": {
   "display_name": "Python 3",
   "language": "python",
   "name": "python3"
  },
  "language_info": {
   "codemirror_mode": {
    "name": "ipython",
    "version": 3
   },
   "file_extension": ".py",
   "mimetype": "text/x-python",
   "name": "python",
   "nbconvert_exporter": "python",
   "pygments_lexer": "ipython3",
   "version": "3.12.0"
  }
 },
 "nbformat": 4,
 "nbformat_minor": 1
}
