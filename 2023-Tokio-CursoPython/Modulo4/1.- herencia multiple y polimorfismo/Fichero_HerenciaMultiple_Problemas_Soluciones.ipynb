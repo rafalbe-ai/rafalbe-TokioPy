{
 "cells": [
  {
   "attachments": {
    "HerenciaMutiple.drawio.png": {
     "image/png": "[encoded data removed]"
    }
   },
   "cell_type": "markdown",
   "metadata": {},
   "source": [
    "# Problema\n",
    "![HerenciaMutiple.drawio.png](attachment:HerenciaMutiple.drawio.png)"
   ]
  },
  {
   "cell_type": "code",
   "execution_count": 2,
   "metadata": {},
   "outputs": [
    {
     "name": "stdout",
     "output_type": "stream",
     "text": [
      "Pelicula de genero de Terror\n",
      "Pelicula de subgenero Suspense\n",
      "Pelicula de genero de Terror\n",
      "Pelicula de subgenero Gore\n"
     ]
    },
    {
     "ename": "TypeError",
     "evalue": "__init__() missing 1 required positional argument: 'sangre'",
     "output_type": "error",
     "traceback": [
      "\u001b[1;31m---------------------------------------------------------------------------\u001b[0m",
      "\u001b[1;31mTypeError\u001b[0m                                 Traceback (most recent call last)",
      "\u001b[1;32m<ipython-input-2-bbbf16481e3d>\u001b[0m in \u001b[0;36m<module>\u001b[1;34m\u001b[0m\n\u001b[0;32m     46\u001b[0m \u001b[0ms1\u001b[0m \u001b[1;33m=\u001b[0m \u001b[0mGeneroSuspense\u001b[0m\u001b[1;33m(\u001b[0m\u001b[1;34m\"Los Otros\"\u001b[0m\u001b[1;33m,\u001b[0m \u001b[1;36m65\u001b[0m\u001b[1;33m,\u001b[0m \u001b[1;36m2\u001b[0m\u001b[1;33m,\u001b[0m \u001b[1;36m75\u001b[0m\u001b[1;33m)\u001b[0m\u001b[1;33m\u001b[0m\u001b[1;33m\u001b[0m\u001b[0m\n\u001b[0;32m     47\u001b[0m \u001b[0mg1\u001b[0m \u001b[1;33m=\u001b[0m \u001b[0mGeneroGore\u001b[0m\u001b[1;33m(\u001b[0m\u001b[1;34m\"Infierno Verde\"\u001b[0m\u001b[1;33m,\u001b[0m \u001b[1;36m70\u001b[0m\u001b[1;33m,\u001b[0m \u001b[1;36m10\u001b[0m\u001b[1;33m,\u001b[0m \u001b[1;36m90\u001b[0m\u001b[1;33m)\u001b[0m\u001b[1;33m\u001b[0m\u001b[1;33m\u001b[0m\u001b[0m\n\u001b[1;32m---> 48\u001b[1;33m \u001b[0msg1\u001b[0m \u001b[1;33m=\u001b[0m \u001b[0mGeneroSuspenseGore\u001b[0m\u001b[1;33m(\u001b[0m\u001b[1;34m\"Frágiles\"\u001b[0m\u001b[1;33m,\u001b[0m \u001b[1;36m75\u001b[0m\u001b[1;33m,\u001b[0m \u001b[1;36m7\u001b[0m\u001b[1;33m,\u001b[0m \u001b[1;36m80\u001b[0m\u001b[1;33m,\u001b[0m \u001b[1;36m90\u001b[0m\u001b[1;33m)\u001b[0m\u001b[1;33m\u001b[0m\u001b[1;33m\u001b[0m\u001b[0m\n\u001b[0m\u001b[0;32m     49\u001b[0m \u001b[0mprint\u001b[0m\u001b[1;33m(\u001b[0m\u001b[0ms1\u001b[0m\u001b[1;33m)\u001b[0m\u001b[1;33m\u001b[0m\u001b[1;33m\u001b[0m\u001b[0m\n\u001b[0;32m     50\u001b[0m \u001b[0mprint\u001b[0m\u001b[1;33m(\u001b[0m\u001b[1;34m\"=\"\u001b[0m\u001b[1;33m*\u001b[0m\u001b[1;36m40\u001b[0m\u001b[1;33m)\u001b[0m\u001b[1;33m\u001b[0m\u001b[1;33m\u001b[0m\u001b[0m\n",
      "\u001b[1;32m<ipython-input-2-bbbf16481e3d>\u001b[0m in \u001b[0;36m__init__\u001b[1;34m(self, nombre, miedo, muertes, paranoia, sangre)\u001b[0m\n\u001b[0;32m     38\u001b[0m \u001b[1;33m\u001b[0m\u001b[0m\n\u001b[0;32m     39\u001b[0m     \u001b[1;32mdef\u001b[0m \u001b[0m__init__\u001b[0m\u001b[1;33m(\u001b[0m\u001b[0mself\u001b[0m\u001b[1;33m,\u001b[0m \u001b[0mnombre\u001b[0m\u001b[1;33m,\u001b[0m \u001b[0mmiedo\u001b[0m\u001b[1;33m,\u001b[0m \u001b[0mmuertes\u001b[0m\u001b[1;33m,\u001b[0m \u001b[0mparanoia\u001b[0m\u001b[1;33m,\u001b[0m \u001b[0msangre\u001b[0m\u001b[1;33m)\u001b[0m\u001b[1;33m:\u001b[0m\u001b[1;33m\u001b[0m\u001b[1;33m\u001b[0m\u001b[0m\n\u001b[1;32m---> 40\u001b[1;33m         \u001b[0msuper\u001b[0m\u001b[1;33m(\u001b[0m\u001b[1;33m)\u001b[0m\u001b[1;33m.\u001b[0m\u001b[0m__init__\u001b[0m\u001b[1;33m(\u001b[0m\u001b[0mnombre\u001b[0m\u001b[1;33m,\u001b[0m \u001b[0mmiedo\u001b[0m\u001b[1;33m,\u001b[0m \u001b[0mmuertes\u001b[0m\u001b[1;33m,\u001b[0m \u001b[0mparanoia\u001b[0m\u001b[1;33m)\u001b[0m\u001b[1;33m\u001b[0m\u001b[1;33m\u001b[0m\u001b[0m\n\u001b[0m\u001b[0;32m     41\u001b[0m         \u001b[0mGeneroGore\u001b[0m\u001b[1;33m.\u001b[0m\u001b[0m__init__\u001b[0m\u001b[1;33m(\u001b[0m\u001b[0mself\u001b[0m\u001b[1;33m,\u001b[0m \u001b[0mnombre\u001b[0m\u001b[1;33m,\u001b[0m \u001b[0mmiedo\u001b[0m\u001b[1;33m,\u001b[0m \u001b[0mmuertes\u001b[0m\u001b[1;33m,\u001b[0m \u001b[0msangre\u001b[0m\u001b[1;33m)\u001b[0m\u001b[1;33m\u001b[0m\u001b[1;33m\u001b[0m\u001b[0m\n\u001b[0;32m     42\u001b[0m \u001b[1;33m\u001b[0m\u001b[0m\n",
      "\u001b[1;32m<ipython-input-2-bbbf16481e3d>\u001b[0m in \u001b[0;36m__init__\u001b[1;34m(self, nombre, miedo, muertes, paranoia)\u001b[0m\n\u001b[0;32m     16\u001b[0m \u001b[1;33m\u001b[0m\u001b[0m\n\u001b[0;32m     17\u001b[0m     \u001b[1;32mdef\u001b[0m \u001b[0m__init__\u001b[0m\u001b[1;33m(\u001b[0m\u001b[0mself\u001b[0m\u001b[1;33m,\u001b[0m \u001b[0mnombre\u001b[0m\u001b[1;33m,\u001b[0m \u001b[0mmiedo\u001b[0m\u001b[1;33m,\u001b[0m \u001b[0mmuertes\u001b[0m\u001b[1;33m,\u001b[0m \u001b[0mparanoia\u001b[0m\u001b[1;33m)\u001b[0m\u001b[1;33m:\u001b[0m\u001b[1;33m\u001b[0m\u001b[1;33m\u001b[0m\u001b[0m\n\u001b[1;32m---> 18\u001b[1;33m         \u001b[0msuper\u001b[0m\u001b[1;33m(\u001b[0m\u001b[1;33m)\u001b[0m\u001b[1;33m.\u001b[0m\u001b[0m__init__\u001b[0m\u001b[1;33m(\u001b[0m\u001b[0mnombre\u001b[0m\u001b[1;33m,\u001b[0m \u001b[0mmiedo\u001b[0m\u001b[1;33m,\u001b[0m \u001b[0mmuertes\u001b[0m\u001b[1;33m)\u001b[0m\u001b[1;33m\u001b[0m\u001b[1;33m\u001b[0m\u001b[0m\n\u001b[0m\u001b[0;32m     19\u001b[0m         \u001b[0mself\u001b[0m\u001b[1;33m.\u001b[0m\u001b[0mparanoia\u001b[0m \u001b[1;33m=\u001b[0m \u001b[0mparanoia\u001b[0m\u001b[1;33m\u001b[0m\u001b[1;33m\u001b[0m\u001b[0m\n\u001b[0;32m     20\u001b[0m         \u001b[0mprint\u001b[0m\u001b[1;33m(\u001b[0m\u001b[1;34m\"Pelicula de subgenero Suspense\"\u001b[0m\u001b[1;33m)\u001b[0m\u001b[1;33m\u001b[0m\u001b[1;33m\u001b[0m\u001b[0m\n",
      "\u001b[1;31mTypeError\u001b[0m: __init__() missing 1 required positional argument: 'sangre'"
     ]
    }
   ],
   "source": [
    "class GeneroTerror():\n",
    "    \n",
    "    def __init__(self, nombre, miedo, muertes):\n",
    "        self.nombre = nombre\n",
    "        self.miedo = miedo\n",
    "        self.muertes = muertes\n",
    "        print(\"Pelicula de genero de Terror\")\n",
    "        \n",
    "    def __str__(self):\n",
    "        return '''\n",
    "        > Nombre: {}\n",
    "        > Miedo: {}\n",
    "        > Muertes: {}'''.format(self.nombre, self.miedo, self.muertes)\n",
    "    \n",
    "class GeneroSuspense(GeneroTerror):\n",
    "    \n",
    "    def __init__(self, nombre, miedo, muertes, paranoia):\n",
    "        super().__init__(nombre, miedo, muertes)\n",
    "        self.paranoia = paranoia\n",
    "        print(\"Pelicula de subgenero Suspense\")\n",
    "        \n",
    "    def __str__(self):\n",
    "        return super().__str__() + '''\n",
    "        > Paranoia: {}'''.format(self.paranoia)\n",
    "    \n",
    "class GeneroGore(GeneroTerror):\n",
    "    \n",
    "    def __init__(self, nombre, miedo, muertes, sangre):\n",
    "        super().__init__(nombre, miedo, muertes)\n",
    "        self.sangre = sangre\n",
    "        print(\"Pelicula de subgenero Gore\")\n",
    "        \n",
    "    def __str__(self):\n",
    "        return super().__str__() + '''\n",
    "        > Gore: {}'''.format(self.sangre)\n",
    "    \n",
    "class GeneroSuspenseGore(GeneroSuspense, GeneroGore):\n",
    "    \n",
    "    def __init__(self, nombre, miedo, muertes, paranoia, sangre):\n",
    "        super().__init__(nombre, miedo, muertes, paranoia)\n",
    "        GeneroGore.__init__(self, nombre, miedo, muertes, sangre)\n",
    "        \n",
    "    def __str__(self):\n",
    "        return super().__str__()\n",
    "    \n",
    "s1 = GeneroSuspense(\"Los Otros\", 65, 2, 75)\n",
    "g1 = GeneroGore(\"Infierno Verde\", 70, 10, 90)\n",
    "sg1 = GeneroSuspenseGore(\"Frágiles\", 75, 7, 80, 90)\n",
    "print(s1)\n",
    "print(\"=\"*40)\n",
    "print(g1)\n",
    "print(\"=\"*40)\n",
    "print(sg1)"
   ]
  },
  {
   "cell_type": "markdown",
   "metadata": {},
   "source": [
    "# Solución\n",
    "1. Con herencia múltiple NO usar super()\n",
    "2. Con herencia múltiple implementar parámetros con None en los constructores"
   ]
  },
  {
   "cell_type": "code",
   "execution_count": 10,
   "metadata": {},
   "outputs": [
    {
     "name": "stdout",
     "output_type": "stream",
     "text": [
      "\n",
      "        > Nombre: Los Otros\n",
      "        > Miedo: 65\n",
      "        > Muertes: 2\n",
      "        > Paranoia: 75\n",
      "\n",
      "        > Nombre: Infierno Verde\n",
      "        > Miedo: 70\n",
      "        > Muertes: 10\n",
      "        > Sangre: 90\n",
      "\n",
      "        > Nombre: Frágiles\n",
      "        > Miedo: 75\n",
      "        > Muertes: 7\n",
      "        > Paranoia: 80\n",
      "        > Sangre: 90\n",
      "\n",
      "        > Nombre: Frágiles 2\n",
      "        > Miedo: 75\n",
      "        > Muertes: 7\n",
      "        > Paranoia: 80\n",
      "        > Sangre: 90\n"
     ]
    }
   ],
   "source": [
    "class GeneroTerror():\n",
    "    \n",
    "    def __init__(self, nombre=None, miedo=None, muertes=None):\n",
    "        self.nombre = nombre\n",
    "        self.miedo = miedo\n",
    "        self.muertes = muertes\n",
    "        #print(\"Pelicula de genero de Terror\")\n",
    "        \n",
    "    def __str__(self):\n",
    "        return '''\n",
    "        > Nombre: {}\n",
    "        > Miedo: {}\n",
    "        > Muertes: {}'''.format(self.nombre, self.miedo, self.muertes)\n",
    "    \n",
    "class GeneroSuspense(GeneroTerror):\n",
    "    \n",
    "    def __init__(self, nombre=None, miedo=None, muertes=None, paranoia=None):\n",
    "        GeneroTerror.__init__(self, nombre, miedo, muertes)\n",
    "        self.paranoia = paranoia\n",
    "        #print(\"Pelicula de subgenero Suspense\")\n",
    "        \n",
    "    def __str__(self):\n",
    "        return GeneroTerror.__str__(self) + '''\n",
    "        > Paranoia: {}'''.format(self.paranoia)\n",
    "    \n",
    "class GeneroGore(GeneroTerror):\n",
    "    \n",
    "    def __init__(self, nombre=None, miedo=None, muertes=None, sangre=None):\n",
    "        GeneroTerror.__init__(self, nombre, miedo, muertes)\n",
    "        self.sangre = sangre\n",
    "        #print(\"Pelicula de subgenero Gore\")\n",
    "        \n",
    "    def __str__(self):\n",
    "        return GeneroTerror.__str__(self) + '''\n",
    "        > Sangre: {}'''.format(self.sangre)\n",
    "    \n",
    "class GeneroSuspenseGore(GeneroSuspense, GeneroGore):\n",
    "    \n",
    "    def __init__(self, nombre=None, miedo=None, muertes=None, paranoia=None, sangre=None):\n",
    "        # Rellenamos en el orden de la herencia de poco a mucho\n",
    "        GeneroSuspense.__init__(self, paranoia=paranoia)\n",
    "        GeneroGore.__init__(self, nombre, miedo, muertes, sangre)\n",
    "        \n",
    "    def __str__(self):\n",
    "        return GeneroTerror.__str__(self) + '''\n",
    "        > Paranoia: {}\n",
    "        > Sangre: {}'''.format(self.paranoia, self.sangre)\n",
    "\n",
    "# Invertimos el orden de la herencia para ver como funcionaria\n",
    "class GeneroSuspenseGore_v2(GeneroGore, GeneroSuspense):\n",
    "\n",
    "    def __init__(self, nombre=None, miedo=None, muertes=None, paranoia=None, sangre=None):\n",
    "        # Rellenamos en el orden de la herencia de poco a mucho\n",
    "        GeneroGore.__init__(self, sangre=sangre)\n",
    "        GeneroSuspense.__init__(self, nombre, miedo, muertes, paranoia)\n",
    "        \n",
    "    def __str__(self):\n",
    "        return GeneroTerror.__str__(self) + '''\n",
    "        > Paranoia: {}\n",
    "        > Sangre: {}'''.format(self.paranoia, self.sangre)\n",
    "        \n",
    "s1 = GeneroSuspense(\"Los Otros\", 65, 2, 75)\n",
    "g1 = GeneroGore(\"Infierno Verde\", 70, 10, 90)\n",
    "sg1 = GeneroSuspenseGore(\"Frágiles\", 75, 7, 80, 90)\n",
    "sg2 = GeneroSuspenseGore_v2('Frágiles 2',75 ,7 ,80 ,90)\n",
    "\n",
    "lista = [s1, g1, sg1, sg2]\n",
    "for i in lista:\n",
    "    print(i)"
   ]
  }
 ],
 "metadata": {
  "kernelspec": {
   "display_name": "Python 3",
   "language": "python",
   "name": "python3"
  },
  "language_info": {
   "codemirror_mode": {
    "name": "ipython",
    "version": 3
   },
   "file_extension": ".py",
   "mimetype": "text/x-python",
   "name": "python",
   "nbconvert_exporter": "python",
   "pygments_lexer": "ipython3",
   "version": "3.8.3"
  },
  "varInspector": {
   "cols": {
    "lenName": 16,
    "lenType": 16,
    "lenVar": 40
   },
   "kernels_config": {
    "python": {
     "delete_cmd_postfix": "",
     "delete_cmd_prefix": "del ",
     "library": "var_list.py",
     "varRefreshCmd": "print(var_dic_list())"
    },
    "r": {
     "delete_cmd_postfix": ") ",
     "delete_cmd_prefix": "rm(",
     "library": "var_list.r",
     "varRefreshCmd": "cat(var_dic_list()) "
    }
   },
   "types_to_exclude": [
    "module",
    "function",
    "builtin_function_or_method",
    "instance",
    "_Feature"
   ],
   "window_display": false
  }
 },
 "nbformat": 4,
 "nbformat_minor": 4
}
