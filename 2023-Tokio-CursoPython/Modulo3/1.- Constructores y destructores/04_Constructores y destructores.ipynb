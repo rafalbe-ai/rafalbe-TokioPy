{
 "cells": [
  {
   "cell_type": "markdown",
   "metadata": {},
   "source": [
    "# Métodos especiales de clase\n",
    "## Constructor y destructor"
   ]
  },
  {
   "cell_type": "code",
   "execution_count": 3,
   "metadata": {},
   "outputs": [],
   "source": [
    "class Pelicula:\n",
    "    \n",
    "    # Constructor de clase (al crear la instancia)\n",
    "    def __init__(self,titulo,duracion,lanzamiento):\n",
    "        self.titulo = titulo\n",
    "        self.duracion = duracion\n",
    "        self.lanzamiento = lanzamiento\n",
    "        print(\"Se ha creado la película\",self.titulo)\n",
    "        \n",
    "    # Destructor de clase (al borrar la instancia)\n",
    "    def __del__(self):\n",
    "        print(\"Se ha borrando la película\", self.titulo)"
   ]
  },
  {
   "cell_type": "markdown",
   "metadata": {},
   "source": [
    "#### Creamos y eliminamos un objeto. Ojo. Si reinstanciamos la misma variable más de una vez, se crea de nuevo y se borra la anterior"
   ]
  },
  {
   "cell_type": "code",
   "execution_count": 9,
   "metadata": {},
   "outputs": [
    {
     "name": "stdout",
     "output_type": "stream",
     "text": [
      "Se ha creado la película El Padrino\n"
     ]
    }
   ],
   "source": [
    "p = Pelicula(\"El Padrino\",175,1972)"
   ]
  },
  {
   "cell_type": "code",
   "execution_count": 5,
   "metadata": {},
   "outputs": [
    {
     "name": "stdout",
     "output_type": "stream",
     "text": [
      "<__main__.Pelicula object at 0x000001FF947693F0>\n"
     ]
    }
   ],
   "source": [
    "print(p)"
   ]
  },
  {
   "cell_type": "code",
   "execution_count": 6,
   "metadata": {},
   "outputs": [
    {
     "name": "stdout",
     "output_type": "stream",
     "text": [
      "Se ha borrando la película El Padrino\n"
     ]
    }
   ],
   "source": [
    "del p"
   ]
  },
  {
   "cell_type": "code",
   "execution_count": 7,
   "metadata": {},
   "outputs": [
    {
     "ename": "NameError",
     "evalue": "name 'p' is not defined",
     "output_type": "error",
     "traceback": [
      "\u001b[1;31m---------------------------------------------------------------------------\u001b[0m",
      "\u001b[1;31mNameError\u001b[0m                                 Traceback (most recent call last)",
      "Cell \u001b[1;32mIn[7], line 1\u001b[0m\n\u001b[1;32m----> 1\u001b[0m \u001b[38;5;28mprint\u001b[39m(\u001b[43mp\u001b[49m)\n",
      "\u001b[1;31mNameError\u001b[0m: name 'p' is not defined"
     ]
    }
   ],
   "source": [
    "print(p)"
   ]
  },
  {
   "cell_type": "code",
   "execution_count": 10,
   "metadata": {},
   "outputs": [
    {
     "name": "stdout",
     "output_type": "stream",
     "text": [
      "Como existe, vamos a eliminarlo...\n",
      "Se ha borrando la película El Padrino\n"
     ]
    }
   ],
   "source": [
    "# Chequear si el objeto o variable existe para decidir eliminarlo o no\n",
    "if \"p\" in globals():\n",
    "    print(\"Como existe, vamos a eliminarlo...\")\n",
    "    del p\n",
    "else:\n",
    "    print(\"No existe, así que no lo eliminamos\")"
   ]
  },
  {
   "cell_type": "markdown",
   "metadata": {},
   "source": [
    "## Mostrar información de un objeto: \\_\\_dict\\_\\_ y \\_\\_str\\_\\_"
   ]
  },
  {
   "cell_type": "markdown",
   "metadata": {},
   "source": [
    "### Diccionario (\\_\\_dict\\_\\_)\n",
    "Python nos ofrece una forma predeterminada de mostrar la información de un objeto."
   ]
  },
  {
   "cell_type": "code",
   "execution_count": 11,
   "metadata": {},
   "outputs": [
    {
     "name": "stdout",
     "output_type": "stream",
     "text": [
      "Se ha creado la película El Padrino\n"
     ]
    }
   ],
   "source": [
    "p = Pelicula(\"El Padrino\",175,1972)"
   ]
  },
  {
   "cell_type": "code",
   "execution_count": 12,
   "metadata": {},
   "outputs": [
    {
     "name": "stdout",
     "output_type": "stream",
     "text": [
      "{'titulo': 'El Padrino', 'duracion': 175, 'lanzamiento': 1972}\n"
     ]
    }
   ],
   "source": [
    "peli = p.__dict__\n",
    "print(peli)"
   ]
  },
  {
   "cell_type": "markdown",
   "metadata": {},
   "source": [
    "### String (\\_\\_str\\_\\_)\n",
    "No obstante, el método anterior no nos proporciona ningún tipo de personalización. Si queremos personalizar una salida por pantalla de la información de nuestro objeto tenemos que usar el método __\\_\\_str\\_\\___ de Python, el cual implementaremos en nuestra clase y lo configuraremos a nuestro gusto."
   ]
  },
  {
   "cell_type": "code",
   "execution_count": 13,
   "metadata": {},
   "outputs": [
    {
     "name": "stdout",
     "output_type": "stream",
     "text": [
      "Se ha creado la película El Padrino\n",
      "Se ha borrando la película El Padrino\n",
      "El Padrino lanzada en 1972 con una duración de 175 minutos\n"
     ]
    }
   ],
   "source": [
    "class Pelicula:\n",
    "    \n",
    "    # Constructor de clase\n",
    "    def __init__(self,titulo,duracion,lanzamiento):\n",
    "        self.titulo = titulo\n",
    "        self.duracion = duracion\n",
    "        self.lanzamiento = lanzamiento\n",
    "        print(\"Se ha creado la película\",self.titulo)\n",
    "        \n",
    "    # Destructor de clase\n",
    "    def __del__(self):\n",
    "        print(\"Se ha borrando la película\", self.titulo)\n",
    "        \n",
    "    # Redefinimos el método string\n",
    "    def __str__(self):\n",
    "        return \"{} lanzada en {} con una duración de {} minutos\".format(self.titulo,\n",
    "                                                                        self.lanzamiento,\n",
    "                                                                        self.duracion)\n",
    "        \n",
    "p1 = Pelicula(\"El Padrino\",175,1972)\n",
    "print(p1) # Al hacer print del objeto, se esta invocando el método __str__ de nuestra clase"
   ]
  },
  {
   "cell_type": "markdown",
   "metadata": {},
   "source": [
    "Siempre podemos crear nuestro propio método de visualización, pero el convenio es utilizar __\\_\\_str\\_\\___"
   ]
  },
  {
   "cell_type": "code",
   "execution_count": 2,
   "metadata": {},
   "outputs": [
    {
     "name": "stdout",
     "output_type": "stream",
     "text": [
      "Se ha creado la película El Padrino\n",
      "El Padrino lanzada en 1972 con una duración de 175 minutos\n"
     ]
    }
   ],
   "source": [
    "class Pelicula:\n",
    "    # Constructor de clase\n",
    "    def __init__(self,titulo,duracion,lanzamiento):\n",
    "        self.titulo = titulo\n",
    "        self.duracion = duracion\n",
    "        self.lanzamiento = lanzamiento\n",
    "        print(\"Se ha creado la película\",self.titulo)\n",
    "        \n",
    "    # Destructor de clase\n",
    "    def __del__(self):\n",
    "        print(\"Se ha borrando la película\", self.titulo)\n",
    "    \n",
    "    def mostrar(self):\n",
    "        return \"{} lanzada en {} con una duración de {} minutos\".format(self.titulo,self.lanzamiento,self.duracion)\n",
    "        \n",
    "p2 = Pelicula(\"El Padrino\",175,1972)\n",
    "print(p2.mostrar())"
   ]
  },
  {
   "cell_type": "markdown",
   "metadata": {},
   "source": [
    "## Bonus: Comprobar si un objeto es una instancia de una clase"
   ]
  },
  {
   "cell_type": "code",
   "execution_count": 14,
   "metadata": {},
   "outputs": [
    {
     "name": "stdout",
     "output_type": "stream",
     "text": [
      "Se ha borrando la película El Padrino\n",
      "True\n",
      "False\n",
      "True\n"
     ]
    }
   ],
   "source": [
    "class Producto:\n",
    "    pass\n",
    "\n",
    "class Pedido:\n",
    "    pass\n",
    "\n",
    "class Cliente:\n",
    "    pass\n",
    "\n",
    "p1 = Producto()\n",
    "pd1 = Pedido()\n",
    "c1 = Cliente()\n",
    "\n",
    "print(isinstance(p1, Producto)) # True\n",
    "print(isinstance(c1, Producto)) # False\n",
    "# También se puede evaluar si c1 es instancia de alguna de las clases de la tupla\n",
    "print(isinstance(c1, (Producto, Pedido, Cliente))) # True"
   ]
  },
  {
   "cell_type": "markdown",
   "metadata": {},
   "source": [
    "## Bonus 2: Comprobar si un atributo existe en una clase"
   ]
  },
  {
   "cell_type": "code",
   "execution_count": 2,
   "metadata": {},
   "outputs": [],
   "source": [
    "class Producto:\n",
    "    precio = 0\n",
    "    \n",
    "    def __init__(self, nombre):\n",
    "        self.nombre = nombre # Nombre asignado a través de parámetro\n",
    "\n",
    "p1 = Producto(nombre=\"tablet\")"
   ]
  },
  {
   "cell_type": "code",
   "execution_count": 3,
   "metadata": {},
   "outputs": [
    {
     "name": "stdout",
     "output_type": "stream",
     "text": [
      "True\n",
      "True\n",
      "False\n"
     ]
    }
   ],
   "source": [
    "# Comprobamos que las variables precio y nombre si existen como atributos en el objeto p1 \n",
    "# (aunque sean atributos distintos, uno es de instancia y otro de clase)\n",
    "print(hasattr(p1, \"precio\"))\n",
    "print(hasattr(p1, \"nombre\"))\n",
    "print(hasattr(p1, \"apellidos\"))"
   ]
  },
  {
   "cell_type": "code",
   "execution_count": 4,
   "metadata": {},
   "outputs": [
    {
     "name": "stdout",
     "output_type": "stream",
     "text": [
      "True\n",
      "False\n"
     ]
    }
   ],
   "source": [
    "# Comprobar si las variables precio y nombre son variables de clase en la clase Producto\n",
    "print(hasattr(Producto,\"precio\"))\n",
    "print(hasattr(Producto,\"nombre\"))"
   ]
  },
  {
   "cell_type": "markdown",
   "metadata": {},
   "source": [
    "## Bonus 3: Eliminar atributos de una instancia de clase"
   ]
  },
  {
   "cell_type": "code",
   "execution_count": 5,
   "metadata": {},
   "outputs": [
    {
     "name": "stdout",
     "output_type": "stream",
     "text": [
      "{'nombre': 'tablet'}\n",
      "{}\n"
     ]
    }
   ],
   "source": [
    "print(p1.__dict__) # Mostramos el objeto p1\n",
    "delattr(p1, \"nombre\") # Eliminamos el atributo nombre\n",
    "print(p1.__dict__) # Mostramos el objeto p1\n",
    "\n",
    "# Lo que no se podría eliminar seria precio, ya que no es un atributo de instancia, es un atributo de clase\n",
    "#delattr(p1, \"precio\") # Eliminamos el atributo precio\n",
    "#print(p1.__dict__) # Mostramos el objeto p1"
   ]
  }
 ],
 "metadata": {
  "kernelspec": {
   "display_name": "Python 3 (ipykernel)",
   "language": "python",
   "name": "python3"
  },
  "language_info": {
   "codemirror_mode": {
    "name": "ipython",
    "version": 3
   },
   "file_extension": ".py",
   "mimetype": "text/x-python",
   "name": "python",
   "nbconvert_exporter": "python",
   "pygments_lexer": "ipython3",
   "version": "3.10.10"
  }
 },
 "nbformat": 4,
 "nbformat_minor": 1
}
