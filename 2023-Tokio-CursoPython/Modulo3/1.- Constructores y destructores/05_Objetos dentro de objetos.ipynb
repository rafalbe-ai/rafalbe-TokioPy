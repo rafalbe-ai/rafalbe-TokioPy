{
 "cells": [
  {
   "cell_type": "markdown",
   "metadata": {},
   "source": [
    "### Antes de comenzar, ¿podemos introducir tipos avanzados dentro de nuestros objetos?"
   ]
  },
  {
   "cell_type": "code",
   "execution_count": 1,
   "metadata": {},
   "outputs": [
    {
     "name": "stdout",
     "output_type": "stream",
     "text": [
      "Galleta creada\n",
      "Forma: Cuadrada  con tipo: <class 'str'>\n",
      "Choco: False  con tipo: <class 'bool'>\n",
      "Lista de ingredientes: ['Harina', 'Azucar', 'Vainilla', 'Levadura']  con tipo: <class 'list'>\n",
      "{'forma': 'Cuadrada', 'sabor': 'Vainilla', 'chocolate': False, 'listaIngredientes': ['Harina', 'Azucar', 'Vainilla', 'Levadura']}\n"
     ]
    }
   ],
   "source": [
    "class Galleta:\n",
    "    def __init__(self, forma, sabor, chocolate, listaIngredientes):\n",
    "        self.forma = forma\n",
    "        self.sabor = sabor\n",
    "        self.chocolate = chocolate\n",
    "        self.listaIngredientes = listaIngredientes\n",
    "        print(\"Galleta creada\")\n",
    "        \n",
    "g1 = Galleta(forma = \"Cuadrada\", \n",
    "             sabor = \"Vainilla\", \n",
    "             chocolate = False, \n",
    "             listaIngredientes = [\"Harina\", \"Azucar\", \"Vainilla\", \"Levadura\"])\n",
    "f = g1.forma\n",
    "print(\"Forma:\", f, \" con tipo:\", type(f))\n",
    "c = g1.chocolate\n",
    "print(\"Choco:\", c, \" con tipo:\", type(c))\n",
    "l = g1.listaIngredientes\n",
    "print(\"Lista de ingredientes:\", l, \" con tipo:\", type(l))\n",
    "print(g1.__dict__)"
   ]
  },
  {
   "cell_type": "markdown",
   "metadata": {},
   "source": [
    "## Recuperemos la clase Pelicula con la que ya hemos trabajado"
   ]
  },
  {
   "cell_type": "code",
   "execution_count": 3,
   "metadata": {},
   "outputs": [],
   "source": [
    "class Pelicula:\n",
    "    \n",
    "    # Constructor de clase\n",
    "    def __init__(self, titulo, duracion, lanzamiento):\n",
    "        self.titulo = titulo\n",
    "        self.duracion = duracion\n",
    "        self.lanzamiento = lanzamiento\n",
    "        print('Se ha creado la película:',self.titulo)\n",
    "        \n",
    "    def __str__(self):\n",
    "        return \"{} ({})\".format(self.titulo,self.lanzamiento)"
   ]
  },
  {
   "cell_type": "markdown",
   "metadata": {},
   "source": [
    "## Vamos a crear un director"
   ]
  },
  {
   "cell_type": "code",
   "execution_count": 4,
   "metadata": {},
   "outputs": [
    {
     "name": "stdout",
     "output_type": "stream",
     "text": [
      "Se ha creado el director Ridley Scott con una edad 84\n",
      "Se ha creado el director George Lucas con una edad desconocida\n",
      "Director Ridley Scott con edad 84\n",
      "Ridley\n",
      "Director George Lucas con edad desconocida\n",
      "George\n"
     ]
    }
   ],
   "source": [
    "class Director:\n",
    "    \n",
    "    # Constructor de clase\n",
    "    def __init__(self, nombre, apellido, edad=\"desconocida\"):\n",
    "        self.nombre = nombre\n",
    "        self.apellido = apellido\n",
    "        self.edad = edad\n",
    "        print(\"Se ha creado el director {} {} con una edad {}\".format(self.nombre, self.apellido, self.edad))\n",
    "        \n",
    "    def __str__(self):\n",
    "        return \"Director {} {} con edad {}\".format(self.nombre, self.apellido, self.edad)\n",
    "    \n",
    "d1 = Director(\"Ridley\", \"Scott\", 84)\n",
    "d2 = Director(\"George\", \"Lucas\")\n",
    "print(d1)\n",
    "print(d1.nombre)\n",
    "print(d2)\n",
    "print(d2.nombre)"
   ]
  },
  {
   "cell_type": "markdown",
   "metadata": {},
   "source": [
    "#### Tenemos objetos de la clase Director, vamos a reconstruir la clase Pelicula para poder añadir la información del Director a cada pelicula"
   ]
  },
  {
   "cell_type": "code",
   "execution_count": 5,
   "metadata": {},
   "outputs": [
    {
     "name": "stdout",
     "output_type": "stream",
     "text": [
      "Se ha creado la película: Alien el octavo pasajero\n",
      "Alien el octavo pasajero (1979) -> Director Ridley Scott con edad 84\n"
     ]
    }
   ],
   "source": [
    "class Pelicula:\n",
    "    \n",
    "    # Constructor de clase\n",
    "    def __init__(self, titulo, duracion, lanzamiento, director):\n",
    "        self.titulo = titulo\n",
    "        self.duracion = duracion\n",
    "        self.lanzamiento = lanzamiento\n",
    "        self.director = director\n",
    "        print('Se ha creado la película:',self.titulo)\n",
    "        \n",
    "    def __str__(self):\n",
    "        return \"{} ({}) -> {}\".format(self.titulo, self.lanzamiento, self.director)\n",
    "    \n",
    "p_alien = Pelicula(titulo = \"Alien el octavo pasajero\", \n",
    "                   duracion = 200, \n",
    "                   lanzamiento = 1979, \n",
    "                   director = d1)\n",
    "print(p_alien)"
   ]
  },
  {
   "cell_type": "code",
   "execution_count": null,
   "metadata": {},
   "outputs": [],
   "source": [
    "# Comprobación\n",
    "print(type(p_alien.titulo))\n",
    "print(type(p_alien.duracion))\n",
    "print(type(p_alien.lanzamiento))\n",
    "print(type(p_alien.director))"
   ]
  },
  {
   "cell_type": "markdown",
   "metadata": {},
   "source": [
    "## Algo más avanzado: Creando un catálogo de películas\n",
    "Vamos a utilizar algo muy común, crear listas de objetos, de esta forma podemos almacenar gran cantidad de información en un único sitio y gestionarlo con la facilidad que nos proporcionan las listas"
   ]
  },
  {
   "cell_type": "code",
   "execution_count": 7,
   "metadata": {},
   "outputs": [],
   "source": [
    "# Retomemos la clase Pelicula original\n",
    "class Pelicula:\n",
    "    \n",
    "    # Constructor de clase\n",
    "    def __init__(self, titulo, duracion, lanzamiento):\n",
    "        self.titulo = titulo\n",
    "        self.duracion = duracion\n",
    "        self.lanzamiento = lanzamiento\n",
    "        print('Gracias por registrar su pelicula favorita:',self.titulo)\n",
    "        \n",
    "    def __str__(self):\n",
    "        return \"{} ({})\".format(self.titulo,self.lanzamiento)\n",
    "\n",
    "class Catalogo:\n",
    "    \n",
    "    # El valor por defecto del catálogo es peliculas=[]\n",
    "    def __init__(self, nombre, peliculas=[]):\n",
    "        self.nombre = nombre\n",
    "        self.peliculas = peliculas\n",
    "        if(len(self.peliculas) == 0):\n",
    "            print('Se ha creado el catalogo vacío')\n",
    "        else:\n",
    "            print('Se ha creado el catalogo con las peliculas asignadas')\n",
    "        \n",
    "    def agregar(self,p):  # p será un objeto Pelicula\n",
    "        self.peliculas.append(p)\n",
    "        print('Se ha agregado al catalogo la película: {}'.format(p.titulo))\n",
    "        \n",
    "    def mostrar(self):\n",
    "        print(\"Catálogo: {}\".format(self.nombre))\n",
    "        for p in self.peliculas:\n",
    "            print(\" >>>\", p)  # Print toma por defecto str(p)\n",
    "            \n",
    "    def __str__(self):\n",
    "        return \"El catálogo {} tiene {} peliculas\".format(self.nombre, len(self.peliculas))"
   ]
  },
  {
   "cell_type": "code",
   "execution_count": 8,
   "metadata": {},
   "outputs": [
    {
     "name": "stdout",
     "output_type": "stream",
     "text": [
      "Se ha creado el catalogo con las peliculas asignadas\n"
     ]
    }
   ],
   "source": [
    "# Si nosotros hacemos esto, solo estamos guardando una lista de titulos de peliculas\n",
    "# Esto no es lo que queremos, nosotros dentro del catalogo queremos tener varias peliculas pero con toda su información\n",
    "c = Catalogo(nombre = \"Pelis favoritas\", peliculas = [\"El Padrino\", \"Alien\"])"
   ]
  },
  {
   "cell_type": "code",
   "execution_count": 9,
   "metadata": {},
   "outputs": [
    {
     "name": "stdout",
     "output_type": "stream",
     "text": [
      "Gracias por registrar su pelicula favorita: El Padrino\n",
      "Gracias por registrar su pelicula favorita: Alien el octavo pasajero\n",
      "<class 'list'>\n",
      "[<__main__.Pelicula object at 0x0000017507D1B970>, <__main__.Pelicula object at 0x0000017507D1A830>]\n",
      "El Padrino (1972)\n",
      "Alien el octavo pasajero (1979)\n"
     ]
    }
   ],
   "source": [
    "p1 = Pelicula(titulo = \"El Padrino\", duracion = 175, lanzamiento = 1972)\n",
    "p2 = Pelicula(titulo = \"Alien el octavo pasajero\", duracion = 200, lanzamiento = 1979)\n",
    "listaPeliculas = [p1, p2]\n",
    "print(type(listaPeliculas))\n",
    "print(listaPeliculas)\n",
    "for peli in listaPeliculas:\n",
    "    print(peli)"
   ]
  },
  {
   "cell_type": "code",
   "execution_count": 10,
   "metadata": {},
   "outputs": [
    {
     "name": "stdout",
     "output_type": "stream",
     "text": [
      "Se ha creado el catalogo con las peliculas asignadas\n"
     ]
    }
   ],
   "source": [
    "c = Catalogo(nombre = \"Pelis favoritas\", peliculas = listaPeliculas) # Creamos el catalogo con dos pelicula"
   ]
  },
  {
   "cell_type": "code",
   "execution_count": 11,
   "metadata": {},
   "outputs": [
    {
     "name": "stdout",
     "output_type": "stream",
     "text": [
      "El catálogo Pelis favoritas tiene 2 peliculas\n"
     ]
    }
   ],
   "source": [
    "print(c)"
   ]
  },
  {
   "cell_type": "code",
   "execution_count": 12,
   "metadata": {},
   "outputs": [
    {
     "name": "stdout",
     "output_type": "stream",
     "text": [
      "Catálogo: Pelis favoritas\n",
      " >>> El Padrino (1972)\n",
      " >>> Alien el octavo pasajero (1979)\n"
     ]
    }
   ],
   "source": [
    "c.mostrar()"
   ]
  },
  {
   "cell_type": "code",
   "execution_count": 13,
   "metadata": {},
   "outputs": [
    {
     "name": "stdout",
     "output_type": "stream",
     "text": [
      "Gracias por registrar su pelicula favorita: El Padrino: Parte 2\n",
      "Se ha agregado al catalogo la película: El Padrino: Parte 2\n"
     ]
    }
   ],
   "source": [
    "c.agregar(Pelicula(titulo=\"El Padrino: Parte 2\",duracion=202,lanzamiento=1974))  # Añadimos una película directamente"
   ]
  },
  {
   "cell_type": "code",
   "execution_count": 14,
   "metadata": {},
   "outputs": [
    {
     "name": "stdout",
     "output_type": "stream",
     "text": [
      "Gracias por registrar su pelicula favorita: El Padrino: Parte 3\n",
      "Se ha agregado al catalogo la película: El Padrino: Parte 3\n"
     ]
    }
   ],
   "source": [
    "# Alternativa a la linea anterior\n",
    "p3 = Pelicula(titulo=\"El Padrino: Parte 3\",duracion=202,lanzamiento=1974)\n",
    "c.agregar(p3)"
   ]
  },
  {
   "cell_type": "code",
   "execution_count": 15,
   "metadata": {},
   "outputs": [
    {
     "name": "stdout",
     "output_type": "stream",
     "text": [
      "Catálogo: Pelis favoritas\n",
      " >>> El Padrino (1972)\n",
      " >>> Alien el octavo pasajero (1979)\n",
      " >>> El Padrino: Parte 2 (1974)\n",
      " >>> El Padrino: Parte 3 (1974)\n"
     ]
    }
   ],
   "source": [
    "c.mostrar()"
   ]
  },
  {
   "cell_type": "code",
   "execution_count": 16,
   "metadata": {},
   "outputs": [
    {
     "name": "stdout",
     "output_type": "stream",
     "text": [
      "El catálogo Pelis favoritas tiene 4 peliculas\n"
     ]
    }
   ],
   "source": [
    "print(c)"
   ]
  },
  {
   "cell_type": "code",
   "execution_count": 66,
   "metadata": {},
   "outputs": [
    {
     "name": "stdout",
     "output_type": "stream",
     "text": [
      "Se ha creado el catalogo vacío\n",
      "Catálogo: Pelis pendientes\n"
     ]
    }
   ],
   "source": [
    "# Tambien podemos crear un catalogo vacio\n",
    "c2 = Catalogo(nombre=\"Pelis pendientes\")\n",
    "c2.mostrar()"
   ]
  },
  {
   "cell_type": "code",
   "execution_count": 67,
   "metadata": {},
   "outputs": [
    {
     "name": "stdout",
     "output_type": "stream",
     "text": [
      "Gracias por registrar su pelicula favorita: Matrix\n",
      "Gracias por registrar su pelicula favorita: Matrix Reloaded\n",
      "Gracias por registrar su pelicula favorita: Matrix Revolutions\n",
      "Se ha creado el catalogo con las peliculas asignadas\n",
      "Catálogo: Pelis CiFi\n",
      " >>> Matrix (1999)\n",
      " >>> Matrix Reloaded (2003)\n",
      " >>> Matrix Revolutions (2003)\n"
     ]
    }
   ],
   "source": [
    "# Todo junto\n",
    "pM1 = Pelicula(\"Matrix\",175,1999)\n",
    "pM2 = Pelicula(\"Matrix Reloaded\",175,2003)\n",
    "pM3 = Pelicula(\"Matrix Revolutions\",175,2003)\n",
    "c3 = Catalogo(nombre=\"Pelis CiFi\", peliculas=[pM1, pM2, pM3])\n",
    "c3.mostrar()"
   ]
  },
  {
   "cell_type": "code",
   "execution_count": 68,
   "metadata": {},
   "outputs": [
    {
     "name": "stdout",
     "output_type": "stream",
     "text": [
      "Se ha agregado al catalogo la película: Matrix\n",
      "Catálogo: Pelis favoritas\n",
      " >>> El Padrino (1972)\n",
      " >>> Alien el octavo pasajero (1979)\n",
      " >>> El Padrino: Parte 2 (1974)\n",
      " >>> El Padrino: Parte 3 (1978)\n",
      " >>> Matrix (1999)\n"
     ]
    }
   ],
   "source": [
    "c.agregar(pM1)\n",
    "c.mostrar()"
   ]
  }
 ],
 "metadata": {
  "kernelspec": {
   "display_name": "Python 3 (ipykernel)",
   "language": "python",
   "name": "python3"
  },
  "language_info": {
   "codemirror_mode": {
    "name": "ipython",
    "version": 3
   },
   "file_extension": ".py",
   "mimetype": "text/x-python",
   "name": "python",
   "nbconvert_exporter": "python",
   "pygments_lexer": "ipython3",
   "version": "3.10.10"
  }
 },
 "nbformat": 4,
 "nbformat_minor": 1
}
