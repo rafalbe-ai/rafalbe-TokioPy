{
 "cells": [
  {
   "cell_type": "markdown",
   "metadata": {},
   "source": [
    "# Ejercicios Modulo 4. Unidad 3. Errores y Excepciones\n",
    "\n",
    "Consideraciones a tener en cuenta: \n",
    "\n",
    "* Guardar este documento con el siguiente formato para su entrega: __M4_03_nombre_apellido1_apellido2__\n",
    "* Realizar los ejercicios con las herramientas vistas en las sesiones. \n",
    "* Comentar el código\n",
    "* Utilizar nombres de variables apropiados, si vais a guardar una nota, llamar a esa variable nota, no n o x"
   ]
  },
  {
   "cell_type": "markdown",
   "metadata": {},
   "source": [
    "**Identificar los errores en los siguiente bloques de código y evaluarlos con excepciones especificas para evitar errores no controlados en nuestros programas. Añade mensajes explicativos para el usuario.**\n",
    "<br>_Nota: Se tienen que evaluar excepciones concretas, no hacer referencia a Exception sin más._"
   ]
  },
  {
   "cell_type": "markdown",
   "metadata": {},
   "source": [
    "**1) Código a evaluar:**"
   ]
  },
  {
   "cell_type": "code",
   "execution_count": 2,
   "metadata": {},
   "outputs": [
    {
     "name": "stdout",
     "output_type": "stream",
     "text": [
      "No se puede dividir por cero\n"
     ]
    }
   ],
   "source": [
    "try:\n",
    "    numero = 7/0\n",
    "except ZeroDivisionError:\n",
    "    print('No se puede dividir por cero')\n",
    "\n"
   ]
  },
  {
   "cell_type": "markdown",
   "metadata": {},
   "source": [
    "**2) Código a evaluar:**"
   ]
  },
  {
   "cell_type": "code",
   "execution_count": 3,
   "metadata": {},
   "outputs": [
    {
     "name": "stdout",
     "output_type": "stream",
     "text": [
      "Ha intentado acceder a un elemento de la lista que no existe\n"
     ]
    }
   ],
   "source": [
    "lista = [4, 7, 30, 23, 5]\n",
    "try: \n",
    "    lista[10]\n",
    "except IndexError:\n",
    "    print('Ha intentado acceder a un elemento de la lista que no existe')"
   ]
  },
  {
   "cell_type": "markdown",
   "metadata": {},
   "source": [
    "**3) Código a evaluar:**"
   ]
  },
  {
   "cell_type": "code",
   "execution_count": 5,
   "metadata": {},
   "outputs": [
    {
     "name": "stdout",
     "output_type": "stream",
     "text": [
      "La clave a la que intenta acceder no existe, por lo que no se le devolverá ningún valor\n"
     ]
    }
   ],
   "source": [
    "paises = { \"españa\":\"español\", \"eeuu\":\"inglés\", \"italia\":\"italiano\" } \n",
    "try:\n",
    "    paises[\"alemania\"]\n",
    "except KeyError:\n",
    "    print('La clave a la que intenta acceder no existe, por lo que no se le devolverá ningún valor')"
   ]
  },
  {
   "cell_type": "markdown",
   "metadata": {},
   "source": [
    "**4) Localiza el error en el siguiente bloque de código.  Crea una excepción para evitar que el programa se bloquee y además explica en un mensaje al usuario la causa y/o solución:**"
   ]
  },
  {
   "cell_type": "code",
   "execution_count": 6,
   "metadata": {},
   "outputs": [
    {
     "name": "stdout",
     "output_type": "stream",
     "text": [
      "No se puede sumar un string con un entero\n"
     ]
    }
   ],
   "source": [
    "try:\n",
    "    resultado = \"2\" + 10\n",
    "except TypeError:\n",
    "    print('No se puede sumar un string con un entero')"
   ]
  },
  {
   "cell_type": "markdown",
   "metadata": {},
   "source": [
    "**5) Realiza una función llamada agregar_sin_repetidos() que reciba una lista y un elemento. La función debe añadir el elemento al final de la lista con la condición de no repetir ningún elemento. Además si este elemento ya se encuentra en la lista se debe invocar un error de tipo ValueError que debes capturar y mostrar este mensaje en su lugar:**\n",
    "\n",
    "```\n",
    "  Error: Imposible añadir elementos duplicados => [elemento].\n",
    "```\n",
    "**Prueba a agregar los elementos 7, \"Python\" y 5 a través de la función agregar_sin_repetidos() e imprime la lista completa al finalizar.**\n",
    "\n",
    "*Pista: Puedes utilizar la sintaxis: elemento in lista*"
   ]
  },
  {
   "cell_type": "code",
   "execution_count": 20,
   "metadata": {},
   "outputs": [
    {
     "name": "stdout",
     "output_type": "stream",
     "text": [
      "Finalmente, la lista queda como sigue: [3, 5, 10, 33]\n",
      "Pase lo que pase, esto se ejecuta\n"
     ]
    }
   ],
   "source": [
    "#*Asumimos que sólo permitimos números enteros\n",
    "elementos = [3, 5, 10]\n",
    "try:\n",
    "    numero = int(input('Introduzca el número que desea añadir la lista'))\n",
    "    if numero in elementos:\n",
    "        raise IndexError\n",
    "except TypeError:\n",
    "    print('El valor introducido no es un número. Puede elegir un número entero o un número real, pero un número')\n",
    "except IndexError:\n",
    "    print(f'Error: Imposible añadir elementos duplicados => [{numero}] porque ya existe en {elementos}')\n",
    "else:\n",
    "    elementos.append(numero)\n",
    "    print(f\"Finalmente, la lista queda como sigue: {elementos}\") \n",
    "finally:\n",
    "    print('Pase lo que pase, esto se ejecuta')\n",
    "    "
   ]
  },
  {
   "cell_type": "markdown",
   "metadata": {},
   "source": [
    "**6) Busca en la documentación otra excepción que no se haya utilizado hasta ahora y realiza los siguientes pasos:**\n",
    "* Provoca el error en un código de ejemplo. \n",
    "* Una vez que las hayas provocado, contrólalas con try-except\n",
    "* Muestra al usuario la información por defecto que proporcione la excepción. Pista: as\n",
    "* Personaliza el mensaje que se le proporciona al usuario utilizando todo lo anterior"
   ]
  },
  {
   "cell_type": "code",
   "execution_count": 66,
   "metadata": {},
   "outputs": [
    {
     "name": "stdout",
     "output_type": "stream",
     "text": [
      "ImportError.str --> cannot import name 'claseerronena' from 'ficheroerroneo' (c:\\Users\\RafaelAlbesaAlcón\\Documents\\2023-CodigoPython\\rafalbe-TokioPy\\2023-Tokio-CursoPython\\Modulo 4\\3.- Errores y Excepciones\\ficheroerroneo.py)\n",
      "ImportError.doc --> Import can't find module, or can't find name in module.\n",
      "Ha intentado usted importar una clase que no existe. Compruebe que la clase está en el fichero adecuado\n",
      "Salimos de la prueba\n"
     ]
    }
   ],
   "source": [
    "import os\n",
    "prueba = input('Tipo prueba (1.- Assertion, 2.- ImportError, 3.-FileNotFoudError):')\n",
    "\n",
    "try:\n",
    "    if prueba == '1':\n",
    "        y = 22\n",
    "        assert y != 22 \n",
    "    elif prueba == '2':\n",
    "        from ficheroerroneo import claseerronena\n",
    "    elif prueba == '3':\n",
    "        os.remove('C:/FIcheroquenoexiste.txt')\n",
    "except AssertionError as e:\n",
    "    print(f\"AssertionErro.str --> {e.__str__()}\")\n",
    "    print(f\"AssertionErro.doc --> {e.__doc__}\")\n",
    "    print('Ha intentado comprobar (assert) algo y la condición no se cumple.')\n",
    "except ImportError as e:\n",
    "    print(f\"ImportError.str --> {e.__str__()}\")\n",
    "    print(f\"ImportError.doc --> {e.__doc__}\")\n",
    "    print('Ha intentado usted importar una clase que no existe. Compruebe que la clase está en el fichero adecuado')\n",
    "except FileNotFoundError as e:\n",
    "    print(f\"ImportError.str --> {e.__str__()}\")\n",
    "    print(f\"ImportError.doc --> {e.__doc__}\")\n",
    "    print('Ha intentado usted acceder a un fichero que no existe.')\n",
    "else:\n",
    "    print('No se ha seleccionado ninguna prueba')\n",
    "finally:\n",
    "    print('Salimos de la prueba')"
   ]
  }
 ],
 "metadata": {
  "anaconda-cloud": {},
  "kernelspec": {
   "display_name": "Python 3",
   "language": "python",
   "name": "python3"
  },
  "language_info": {
   "codemirror_mode": {
    "name": "ipython",
    "version": 3
   },
   "file_extension": ".py",
   "mimetype": "text/x-python",
   "name": "python",
   "nbconvert_exporter": "python",
   "pygments_lexer": "ipython3",
   "version": "3.12.0"
  }
 },
 "nbformat": 4,
 "nbformat_minor": 1
}
