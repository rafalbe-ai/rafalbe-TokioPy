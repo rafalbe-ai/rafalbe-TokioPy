{
 "cells": [
  {
   "cell_type": "markdown",
   "metadata": {},
   "source": [
    "# Ejercicios Modulo 4. Unidad 4. Datos temporales (Soluciones)\n",
    "\n",
    "Consideraciones a tener en cuenta: \n",
    "\n",
    "* Guardar este documento con el siguiente formato para su entrega: __M4_04_nombre_apellido1_apellido2__\n",
    "* Realizar los ejercicios con las herramientas vistas en las sesiones. \n",
    "* Comentar el código\n",
    "* Utilizar nombres de variables apropiados, si vais a guardar una nota, llamar a esa variable nota, no n o x"
   ]
  },
  {
   "cell_type": "markdown",
   "metadata": {},
   "source": [
    "**1) Dadas las dos siguientes fechas, que corresponden a las fechas de nacimiento de dos hermanos (en la zona horaria de Europe/Madrid), indica cual es la diferencia entre ellos en días, horas, minutos y segundos**"
   ]
  },
  {
   "cell_type": "code",
   "execution_count": 3,
   "metadata": {},
   "outputs": [
    {
     "name": "stdout",
     "output_type": "stream",
     "text": [
      "La diferencia entre 1985-10-20 17:55:00 y 1992-06-25 18:30:00 como tipo timedelta es 2440 days, 0:35:00\n",
      "La diferencia entre 1985-10-20 17:55:00 y 1992-06-25 18:30:00 es de 2440 dias, 0 horas, 35 minutos y 0 segundos\n"
     ]
    }
   ],
   "source": [
    "# Completa el ejercicio aquí\n",
    "from datetime import datetime\n",
    "#import pytz\n",
    "import locale\n",
    "locale.setlocale(locale.LC_ALL, 'es-ES')\n",
    "hijo1 = datetime(1985, 10, 20, 17, 55)\n",
    "hijo2 = datetime(1992, 6, 25, 18, 30)\n",
    "\n",
    "#Opción 1:Cálculo como timedelta\n",
    "diferencia = hijo2-hijo1\n",
    "print(f\"La diferencia entre {hijo1} y {hijo2} como tipo {type(diferencia).__name__} es {diferencia}\")\n",
    "\n",
    "\n",
    "#Opción 2: Clásica, sin utilizar funciones especiales\n",
    "diferencia.total_seconds()/(3600*24)\n",
    "dias, diferencia = divmod(diferencia.total_seconds(), 60*60*24)\n",
    "horas, diferencia = divmod(diferencia, 60*60)\n",
    "minutos,diferencia = divmod(diferencia, 60)\n",
    "segundos = diferencia\n",
    "print(f\"La diferencia entre {hijo1} y {hijo2} es de {int(dias)} dias, {int(horas)} horas, {int(minutos)} minutos y {int(segundos)} segundos\")\n",
    "\n"
   ]
  },
  {
   "cell_type": "code",
   "execution_count": null,
   "metadata": {},
   "outputs": [],
   "source": []
  },
  {
   "cell_type": "markdown",
   "metadata": {},
   "source": [
    "**2) Crea una función que se llame formato_fecha() que reciba por parámetro una fecha del tipo datetime y nos devuelva el siguiente formato: \"20 de Abril del 2020\".**\n",
    "\n",
    "**En muchas ocasiones nuestros sistemas estan configurados de forma predeterminada en inglés, y no se puede cambiar la localidad a español. Por lo tanto, tenemos que aprender a seleccionar y mostrar los meses en español a pesar de que nuestro sistema se encuentre en inglés o en otro idioma. Crear una tupla para almacenar el listado de meses en español para poder seleccionar el nombre del mes adecuado en función a una fecha que le proporcionemos al programa. Queda prohibído utilizar metodos como locale, setlocale o strftime.**\n",
    "\n",
    "**Prueba la función enviándole una fecha predefinida por ti y la fecha actual (now)**"
   ]
  },
  {
   "cell_type": "code",
   "execution_count": 4,
   "metadata": {},
   "outputs": [
    {
     "name": "stdout",
     "output_type": "stream",
     "text": [
      "2024-02-15 21:20:44.126611 --> 15 de febrero de 2024\n",
      "2024-02-15 21:20:44.126612 --> 15 de febrero de 2024\n"
     ]
    }
   ],
   "source": [
    "def dt_to_str(fecha: datetime) -> str:\n",
    "    meses = ('enero', 'febrero', 'marzo','abril','mayo','junio','julio','agosto','septiembre','octubre','noviembre','diciembre')\n",
    "    return f\"{fecha.day} de {meses[fecha.month-1]} de {fecha.year}\"\n",
    "\n",
    "fecha = datetime.now()\n",
    "print(f\"{fecha} --> {dt_to_str(fecha) }\")\n",
    "fecha = datetime.today()\n",
    "print(f\"{fecha} --> {dt_to_str(fecha) }\")\n"
   ]
  },
  {
   "cell_type": "markdown",
   "metadata": {},
   "source": [
    "**3) Utilizando strftime y formatea la fecha actual para que salga con el siguiente formato (sin los puntos):**\n",
    "* Día: 20\n",
    "* Mes: 04\n",
    "* Año: 2020\n",
    "* Hora: 16\n",
    "* Minutos: 19\n",
    "* Segundos (y milisegundos): 08.879057"
   ]
  },
  {
   "cell_type": "code",
   "execution_count": 5,
   "metadata": {
    "scrolled": true
   },
   "outputs": [
    {
     "name": "stdout",
     "output_type": "stream",
     "text": [
      "2024-02-15 21:20:47.495081\n",
      "- dia: 15\n",
      "- mes: 02\n",
      "- año: 2024\n",
      "- hora: 21\n",
      "- minuto: 20\n",
      "- segundo(microsegundos): 47.495081\n",
      "- segundo(miliegundos): 47.495\n",
      "____________________________\n",
      "- Dia: 15\n",
      "- mes: 2\n",
      "- año: 2024\n",
      "- hora: 21\n",
      "- minutos: 20\n",
      "- segundos (y milisegundos): 47\n",
      "- milisegundos: 495.081\n"
     ]
    }
   ],
   "source": [
    "fecha = datetime.today()\n",
    "print(fecha)\n",
    "#Opcion 1\n",
    "print(fecha.strftime('- dia: %d\\n- mes: %m\\n- año: %Y\\n- hora: %H\\n- minuto: %M\\n- segundo(microsegundos): %S.%f\\n- segundo(miliegundos): %S.%f')[:-3])\n",
    "print(\"____________________________\")\n",
    "#Opcion 2\n",
    "print(f\"- Dia: {fecha.day}\\n- mes: {fecha.month}\\n- año: {fecha.year}\\n- hora: {fecha.hour}\\n- minutos: {fecha.minute}\\n- segundos (y milisegundos): {fecha.second}\\n- milisegundos: {fecha.microsecond/1000}\")\n"
   ]
  }
 ],
 "metadata": {
  "anaconda-cloud": {},
  "kernelspec": {
   "display_name": "Python 3",
   "language": "python",
   "name": "python3"
  },
  "language_info": {
   "codemirror_mode": {
    "name": "ipython",
    "version": 3
   },
   "file_extension": ".py",
   "mimetype": "text/x-python",
   "name": "python",
   "nbconvert_exporter": "python",
   "pygments_lexer": "ipython3",
   "version": "3.12.2"
  }
 },
 "nbformat": 4,
 "nbformat_minor": 1
}
