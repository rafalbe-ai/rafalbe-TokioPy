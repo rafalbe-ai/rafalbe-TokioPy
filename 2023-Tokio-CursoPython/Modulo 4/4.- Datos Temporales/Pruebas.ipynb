{
 "cells": [
  {
   "cell_type": "code",
   "execution_count": 2,
   "metadata": {},
   "outputs": [
    {
     "name": "stdout",
     "output_type": "stream",
     "text": [
      "2024-02-14 17:22:29.781677\n",
      "2024\n",
      "2\n",
      "14\n",
      "17\n",
      "22\n",
      "29\n",
      "781677\n",
      "None\n",
      "2025-03-06 11:12:03\n",
      "2026-03-20 11:12:03\n"
     ]
    }
   ],
   "source": [
    "from datetime import datetime, date, time, timedelta, timezone\n",
    "dt = datetime.now()\n",
    "print(dt)\n",
    "print(dt.year)\n",
    "print(dt.month)\n",
    "print(dt.day)\n",
    "print(dt.hour)\n",
    "print(dt.minute)\n",
    "print(dt.second)\n",
    "print(dt.microsecond)\n",
    "print(dt.tzinfo)\n",
    "dt = datetime(2025,3,6,11,12,3)\n",
    "print(dt)\n",
    "dt = dt.replace(year=2026)\n",
    "dt = dt.replace(day = 20)\n",
    "print(dt)"
   ]
  },
  {
   "cell_type": "code",
   "execution_count": 17,
   "metadata": {},
   "outputs": [
    {
     "name": "stdout",
     "output_type": "stream",
     "text": [
      "Hora 1 = 10:05:00\n",
      "Hora 2 = 11:00:01\n",
      "hora1 > hora2?? False\n",
      "Incrementamos hora 1 en dos horas:\n",
      "Hora 1 = 12:05:00\n",
      "Hora 2 = 11:00:01\n",
      "hora1 > hora2?? True\n"
     ]
    }
   ],
   "source": [
    "hora1 = time(10, 5, 0)\n",
    "print(f\"Hora 1 = {hora1}\")\n",
    "hora2 = time(11,0, 1)\n",
    "print(f\"Hora 2 = {hora2}\")\n",
    "print(f'hora1 > hora2?? {hora1 > hora2}')\n",
    "print('Incrementamos hora 1 en dos horas:')\n",
    "hora1 = hora1.replace(hour = 12)\n",
    "print(f\"Hora 1 = {hora1}\")\n",
    "print(f\"Hora 2 = {hora2}\")\n",
    "print(f'hora1 > hora2?? {hora1 > hora2}')\n",
    "\n",
    "\n"
   ]
  },
  {
   "cell_type": "code",
   "execution_count": 19,
   "metadata": {},
   "outputs": [
    {
     "name": "stdout",
     "output_type": "stream",
     "text": [
      "Fecha1 = 2024-02-14\n",
      "Fecha2 = 2024-02-16\n",
      "Fecha1 > Fecha2?? False\n"
     ]
    }
   ],
   "source": [
    "fecha1 = date.today()\n",
    "print(f'Fecha1 = {fecha1}')\n",
    "fecha2 = fecha1 + timedelta(days = 2)\n",
    "print(f'Fecha2 = {fecha2}')\n",
    "print(f'Fecha1 > Fecha2?? {fecha1 > fecha2}')\n"
   ]
  },
  {
   "cell_type": "markdown",
   "metadata": {},
   "source": []
  },
  {
   "cell_type": "code",
   "execution_count": 27,
   "metadata": {},
   "outputs": [
    {
     "name": "stdout",
     "output_type": "stream",
     "text": [
      "2024-02-14 17:51:53.965775\n",
      "Wednesday 14 February 2024 05:51\n",
      "miércoles 14 de febrero 2024 -- hora: 17:51\n"
     ]
    }
   ],
   "source": [
    "import locale\n",
    "\n",
    "dt = datetime.today()\n",
    "print(dt)\n",
    "locale.setlocale(locale.LC_ALL, 'en-US')\n",
    "print(dt.strftime('%A %d %B %Y %I:%M'))\n",
    "locale.setlocale(locale.LC_ALL, 'es-ES')\n",
    "print(dt.strftime('%A %d de %B %Y -- hora: %H:%M'))\n"
   ]
  }
 ],
 "metadata": {
  "kernelspec": {
   "display_name": "Python 3",
   "language": "python",
   "name": "python3"
  },
  "language_info": {
   "codemirror_mode": {
    "name": "ipython",
    "version": 3
   },
   "file_extension": ".py",
   "mimetype": "text/x-python",
   "name": "python",
   "nbconvert_exporter": "python",
   "pygments_lexer": "ipython3",
   "version": "3.12.0"
  }
 },
 "nbformat": 4,
 "nbformat_minor": 2
}
