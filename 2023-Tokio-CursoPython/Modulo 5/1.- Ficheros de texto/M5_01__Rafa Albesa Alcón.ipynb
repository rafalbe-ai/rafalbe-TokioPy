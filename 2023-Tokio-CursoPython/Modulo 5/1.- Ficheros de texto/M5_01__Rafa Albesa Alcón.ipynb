{
 "cells": [
  {
   "cell_type": "markdown",
   "metadata": {},
   "source": [
    "# Ejercicios Modulo 5. Ficheros (Enunciado)\n",
    "\n",
    "Consideraciones a tener en cuenta: \n",
    "\n",
    "* Guardar este documento con el siguiente formato para su entrega: __M5_01_nombre_apellido1_apellido2__\n",
    "* Realizar los ejercicios con las herramientas vistas en las sesiones. \n",
    "* Comentar el código\n",
    "* Utilizar nombres de variables apropiados, si vais a guardar una nota, llamar a esa variable nota, no n o x"
   ]
  },
  {
   "cell_type": "markdown",
   "metadata": {},
   "source": [
    "**1) En este ejercicio deberás crear un programa que abra y lea un fichero de texto, y nos proporcione la siguiente información:**\n",
    "\n",
    "* Nombre del fichero\n",
    "* Si el fichero esta cerrado o no (True o False)\n",
    "* El modo de apertura del fichero\n",
    "\n",
    "El fichero de texto se denominará **pruebas.txt** y tendrá el siguiente contenido en texto plano (créalo previamente):\n",
    "\n",
    "```\n",
    "Hola que tal estas\n",
    "Esto es una prueba\n",
    "Hoy no llueve\n",
    "Se acerca la navidad\n",
    "Hasta luego y muy buenas\n",
    "```\n",
    "\n",
    "Busca en la documentación que métodos nos proporcionan la información requerida. Por último, lista el contenido del fichero.\n",
    "\n",
    "**Aviso importante**: *Si quieres leer un fichero que no se ha escrito directamente con Python, entonces es posible que encuentres errores de codificación al mostrar algunos caracteres. Asegúrate de indicar la codificación del fichero manualmente durante la apertura como argumento en el **open**, por ejemplo con UTF-8:*\n",
    "\n",
    "```python\n",
    "open(..., encoding=\"utf8\")\n",
    "```"
   ]
  },
  {
   "cell_type": "code",
   "execution_count": 26,
   "metadata": {},
   "outputs": [
    {
     "name": "stdout",
     "output_type": "stream",
     "text": [
      "El fichero \u001b[32mpruebas.txt\u001b[0m contiene lo siguiente:\n",
      "\u001b[34mHola que tal estas\n",
      "Esto es una prueba\n",
      "Hoy no llueve\n",
      "Se acerca la navidad\n",
      "Hasta luego y muy buenas\n",
      "\u001b[0m\n"
     ]
    }
   ],
   "source": [
    "from datetime import datetime\n",
    "import locale\n",
    "import copy\n",
    "from IPython.display import clear_output\n",
    "\n",
    "\n",
    "class Colores_RAA:\n",
    "    NEGRO = '\\033[30m'\n",
    "    ROJO = '\\033[31m'\n",
    "    VERDE = '\\033[32m'\n",
    "    NARANJA = '\\033[33m'\n",
    "    AZUL = '\\033[34m'\n",
    "    MORADO = '\\033[35m'\n",
    "    CIAN = '\\033[36m'\n",
    "    GRISCLARO = '\\033[37m'\n",
    "    GRISOSCURO = '\\033[90m'\n",
    "    ROJOCLARO = '\\033[91m'\n",
    "    VERDECLARO = '\\033[92m'\n",
    "    AMARILLO = '\\033[93m'\n",
    "    AZULCLARO = '\\033[94m'\n",
    "    ROSA = '\\033[95m'\n",
    "    CIANCLARO = '\\033[96m'\n",
    "    FINBLOQUE = '\\033[0m'\n",
    "    NEGRITA = '\\033[1m'\n",
    "    SUBRAYADO = '\\033[4m'\n",
    "    \n",
    "fichero = open(\"pruebas.txt\", 'r', encoding = \"utf8\")\n",
    "print(f\"El fichero {Colores_RAA.VERDE}{fichero.name}{Colores_RAA.FINBLOQUE} contiene lo siguiente:\\n{Colores_RAA.AZUL}{fichero.read()}{Colores_RAA.FINBLOQUE}\")\n",
    "fichero.close()\n",
    "\n",
    "\n"
   ]
  },
  {
   "cell_type": "markdown",
   "metadata": {},
   "source": [
    "**2) Sobre el fichero anterior, obtén la siguiente información:**\n",
    "\n",
    "* Lectura de una línea del fichero\n",
    "* Lectura del fichero línea a línea"
   ]
  },
  {
   "cell_type": "code",
   "execution_count": 30,
   "metadata": {},
   "outputs": [
    {
     "name": "stdout",
     "output_type": "stream",
     "text": [
      "La primera linea del fichero \u001b[32mpruebas.txt\u001b[0m contiene lo siguiente: \u001b[34mHola que tal estas\u001b[0m\n",
      "----------------------------------------------------------------------------------------------------\n",
      "La línea número 1 del fichero \u001b[32mpruebas.txt\u001b[0m contiene lo siguiente: \u001b[34mHola que tal estas\u001b[0m\n",
      "La línea número 2 del fichero \u001b[32mpruebas.txt\u001b[0m contiene lo siguiente: \u001b[34mEsto es una prueba\u001b[0m\n",
      "La línea número 3 del fichero \u001b[32mpruebas.txt\u001b[0m contiene lo siguiente: \u001b[34mHoy no llueve\u001b[0m\n",
      "La línea número 4 del fichero \u001b[32mpruebas.txt\u001b[0m contiene lo siguiente: \u001b[34mSe acerca la navidad\u001b[0m\n",
      "La línea número 5 del fichero \u001b[32mpruebas.txt\u001b[0m contiene lo siguiente: \u001b[34mHasta luego y muy buena\u001b[0m\n",
      "\u001b[91mNo hay nada más porque se ha alcanzado el final del fichero\u001b[0m\n"
     ]
    }
   ],
   "source": [
    "fichero = open(\"pruebas.txt\", 'r', encoding = \"utf8\")\n",
    "#*#*Imprimimos la línea (en realidad loquehayenlalinea[:-1] para evitar que imprima el salto de linea después de cada línea y quede más ordenado.)\n",
    "print(f\"La primera linea del fichero {Colores_RAA.VERDE}{fichero.name}{Colores_RAA.FINBLOQUE} contiene lo siguiente: {Colores_RAA.AZUL}{fichero.readline()[:-1]}{Colores_RAA.FINBLOQUE}\")\n",
    "\n",
    "print('-'*100)\n",
    "#*Vovlemos al inicio del fichero'\n",
    "fichero.seek(0)\n",
    "contador = 1\n",
    "while True:\n",
    "    linea = fichero.readline()\n",
    "    if linea == '':\n",
    "        print(f'{Colores_RAA.ROJOCLARO}No hay nada más porque se ha alcanzado el final del fichero{Colores_RAA.FINBLOQUE}')\n",
    "        fichero.close()\n",
    "        break\n",
    "    else:\n",
    "        #*Imprimimos la línea (en realidad linea[:-1] para evitar que imprima el salto de linea después de cada línea y quede más ordenado.)\n",
    "        print(f\"La línea número {contador} del fichero {Colores_RAA.VERDE}{fichero.name}{Colores_RAA.FINBLOQUE} contiene lo siguiente: {Colores_RAA.AZUL}{linea[:-1]}{Colores_RAA.FINBLOQUE}\")\n",
    "        contador += 1\n",
    "   \n",
    "    "
   ]
  },
  {
   "cell_type": "markdown",
   "metadata": {},
   "source": [
    "**3) Sobre el fichero anterior, realiza la siguiente operación:**\n",
    "\n",
    "* Abrir el fichero en modo escritura (concatenando el contenido, sin sobrescribirlo) y escribir una nueva línea de texto\n",
    "\n",
    "Comprueba que este funcionando correctamente comprobando el fichero (tendrás que cerrarlo y abrirlo para poder visualizar los cambios)."
   ]
  },
  {
   "cell_type": "code",
   "execution_count": 34,
   "metadata": {},
   "outputs": [
    {
     "name": "stdout",
     "output_type": "stream",
     "text": [
      "Hola que tal estas\n",
      "Esto es una prueba\n",
      "Hoy no llueve\n",
      "Se acerca la navidad\n",
      "Hasta luego y muy buenas\n",
      "\n",
      "2024-05-26  11:05:52 Nueva linea2024-06-26  11:06:08 Nueva linea2024-06-26  11:06:09 Nueva linea2024-06-26  11:06:09 Nueva linea\n",
      "2024-06-26  11:06:27 Nueva linea\n",
      "2024-06-26  11:06:29 Nueva linea\n",
      "2024-06-26  11:06:29 Nueva linea\n",
      "2024-06-26  11:06:29 Nueva linea\n"
     ]
    }
   ],
   "source": [
    "fichero = open(\"pruebas.txt\", 'a', encoding = \"utf8\")\n",
    "fichero.write(f\"\\n{datetime.today().strftime('%Y-%M-%d  %H:%M:%S')} Nueva linea\")\n",
    "fichero.close()\n",
    "clear_output()\n",
    "fichero = open(\"pruebas.txt\", 'r', encoding = \"utf8\")\n",
    "print(fichero.read())"
   ]
  },
  {
   "cell_type": "markdown",
   "metadata": {},
   "source": [
    "**4) Sobre el fichero anterior, realiza la siguiente operación:**\n",
    "\n",
    "* Abrir el fichero en modo escritura (sobrescribiendo el contenido) y escribir una nueva línea de texto\n",
    "\n",
    "Comprueba que este funcionando correctamente comprobando el fichero (tendrás que cerrarlo y abrirlo para poder visualizar los cambios)."
   ]
  },
  {
   "cell_type": "code",
   "execution_count": 37,
   "metadata": {},
   "outputs": [
    {
     "name": "stdout",
     "output_type": "stream",
     "text": [
      "Todo lo que contiene el fichero es:\n",
      "Nueva línea tras borrar el fichero por abrirlo en formato escritura en lugar de append.\n"
     ]
    }
   ],
   "source": [
    "fichero = open('pruebas.txt', 'w', encoding = 'utf8')\n",
    "fichero.write('Nueva línea tras borrar el fichero por abrirlo en formato escritura en lugar de append.')\n",
    "fichero.close()\n",
    "\n",
    "fichero = open('pruebas.txt', 'r', encoding = 'utf8')\n",
    "print(f\"Todo lo que contiene el fichero es:\\n{fichero.read()}\")\n",
    "fichero.close()\n",
    "    \n"
   ]
  },
  {
   "cell_type": "markdown",
   "metadata": {},
   "source": [
    "**5) En este ejercicio deberás crear un programa que lea los datos de un fichero de texto, que transforme cada fila en un diccionario y lo añada a una lista llamada personas. Luego recorre las personas de la lista y para cada una muestra de forma amigable todos sus campos. Por ejemplo así:**\n",
    "\n",
    "```\n",
    "(id=1) Carlos Pérez => 05/01/1989 \n",
    "```\n",
    "\n",
    "El fichero de texto se denominará **personas.txt** y tendrá el siguiente contenido en texto plano (créalo previamente):\n",
    "\n",
    "```\n",
    "1;Carlos;Pérez;05/01/1989\n",
    "2;Manuel;Heredia;26/12/1973\n",
    "3;Rosa;Campos;12/06/1961\n",
    "4;David;García;25/07/2006\n",
    "```\n",
    "\n",
    "Los campos del diccionario serán por orden: **id**, **nombre**, **apellido** y **nacimiento**.\n",
    "\n",
    "**Aviso importante**: *Si quieres leer un fichero que no se ha escrito directamente con Python, entonces es posible que encuentres errores de codificación al mostrar algunos caracteres. Asegúrate de indicar la codificación del fichero manualmente durante la apertura como argumento en el **open**, por ejemplo con UTF-8:*\n",
    "\n",
    "```python\n",
    "open(..., encoding=\"utf8\")\n",
    "```\n",
    "\n",
    "Pista: Es posible que tengas que recurrir a funciones como replace o split para poder modificar el texto de una línea de texto. Busca documentación sobre ello."
   ]
  },
  {
   "cell_type": "code",
   "execution_count": 68,
   "metadata": {},
   "outputs": [
    {
     "name": "stdout",
     "output_type": "stream",
     "text": [
      "[{'id': '1', 'nombre': 'Carlos', 'apellidos': 'Pérez', 'fechanacimiento': '05/01/1989'}, {'id': '2', 'nombre': 'Manuel', 'apellidos': 'Heredia', 'fechanacimiento': '26/12/1973'}, {'id': '3', 'nombre': 'Rosa', 'apellidos': 'Campos', 'fechanacimiento': '12/06/1961'}, {'id': '4', 'nombre': 'David', 'apellidos': 'García', 'fechanacimiento': '25/07/2006'}]\n",
      "(Id = 1) Carlos Pérez\t => \t05/01/1989\n",
      "(Id = 2) Manuel Heredia\t => \t26/12/1973\n",
      "(Id = 3) Rosa Campos\t => \t12/06/1961\n",
      "(Id = 4) David García\t => \t25/07/2006\n"
     ]
    }
   ],
   "source": [
    "\n",
    "# Completa el ejercicio aquí\n",
    "fichero = open(\"personas.txt\", 'r', encoding = 'utf8')\n",
    "lineas = fichero.readlines()\n",
    "fichero.close\n",
    "personas = [{'id' : linea[:-1].split(';')[0], 'nombre' : linea[:-1].split(';')[1], 'apellidos' : linea[:-1].split(';')[2], 'fechanacimiento': linea[:-1].split(';')[3]} for linea in lineas]\n",
    "for persona in personas:\n",
    "    print(f\"(Id = {persona['id']}) {persona['nombre']} {persona['apellidos']}\\t => \\t{persona['fechanacimiento']}\") \n"
   ]
  }
 ],
 "metadata": {
  "anaconda-cloud": {},
  "kernelspec": {
   "display_name": "Python 3",
   "language": "python",
   "name": "python3"
  },
  "language_info": {
   "codemirror_mode": {
    "name": "ipython",
    "version": 3
   },
   "file_extension": ".py",
   "mimetype": "text/x-python",
   "name": "python",
   "nbconvert_exporter": "python",
   "pygments_lexer": "ipython3",
   "version": "3.12.2"
  }
 },
 "nbformat": 4,
 "nbformat_minor": 1
}
