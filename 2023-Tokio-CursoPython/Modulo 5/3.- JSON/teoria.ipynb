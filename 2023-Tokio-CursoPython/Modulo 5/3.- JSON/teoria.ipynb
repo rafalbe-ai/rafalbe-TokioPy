{
 "cells": [
  {
   "cell_type": "code",
   "execution_count": null,
   "metadata": {},
   "outputs": [],
   "source": [
    "{\n",
    "    \"Frutería \": [\n",
    "        {\n",
    "            \"Fruta\" : [\n",
    "                {\n",
    "                    \"Nombre \" : \"Manzana\" •\n",
    "                    \" Cantidad\" : Hl\n",
    "                },\n",
    "                {               \n",
    "                    \"Nombre \" : .. Pera \" •\n",
    "                    \" Cantidad\" : 20\n",
    "                },\n",
    "                {\n",
    "                    \"Nombre \" : \"Naranja \" ,\n",
    "                    \"Cantidad\" : 30\n",
    "                }\n",
    "            ]\n",
    "        },\n",
    "        {       \n",
    "            \"Verdura\": [\n",
    "                {       \n",
    "                    \"Nombre \" : \"Lechuga\" ,\n",
    "                    \"Cantidad\" : 80\n",
    "                },\n",
    "                {\n",
    "                    \"Nombre \" : \"Tomate \" •\n",
    "                    \" Cantidad\" : 15\n",
    "                },\n",
    "                {\n",
    "                    \"Nombre \" : \"Pepino\" ,\n",
    "                    \" Cantidad\" : 50\n",
    "                }\n",
    "            ]\n",
    "        },\n",
    "    ]\n",
    "}"
   ]
  }
 ],
 "metadata": {
  "language_info": {
   "name": "python"
  }
 },
 "nbformat": 4,
 "nbformat_minor": 2
}
