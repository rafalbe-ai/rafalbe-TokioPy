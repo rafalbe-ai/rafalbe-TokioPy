{
 "cells": [
  {
   "cell_type": "markdown",
   "metadata": {},
   "source": [
    "# JSON\n",
    "Vamos a ver con una serie de ejemplos como interpretar y manipular datos en formato JSON. Para ello utilizaremos el módulo __json__. En la actualidad todos los lenguajes de programación disponen de módulos o librerías especializadas para el manejo de datos en formato JSON.\n",
    "En la web oficial de JSON (https://www.json.org/json-es.html), en el final de la página se encuentra un listado de más de __200 librerías y módulos para más de 60 lengajes de programación diferentes.__"
   ]
  },
  {
   "cell_type": "markdown",
   "metadata": {},
   "source": [
    "### ÍNDICE DE CONTENIDOS\n",
    "\n",
    "* Ejemplo de partida\n",
    "* Módulo JSON\n",
    "* Codificar JSON\n",
    "* Decodificar JSON\n",
    "* Trabajar con datos JSON"
   ]
  },
  {
   "cell_type": "markdown",
   "metadata": {},
   "source": [
    "Veamos un ejemplo sencillo de JSON:"
   ]
  },
  {
   "cell_type": "code",
   "execution_count": null,
   "metadata": {},
   "outputs": [],
   "source": [
    "{\n",
    "    \"Fruteria\": [\n",
    "        {\n",
    "            \"Fruta\": [\n",
    "                {\n",
    "                    \"Nombre\": \"Manzana\",\n",
    "                    \"Cantidad\": 10\n",
    "                },\n",
    "                {\n",
    "                    \"Nombre\": \"Pera\",\n",
    "                    \"Cantidad\": 20\n",
    "                },\n",
    "                {\n",
    "                    \"Nombre\": \"Naranja\",\n",
    "                    \"Cantidad\": 30\n",
    "                }\n",
    "            ]\n",
    "        },\n",
    "        {\n",
    "            \"Verdura\": [\n",
    "                {\n",
    "                    \"Nombre\": \"Lechuga\",\n",
    "                    \"Cantidad\": 80\n",
    "                },\n",
    "                {\n",
    "                    \"Nombre\": \"Tomate\",\n",
    "                    \"Cantidad\": 15\n",
    "                },\n",
    "                {\n",
    "                    \"Nombre\": \"Pepino\",\n",
    "                    \"Cantidad\": 50\n",
    "                }\n",
    "            ]\n",
    "        }\n",
    "    ]\n",
    "}"
   ]
  },
  {
   "cell_type": "markdown",
   "metadata": {},
   "source": [
    "Como podemos observar, hemos creado un objeto llamado __frutería__ y, dentro de ese objeto hemos almacenado un __array de dos elementos__. El primer elemento del array contiene un objeto llamado __fruta__ y el segundo elemento del array contiene otro objeto llamado __verdura__. Estos objetos a su vez contienen __un array__ cuyo contenido es __el nombre y la cantidad__ de cada fruta o verdura."
   ]
  },
  {
   "cell_type": "markdown",
   "metadata": {},
   "source": [
    "## MÓDULO JSON"
   ]
  },
  {
   "cell_type": "code",
   "execution_count": 1,
   "metadata": {},
   "outputs": [],
   "source": [
    "import json"
   ]
  },
  {
   "cell_type": "markdown",
   "metadata": {},
   "source": [
    "## CODIFICAR JSON (CREAR JSON) (dumps())\n",
    "Nuestro módulo __json__ el cual nos va a permitir manipular datos JSON, también nos permitirá crear (o transformar más bien) datos que ya tengamos en nuestro programa (variables) en datos JSON. Esto lo logrará gracias al __codificador (dumps)__. Este codificador será capaz de transformar todo tipo de datos nativos de Python (string, unicode, int, float, list, tuple, dict, etc.). Para nuestro ejemplo vamos a crear la estructura con __diccionarios y listas.__"
   ]
  },
  {
   "cell_type": "code",
   "execution_count": null,
   "metadata": {},
   "outputs": [],
   "source": [
    "# Opcion 1 (iniciacion): Creacion de las estructuras poco a poco. Vamos a ir de dentro a fuera\n",
    "# Diccionarios de las frutas\n",
    "dicc_frutas_1 = {\n",
    "    \"Nombre\": \"Manzana\",\n",
    "    \"Cantidad\": 10\n",
    "}\n",
    "print(dicc_frutas_1)\n",
    "\n",
    "dicc_frutas_2 = {\n",
    "    \"Nombre\": \"Pera\",\n",
    "    \"Cantidad\": 20\n",
    "}\n",
    "print(dicc_frutas_2)\n",
    "\n",
    "dicc_frutas_3 = {\n",
    "    \"Nombre\": \"Naranja\",\n",
    "    \"Cantidad\": 30\n",
    "}\n",
    "print(dicc_frutas_3)\n",
    "\n",
    "# Diccionario de las verduras\n",
    "dicc_verduras_1 = {\n",
    "    \"Nombre\": \"Lechuga\",\n",
    "    \"Cantidad\": 80\n",
    "}\n",
    "print(dicc_verduras_1)\n",
    "\n",
    "dicc_verduras_2 = {\n",
    "    \"Nombre\": \"Tomate\",\n",
    "    \"Cantidad\": 15\n",
    "}\n",
    "print(dicc_verduras_2)\n",
    "\n",
    "dicc_verduras_3 = {\n",
    "    \"Nombre\": \"Pepino\",\n",
    "    \"Cantidad\": 50\n",
    "}\n",
    "print(dicc_verduras_3)"
   ]
  },
  {
   "cell_type": "markdown",
   "metadata": {},
   "source": [
    "Ya tenemos los diccionarios más internos de nuestra estructura, los que contienen la información de las frutas y de las verduras. Fijaos que tenemos 3 diccionarios de frutas y 3 diccionarios de verduras, pero este número podría crecer rapidamente. La estructura lógica para cuando tenemos una lista de variables (en este caso diccionarios), es una __lista__. Por lo tanto, __introduciremos todos nuestros diccionarios de frutas dentro de una lista__. Y realizaremos lo mismo con las verduras."
   ]
  },
  {
   "cell_type": "code",
   "execution_count": null,
   "metadata": {},
   "outputs": [],
   "source": [
    "# Lista de frutas: Contiene los diccionarios de las frutas\n",
    "lista_frutas = [dicc_frutas_1, dicc_frutas_2, dicc_frutas_3]\n",
    "print(lista_frutas)\n",
    "\n",
    "# Lista de verduras: Contiene los diccionarios de las verduras\n",
    "lista_verduras = [dicc_verduras_1, dicc_verduras_2, dicc_verduras_3]\n",
    "print(lista_verduras)"
   ]
  },
  {
   "cell_type": "markdown",
   "metadata": {},
   "source": [
    "Casi lo tenemos, en este momento tenemos 2 listas, las cuales incluyen las frutas y las verduras. Vamos a __crear un diccionario que incluya estas listas.__ "
   ]
  },
  {
   "cell_type": "code",
   "execution_count": null,
   "metadata": {},
   "outputs": [],
   "source": [
    "dicc_fruta_verdura = {\n",
    "    \"Fruta\": lista_frutas,\n",
    "    \"Verdura\": lista_verduras\n",
    "}\n",
    "print(dicc_fruta_verdura)"
   ]
  },
  {
   "cell_type": "markdown",
   "metadata": {},
   "source": [
    "Sólo nos queda un detalle. La estructura que tenemos ya sería funcional, pero en muchas ocasiones se necesita un nodo central (una variable central y única) como entrada a nuestros datos. En nuestro caso, las dos primeras claves que encontrariamos serían __Fruta__ y __Verdura__. Pero sería mejor que hubiese una clave única por encima de ellas. Por eso vamos a crear la clave __Fruteria__ que las englobe. "
   ]
  },
  {
   "cell_type": "code",
   "execution_count": null,
   "metadata": {},
   "outputs": [],
   "source": [
    "dicc_fruteria = {\n",
    "    \"Fruteria\": dicc_fruta_verdura\n",
    "}\n",
    "print(dicc_fruteria)"
   ]
  },
  {
   "cell_type": "markdown",
   "metadata": {},
   "source": [
    "Si os fijáis, la salida por pantalla no ha cambiado respecto al ejemplo anterior. Pero resultará muy útil tener una clave principal (\"Fruteria\") para temas más avanzados."
   ]
  },
  {
   "cell_type": "markdown",
   "metadata": {},
   "source": [
    "### Opcion 1 (iniciación). Paso a paso. Código completo"
   ]
  },
  {
   "cell_type": "code",
   "execution_count": 2,
   "metadata": {},
   "outputs": [
    {
     "name": "stdout",
     "output_type": "stream",
     "text": [
      "<class 'dict'>\n",
      "{'Fruteria': [{'Fruta': [{'Nombre': 'Manzana', 'Cantidad': 10}, {'Nombre': 'Pera', 'Cantidad': 20}, {'Nombre': 'Naranja', 'Cantidad': 30}]}, {'Verdura': [{'Nombre': 'Lechuga', 'Cantidad': 80}, {'Nombre': 'Tomate', 'Cantidad': 15}, {'Nombre': 'Pepino', 'Cantidad': 50}]}]}\n"
     ]
    }
   ],
   "source": [
    "# Opcion 1 (iniciacion): Creacion de las estructuras poco a poco. Vamos a ir de dentro a fuera\n",
    "# Diccionarios de las frutas\n",
    "dicc_frutas_1 = {\n",
    "    \"Nombre\": \"Manzana\",\n",
    "    \"Cantidad\": 10\n",
    "}\n",
    "\n",
    "dicc_frutas_2 = {\n",
    "    \"Nombre\": \"Pera\",\n",
    "    \"Cantidad\": 20\n",
    "}\n",
    "\n",
    "dicc_frutas_3 = {\n",
    "    \"Nombre\": \"Naranja\",\n",
    "    \"Cantidad\": 30\n",
    "}\n",
    "\n",
    "# Diccionario de las verduras\n",
    "dicc_verduras_1 = {\n",
    "    \"Nombre\": \"Lechuga\",\n",
    "    \"Cantidad\": 80\n",
    "}\n",
    "\n",
    "dicc_verduras_2 = {\n",
    "    \"Nombre\": \"Tomate\",\n",
    "    \"Cantidad\": 15\n",
    "}\n",
    "\n",
    "dicc_verduras_3 = {\n",
    "    \"Nombre\": \"Pepino\",\n",
    "    \"Cantidad\": 50\n",
    "}\n",
    "\n",
    "# Lista de frutas: Contiene los diccionarios de las frutas\n",
    "lista_frutas = [dicc_frutas_1, dicc_frutas_2, dicc_frutas_3]\n",
    "\n",
    "# Lista de verduras: Contiene los diccionarios de las verduras\n",
    "lista_verduras = [dicc_verduras_1, dicc_verduras_2, dicc_verduras_3]\n",
    "\n",
    "dicc_fruta = {\n",
    "    \"Fruta\": lista_frutas\n",
    "}\n",
    "\n",
    "dicc_verdura = {\n",
    "     \"Verdura\": lista_verduras\n",
    "}\n",
    "\n",
    "dicc_fruteria = {\n",
    "    \"Fruteria\": [dicc_fruta, dicc_verdura]\n",
    "}\n",
    "\n",
    "# Imprimimos por pantalla el tipo y los datos\n",
    "print(type(dicc_fruteria))\n",
    "print(dicc_fruteria)"
   ]
  },
  {
   "cell_type": "markdown",
   "metadata": {},
   "source": [
    "### Opcion 2 (avanzada). Crear la estructura directamente"
   ]
  },
  {
   "cell_type": "code",
   "execution_count": null,
   "metadata": {},
   "outputs": [],
   "source": [
    "# Opcion 2 (avanzada): Crear la estructura directamente\n",
    "dicc_fruteria = {\"Fruteria\": [  {\"Fruta\":   [    {\"Nombre\":\"Manzana\",\"Cantidad\":10},    \n",
    "                                                 {\"Nombre\":\"Pera\",\"Cantidad\":20},    \n",
    "                                                 {\"Nombre\":\"Naranja\",\"Cantidad\":30}   ]  },  \n",
    "                              {\"Verdura\":   [    {\"Nombre\":\"Lechuga\",\"Cantidad\":80},    \n",
    "                                                 {\"Nombre\":\"Tomate\",\"Cantidad\":15},    \n",
    "                                                 {\"Nombre\":\"Pepino\",\"Cantidad\":50}   ]  } ]}\n",
    "\n",
    "# Imprimimos por pantalla el tipo y los datos\n",
    "print(\"Tipo de los datos:\", type(dicc_fruteria))\n",
    "print(\"\\nDatos en estructuras de datos de Python (diccionarios):\\n\")\n",
    "print(dicc_fruteria)"
   ]
  },
  {
   "cell_type": "markdown",
   "metadata": {},
   "source": [
    "### Una vez que tenemos la estructura creada, la codificamos en JSON (dumps)"
   ]
  },
  {
   "cell_type": "code",
   "execution_count": null,
   "metadata": {},
   "outputs": [],
   "source": [
    "# Nos devuelve el String con el JSON\n",
    "json_fruteria = json.dumps(dicc_fruteria)\n",
    "\n",
    "print(\"Tipo de los datos:\", type(json_fruteria))\n",
    "print(\"\\nDatos en JSON:\\n\")\n",
    "print(json_fruteria)"
   ]
  },
  {
   "cell_type": "code",
   "execution_count": null,
   "metadata": {},
   "outputs": [],
   "source": [
    "# También podemos pedirle a dumps que nos lo indente por nosotros o que nos ordene las claves\n",
    "json_fruteria_indentado = json.dumps(dicc_fruteria, indent=4, sort_keys=True)\n",
    "print(json_fruteria_indentado)"
   ]
  },
  {
   "cell_type": "markdown",
   "metadata": {},
   "source": [
    "### ¿Diferencias?"
   ]
  },
  {
   "cell_type": "code",
   "execution_count": null,
   "metadata": {},
   "outputs": [],
   "source": [
    "print(dicc_fruteria)\n",
    "print()\n",
    "print(json_fruteria)"
   ]
  },
  {
   "cell_type": "markdown",
   "metadata": {},
   "source": [
    "### Y si queremos, lo guardamos en un fichero"
   ]
  },
  {
   "cell_type": "code",
   "execution_count": null,
   "metadata": {},
   "outputs": [],
   "source": [
    "with open('data.json', 'w', encoding='utf-8') as f:\n",
    "    json.dump(dicc_fruteria, f, ensure_ascii=False, indent=4)"
   ]
  },
  {
   "cell_type": "code",
   "execution_count": null,
   "metadata": {},
   "outputs": [],
   "source": [
    "with open('data2.json', 'w', encoding='utf-8') as f:\n",
    "    json.dump(dicc_fruteria, f, ensure_ascii=False)"
   ]
  },
  {
   "cell_type": "markdown",
   "metadata": {},
   "source": [
    "## DECODIFICAR JSON (json_loads(String))\n",
    "Ahora veremos el caso contrario, dado un dato en formato JSON, veremos como decodificarlo para transformarlo en tipos de datos manejables por Python. Para ello usaremos la función __json_loads(String)__"
   ]
  },
  {
   "cell_type": "code",
   "execution_count": null,
   "metadata": {},
   "outputs": [],
   "source": [
    "# Disponemos de json_fruteria el cual contiene nuestra informacion en formato JSON\n",
    "print(\"Tipo de los datos:\", type(json_fruteria))\n",
    "print(\"Datos en JSON:\\n\")\n",
    "print(json_fruteria)\n",
    "\n",
    "f_dict = json.loads(json_fruteria)\n",
    "print(\"\\nTipo de los datos:\", type(f_dict))\n",
    "print(\"Datos en estructuras de datos de Python (diccionarios):\\n\")\n",
    "print(f_dict)"
   ]
  },
  {
   "cell_type": "markdown",
   "metadata": {},
   "source": [
    "### Y si queremos, lo abrimos desde un fichero"
   ]
  },
  {
   "cell_type": "code",
   "execution_count": null,
   "metadata": {},
   "outputs": [],
   "source": [
    "with open('data.json', 'r') as file:\n",
    "    data = json.load(file)\n",
    "    print(type(data))\n",
    "    print(data)"
   ]
  },
  {
   "cell_type": "code",
   "execution_count": null,
   "metadata": {},
   "outputs": [],
   "source": [
    "with open('nasa.json', 'r', encoding='utf-8') as file:\n",
    "    data = json.load(file)\n",
    "    print(type(data))\n",
    "    print(data)"
   ]
  },
  {
   "cell_type": "markdown",
   "metadata": {},
   "source": [
    "## TRABAJAR CON DATOS JSON\n",
    "Cuando tengamos objetos en formato JSON (que hemos visto que son strings internamente, pero con un formato pre-estructurado) nos son muy útiles para transferirlos a otros sitios o programas. Por lo que el proceso normal de trabajo será:\n",
    "* Tener nuestros datos en estructuras propias de nuestro lenguaje (diccionarios, listas, tuplas, etc.)\n",
    "* Codificarlo a un string con formato JSON\n",
    "* Enviarlo a otro sitio, programa o lenguaje\n",
    "* En el destino, recibir ese string con formato JSON\n",
    "* Decodificar dicho string y adaptarlo a las estructuras propias que tenga ese sistema, programa o lenguaje (que pueden ser diferentes a las de Python)\n",
    "\n",
    "__Este proceso se realiza así porque una estructura de datos diccionario, no es igual en Python, en Java o en SQL. Por lo que no tiene sentido enviar unos datos desde Python a esos lenguajes en formato diccionario, ya que no lo van a entender. Pero lo que si entiende todo el mundo es la estructura de JSON.__"
   ]
  },
  {
   "cell_type": "code",
   "execution_count": null,
   "metadata": {},
   "outputs": [],
   "source": [
    "# Ver el diccionario completo\n",
    "print(\"Datos completos (tipo \", type(f_dict), \")\")\n",
    "print(f_dict)\n",
    "\n",
    "print(\"\\nJSON Object Fruta\")\n",
    "print(f_dict['Fruteria'][0]) # JSON Object Fruta\n",
    "print(\"\\nJSON Object Verdura\")\n",
    "print(f_dict['Fruteria'][1]) # JSON Object Verdura\n",
    "\n",
    "print(\"\\nJSON Object Fruta. Primer objeto del JSON Array\")\n",
    "print(f_dict['Fruteria'][0]['Fruta'][0]) # JSON Object Fruta. Primer objeto del JSON Array\n",
    "\n",
    "print(\"\\nNumero de manzanas\")\n",
    "print(f_dict[\"Fruteria\"][0][\"Fruta\"][0][\"Cantidad\"]) # Número de manzanas"
   ]
  },
  {
   "cell_type": "markdown",
   "metadata": {},
   "source": [
    "## EJEMPLO COMPLETO"
   ]
  },
  {
   "cell_type": "code",
   "execution_count": null,
   "metadata": {},
   "outputs": [],
   "source": [
    "import json\n",
    "\n",
    "# f es un JSON string y f_dict es un diccionario\n",
    "# Utilizamos la comilla triple para poder ponerlo en más de una fila, si no, usar comilla simple\n",
    "f = '''{\"Fruteria\": [{\"Fruta\": [{\"Nombre\": \"Manzana\",\"Cantidad\": 10},\n",
    "                                {\"Nombre\": \"Pera\",\"Cantidad\": 20},\n",
    "                                {\"Nombre\": \"Naranja\",\"Cantidad\": 30}]},\n",
    "                    {\"Verdura\": [{\"Nombre\": \"Lechuga\",\"Cantidad\": 80},\n",
    "                                {\"Nombre\": \"Tomate\",\"Cantidad\": 15},\n",
    "                                {\"Nombre\": \"Pepino\",\"Cantidad\": 50}]}]}'''\n",
    "\n",
    "f_dict = json.loads(f) # Decodificamos el JSON para transformarlo en un diccionario \n",
    "                       # y poder trabajar con el mas facilmente\n",
    "\n",
    "# Ver el diccionario completo\n",
    "print(\"Datos completos\")\n",
    "print(f_dict)\n",
    "\n",
    "print(\"\\nJSON Object Fruta\")\n",
    "print(f_dict['Fruteria'][0]) # JSON Object Fruta\n",
    "print(\"\\nJSON Object Verdura\")\n",
    "print(f_dict['Fruteria'][1]) # JSON Object Verdura\n",
    "\n",
    "print(\"\\nJSON Object Fruta. Primer objeto del JSON Array\")\n",
    "print(f_dict['Fruteria'][0]['Fruta'][0]) # JSON Object Fruta. Primer objeto del JSON Array\n",
    "\n",
    "print(\"\\nNumero de manzanas\")\n",
    "print(f_dict[\"Fruteria\"][0][\"Fruta\"][0][\"Cantidad\"]) # Número de manzanas"
   ]
  },
  {
   "cell_type": "markdown",
   "metadata": {},
   "source": [
    "## VISUALIZAR CONTENIDO JSON\n",
    "Hay multitud de páginas web y herramientas que nos sirven para visualizar gráficamente un objeto JSON. \n",
    "Copia el siguiente código y pegalo en la siguiente web (pestaña Text para introducir el código y pestaña Viewer para visualizarlo): \n",
    "\n",
    "* http://jsonviewer.stack.hu/\n",
    "* https://jsonformatter.org/json-viewer\n",
    "\n",
    "{\"Fruteria\": [{\"Fruta\": [{\"Nombre\": \"Manzana\", \"Cantidad\": 10}, {\"Nombre\": \"Pera\", \"Cantidad\": 20}, {\"Nombre\": \"Naranja\", \"Cantidad\": 30}]}, {\"Verdura\": [{\"Nombre\": \"Lechuga\", \"Cantidad\": 80}, {\"Nombre\": \"Tomate\", \"Cantidad\": 15}, {\"Nombre\": \"Pepino\", \"Cantidad\": 50}]}]}"
   ]
  },
  {
   "cell_type": "markdown",
   "metadata": {},
   "source": [
    "# EXTRA\n",
    "## CONVERTIR DATOS JSON EN OBJETOS\n",
    "Aprenderemos cómo convertir datos JSON en un objeto Python personalizado. Por ejemplo, cuando recibimos datos JSON de estudiantes de uuna API o estamos leyendo un archvo JSON y queremos convertirlo directamente en un objeto de la clase Estudiante.\n",
    "\n",
    "Sabemos cómo codificar a JSON información que tengamos en listas y diccionarios usando el método <code>__json.dumps()__</code> y como decodificar esta información con <code>__json.loads()__</code>, el cual devuelve un diccionario (dict) que posteriormente podemos manipular.\n",
    "\n",
    "Pero pensar en las ventajas que tendríamos si al decodificar un fichero o string JSON, lo cargaramos  directamente en un objeto de una clase que tengamos creada en nuestro proyecto. De esta forma, tras la decodificación, podemos manipular directamente la información a nivel de objeto. \n",
    "\n",
    "Hay varias formas de lograrlo. Puede elegir la forma que resulte más útil para cada proyecto. Veamos cómo __deserializar una cadena o string JSON en un objeto Python personalizado__."
   ]
  },
  {
   "cell_type": "markdown",
   "metadata": {},
   "source": [
    "### Opción 1: Uso de namedtuple y object_hook para convertir datos JSON en un objeto Python personalizado\n",
    "Podemos usar el parámetro <code>__object_hook__</code> del método <code>__json.loads()__</code>. Este parámetro permite obtener el diccionario que se genera con <code>__json.loads()__</code> y enviarlo a un método el cual se encargará de decodificar este diccionario en una estructura específica (en una estructura de clase). En este ejemplo, el nombre de este método es <code>__decodificadorEstudiante(estudianteDict)__</code> recibiendo como parámetro el diccionario generado por <code>__json.loads()__</code>.\n",
    "\n",
    "Dentro del método <code>__decodificadorEstudiante(estudianteDict)__</code> ¿cómo convertimos un diccionario en un objeto de una clase? Con <code>__namedtuple__</code>. Se encarga de transformar las claves y valores del diccionario en una estructura de clase.\n",
    "\n",
    "Veamos primero el ejemplo simple y luego podemos pasar al ejemplo práctico. En este ejemplo, estamos convirtiendo datos JSON de estudiante en un tipo de clase de Estudiante personalizado."
   ]
  },
  {
   "cell_type": "code",
   "execution_count": null,
   "metadata": {},
   "outputs": [],
   "source": [
    "import json\n",
    "from collections import namedtuple\n",
    "from json import JSONEncoder\n",
    "\n",
    "def decodificadorEstudiantes(estudianteDict):\n",
    "    return namedtuple('Estudiante', estudianteDict.keys())(*estudianteDict.values())\n",
    "\n",
    "# JSON con el que trabajaremos\n",
    "estudiante_json = '{\"id\": 1, \"nombre\": \"Cristian\"}'\n",
    "\n",
    "# Convertimos el JSON a un diccionario y además, con object_hook, enviamos este diccionario \n",
    "# que se genera a una función llamada decodificadorEstudiantes la cual se encargará de crear\n",
    "# un objeto personalizado con estos datos que hemos llamado Estudiante.\n",
    "estudiante = json.loads(estudiante_json, object_hook = decodificadorEstudiantes)\n",
    "\n",
    "# Recordemos, que si no usamos object_hook, al invocar a type(estudiante) obtenemos un dict\n",
    "print(\"JSON convertido a objeto de la clase\", type(estudiante).__name__)\n",
    "print(\"Id:\", estudiante.id, \"\\nNombre:\", estudiante.nombre)"
   ]
  },
  {
   "cell_type": "markdown",
   "metadata": {},
   "source": [
    "Como hemos visto en el ejemplo anterior, hemos leido un JSON y lo hemos codificado en un objeto de una clase Estudiante, esto lo hemos hecho, \"al vuelo\", es decir, no existe la clase Estudiante. Es una forma rápida de leer información y adaptarla a un formato objeto para que nos resulte más cómoda su manipulación. Pero este sistema tiene varias __desventajas__:\n",
    "* Estamos creando una clase para cada objeto que decodificamos\n",
    "* No es demasiado eficiente\n",
    "* No funciona con objetos dentro de objetos de forma nativa como veremos a continuación (todos los objetos serán del tipo Estudiante)\n",
    "\n",
    "Veamos un ejemplo completo:"
   ]
  },
  {
   "cell_type": "code",
   "execution_count": 7,
   "metadata": {},
   "outputs": [
    {
     "name": "stdout",
     "output_type": "stream",
     "text": [
      "JSON de un Estudiante con el que vamos a trabajar\n",
      "{\n",
      "    \"id_estudiante\": [\n",
      "        1\n",
      "    ],\n",
      "    \"nombre\": \"Cristian\",\n",
      "    \"lista_asignaturas\": [\n",
      "        {\n",
      "            \"nombre\": [\n",
      "                \"Introduccion a la programacion\"\n",
      "            ],\n",
      "            \"dificultad\": \"Basica\"\n",
      "        },\n",
      "        {\n",
      "            \"nombre\": [\n",
      "                \"Programacion en Python\"\n",
      "            ],\n",
      "            \"dificultad\": \"Intermedia\"\n",
      "        },\n",
      "        {\n",
      "            \"nombre\": [\n",
      "                \"Inteligencia Artificial\"\n",
      "            ],\n",
      "            \"dificultad\": \"Avanzada\"\n",
      "        }\n",
      "    ]\n",
      "}\n",
      "\n",
      "Convertimos el JSON anterior a un objeto de la clase Estudiante\n",
      " > Id de estudiante: [1]\n",
      " > Nombre: Cristian\n",
      " > Lista de asignaturas:\n",
      "\t> Estudiante(nombre=['Introduccion a la programacion'], dificultad='Basica')\n",
      "\t> Estudiante(nombre=['Programacion en Python'], dificultad='Intermedia')\n",
      "\t> Estudiante(nombre=['Inteligencia Artificial'], dificultad='Avanzada')\n"
     ]
    }
   ],
   "source": [
    "import json\n",
    "from collections import namedtuple\n",
    "from json import JSONEncoder\n",
    "\n",
    "class Estudiante():\n",
    "    def __init__(self, id_estudiante, nombre, lista_asignaturas):\n",
    "        self.id_estudiante = id_estudiante, \n",
    "        self.nombre = nombre\n",
    "        self.lista_asignaturas = lista_asignaturas\n",
    "\n",
    "class Asignatura:\n",
    "    def __init__(self, nombre, dificultad):\n",
    "        self.nombre = nombre, \n",
    "        self.dificultad = dificultad\n",
    "\n",
    "class EstudianteEncoder(JSONEncoder):\n",
    "    def default(self, o):\n",
    "        return o.__dict__\n",
    "\n",
    "def decodificadorEstudiantes(estudianteDict):\n",
    "    return namedtuple('Estudiante', estudianteDict.keys())(*estudianteDict.values())\n",
    "\n",
    "# Vamos a preparar el JSON con el que trabajaremos\n",
    "a1 = Asignatura(\"Introduccion a la programacion\", \"Basica\")\n",
    "a2 = Asignatura(\"Programacion en Python\", \"Intermedia\")\n",
    "a3 = Asignatura(\"Inteligencia Artificial\", \"Avanzada\")\n",
    "lista_asignaturas = [a1, a2, a3]\n",
    "e1 = Estudiante(1, \"Cristian\", lista_asignaturas)\n",
    "estudiante_json = json.dumps(e1, indent = 4, cls = EstudianteEncoder)\n",
    "print(\"JSON de un Estudiante con el que vamos a trabajar\")\n",
    "print(estudiante_json)\n",
    "\n",
    "# Ahora vamos a realizar el siguiente proceso: \n",
    "# Leer JSON -> Generar dict -> Decodificar en objeto de la clase Estudiante\n",
    "estudiante = json.loads(estudiante_json, object_hook = decodificadorEstudiantes)\n",
    "\n",
    "print(\"\\nConvertimos el JSON anterior a un objeto de la clase\", type(estudiante).__name__)\n",
    "print(\" > Id de estudiante:\", estudiante.id_estudiante)\n",
    "print(\" > Nombre:\", estudiante.nombre)\n",
    "print(\" > Lista de asignaturas:\")\n",
    "for a in estudiante.lista_asignaturas:\n",
    "    print(\"\\t>\", a)\n"
   ]
  },
  {
   "cell_type": "markdown",
   "metadata": {},
   "source": [
    "__Problema__: Las asignaturas deberían de ser objetos de la clase Asignatura, pero en cambio, esta forma, encaja todos los datos en la clase Estudiante."
   ]
  },
  {
   "cell_type": "markdown",
   "metadata": {},
   "source": [
    "### Opción 2: Uso de types.SimpleNamespace y object_hook para convertir datos JSON en un objeto Python personalizado\n",
    "Podemos usar <code>__types.SimpleNamespace__</code> como contenedor para objetos JSON. Ofrece las siguientes __ventajas__ sobre una solución namedtuple:\n",
    "\n",
    "* Su tiempo de ejecución es menor porque no crea una clase para cada objeto.\n",
    "* Es preciso y simplista\n",
    "\n",
    "Pero siguen existiendo __desventajas__, como por ejemplo:\n",
    "\n",
    "* Todos los objetos son objetos de SimpleNamespace"
   ]
  },
  {
   "cell_type": "code",
   "execution_count": null,
   "metadata": {},
   "outputs": [],
   "source": [
    "import json\n",
    "from types import SimpleNamespace\n",
    "from json import JSONEncoder\n",
    "\n",
    "class Estudiante():\n",
    "    def __init__(self, id_estudiante, nombre, lista_asignaturas):\n",
    "        self.id_estudiante = id_estudiante, \n",
    "        self.nombre = nombre\n",
    "        self.lista_asignaturas = lista_asignaturas\n",
    "\n",
    "class Asignatura:\n",
    "    def __init__(self, nombre, dificultad):\n",
    "        self.nombre = nombre, \n",
    "        self.dificultad = dificultad\n",
    "        \n",
    "class EstudianteEncoder(JSONEncoder):\n",
    "    def default(self, o):\n",
    "        return o.__dict__\n",
    "\n",
    "# Vamos a preparar el JSON con el que trabajaremos\n",
    "a1 = Asignatura(\"Introduccion a la programacion\", \"Basica\")\n",
    "a2 = Asignatura(\"Programacion en Python\", \"Intermedia\")\n",
    "a3 = Asignatura(\"Inteligencia Artificial\", \"Avanzada\")\n",
    "lista_asignaturas = [a1, a2, a3]\n",
    "e1 = Estudiante(1, \"Cristian\", lista_asignaturas)\n",
    "estudiante_json = json.dumps(e1, indent = 4, cls = EstudianteEncoder)\n",
    "print(\"JSON de un Estudiante con el que vamos a trabajar\")\n",
    "print(estudiante_json)\n",
    "\n",
    "estudiante = json.loads(estudiante_json, object_hook=lambda d: SimpleNamespace(**d))\n",
    "\n",
    "# Leemos el JSON y lo cargamos en objetos de nuestras correspondientes clases\n",
    "print(\"\\nConvertimos el JSON anterior a un objeto de la clase\", type(estudiante).__name__)\n",
    "print(\" > Id de estudiante:\", estudiante.id_estudiante)\n",
    "print(\" > Nombre:\", estudiante.nombre)\n",
    "print(\" > Lista de asignaturas:\")\n",
    "for a in estudiante.lista_asignaturas:\n",
    "    print(\"\\t>\", a)"
   ]
  },
  {
   "cell_type": "markdown",
   "metadata": {},
   "source": [
    "<div class=\"alert alert-success\">Hasta ahora, las opciones que hemos visto son soluciones rápidas que son ideales para cuando queremos des-serializar un fichero JSON y convertirlo a un objeto Python de <b>una sola clase</b>. Pero si queremos una conversión más compleja, donde implica una <b>conversión de objetos de varias clases</b>, la solución que hay que abordar es <code><b>jsonpickle</b></code></div>"
   ]
  },
  {
   "cell_type": "markdown",
   "metadata": {},
   "source": [
    "### Opción 3: Uso de jsonpickle para convertir datos JSON en un objeto Python personalizado\n",
    "<code>__jsonpickle__</code> es una biblioteca de Python diseñada para trabajar con objetos Python complejos. Se puede usar jsonpickle para serialización y deserialización datos complejos de Python y JSON. Puede consultar la documentación de Jsonpickle para obtener más detalles aquí (https://jsonpickle.github.io/) y la documentación de la API aquí (https://jsonpickle.github.io/api.html).\n",
    "\n",
    "Las __ventajas__ son:\n",
    "* Facilidad de uso.\n",
    "* Permite trabajar con datos complejos, como objetos dentro de objetos. En nuestro ejemplo, creará correctamente los objetos de las clases Asignatura dentro de nuestro objeto de la clase Estudiante.\n",
    "\n",
    "Veamos un ejemplo:"
   ]
  },
  {
   "cell_type": "code",
   "execution_count": 6,
   "metadata": {},
   "outputs": [
    {
     "name": "stdout",
     "output_type": "stream",
     "text": [
      "JSON de un Estudiante con el que vamos a trabajar\n",
      "{\n",
      "    \"py/object\": \"__main__.Estudiante\",\n",
      "    \"id_estudiante\": 1,\n",
      "    \"nombre_estudiante\": \"Cristian\",\n",
      "    \"lista_asignaturas\": [\n",
      "        {\n",
      "            \"py/object\": \"__main__.Asignatura\",\n",
      "            \"nombre\": \"Introduccion a la programacion\",\n",
      "            \"dificultad\": \"Basica\"\n",
      "        },\n",
      "        {\n",
      "            \"py/object\": \"__main__.Asignatura\",\n",
      "            \"nombre\": \"Programacion en Python\",\n",
      "            \"dificultad\": \"Intermedia\"\n",
      "        },\n",
      "        {\n",
      "            \"py/object\": \"__main__.Asignatura\",\n",
      "            \"nombre\": \"Inteligencia Artificial\",\n",
      "            \"dificultad\": \"Avanzada\"\n",
      "        }\n",
      "    ]\n",
      "}\n",
      "\n",
      "Objeto de la clase Estudiante\n",
      " > Id de estudiante: 1\n",
      " > Nombre: Cristian\n",
      " > Lista de asignaturas:\n",
      "\t> Objeto de la clase Asignatura > Nombre: Introduccion a la programacion > Dificultad: Basica\n",
      "\t> Objeto de la clase Asignatura > Nombre: Programacion en Python > Dificultad: Intermedia\n",
      "\t> Objeto de la clase Asignatura > Nombre: Inteligencia Artificial > Dificultad: Avanzada\n"
     ]
    }
   ],
   "source": [
    "# Requiere instalación: pip install jsonpickle\n",
    "import jsonpickle\n",
    "        \n",
    "class Estudiante():\n",
    "    def __init__(self, id_estudiante, nombre_estudiante, lista_asignaturas):\n",
    "        self.id_estudiante = id_estudiante\n",
    "        self.nombre_estudiante = nombre_estudiante\n",
    "        self.lista_asignaturas = lista_asignaturas\n",
    "\n",
    "class Asignatura:\n",
    "    def __init__(self, nombre, dificultad):\n",
    "        self.nombre = nombre\n",
    "        self.dificultad = dificultad\n",
    "        \n",
    "# Creación de objetos (principal: Estudiante, y secundario: Asignatura)\n",
    "a1 = Asignatura(\"Introduccion a la programacion\", \"Basica\")\n",
    "a2 = Asignatura(\"Programacion en Python\", \"Intermedia\")\n",
    "a3 = Asignatura(\"Inteligencia Artificial\", \"Avanzada\")\n",
    "lista_asignaturas = [a1, a2, a3]\n",
    "e1 = Estudiante(1, \"Cristian\", lista_asignaturas)\n",
    "\n",
    "# Preparación del fichero\n",
    "fichero = 'jsonEmpleado' + '.json'\n",
    "\n",
    "# Codificación de un objeto (e1) a un JSON String\n",
    "estudiante_json = jsonpickle.encode(e1, indent = 4)\n",
    "print(\"JSON de un Estudiante con el que vamos a trabajar\")\n",
    "print(estudiante_json)\n",
    "\n",
    "# Escribimos el JSON String en el fichero\n",
    "with open(fichero, 'w') as f:\n",
    "    f.write(estudiante_json)\n",
    "    \n",
    "# Abrimos y leemos el fichero\n",
    "estudiante_json_leido = open(fichero).read()\n",
    "\n",
    "estudiante = jsonpickle.decode(estudiante_json_leido)\n",
    "\n",
    "print(\"\\nObjeto de la clase\", type(estudiante).__name__)\n",
    "print(\" > Id de estudiante:\", estudiante.id_estudiante) \n",
    "print(\" > Nombre:\", estudiante.nombre_estudiante)\n",
    "print(\" > Lista de asignaturas:\")\n",
    "for a in estudiante.lista_asignaturas:\n",
    "    print(\"\\t> Objeto de la clase\", type(a).__name__, \"> Nombre:\", a.nombre, \"> Dificultad:\", a.dificultad)"
   ]
  }
 ],
 "metadata": {
  "kernelspec": {
   "display_name": "Python 3 (ipykernel)",
   "language": "python",
   "name": "python3"
  },
  "language_info": {
   "codemirror_mode": {
    "name": "ipython",
    "version": 3
   },
   "file_extension": ".py",
   "mimetype": "text/x-python",
   "name": "python",
   "nbconvert_exporter": "python",
   "pygments_lexer": "ipython3",
   "version": "3.10.9"
  }
 },
 "nbformat": 4,
 "nbformat_minor": 1
}
