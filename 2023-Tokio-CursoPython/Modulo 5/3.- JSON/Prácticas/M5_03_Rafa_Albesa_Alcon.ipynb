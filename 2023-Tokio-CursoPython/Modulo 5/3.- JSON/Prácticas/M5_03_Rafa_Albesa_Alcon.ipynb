{
 "cells": [
  {
   "cell_type": "markdown",
   "metadata": {},
   "source": [
    "# Ejercicios Modulo 5. JSON\n",
    "\n",
    "Consideraciones a tener en cuenta: \n",
    "\n",
    "* Guardar este documento con el siguiente formato para su entrega: __M5_03_nombre_apellido1_apellido2__\n",
    "* Realizar los ejercicios con las herramientas vistas en las sesiones. \n",
    "* Comentar el código\n",
    "* Utilizar nombres de variables apropiados, si vais a guardar una nota, llamar a esa variable nota, no n o x"
   ]
  },
  {
   "cell_type": "markdown",
   "metadata": {},
   "source": [
    "# JSON (JavaScript Object Notation)"
   ]
  },
  {
   "cell_type": "markdown",
   "metadata": {},
   "source": [
    "1) A continuación se muestra un JSON String\n",
    "\n",
    "{\"jefe_proyecto\": {\"Nombre\": \"Juan\",\"Edad\": 28,\"Experiencia\": [\"Gestion\",\"Finanzas\",\"Bases de datos\"],\"Residencia\": \"Madrid\",\"HorasProyecto\": 3500},\"empleados\": [{\"Nombre\": \"Elena\",\"Edad\": 26,\"Experiencia\": [\"JavaScript\",\"Python\"],\"Residencia\": \"Madrid\",\"HorasProyecto\": 500},{\"Nombre\": \"Luis\",\"Edad\": 31,\"Experiencia\": [\"Django\",\"Flask\",\"Pyramid\"],\"Residencia\": \"Barcelona\",\"HorasProyecto\": 1100}]}\n",
    "\n",
    "* Si es necesario utiliza un visualizador de JSON para entenderlo.\n",
    "* El objetivo es crear un diccionario con todos los datos y estructuras internas necesarias para que sea igual que el JSON String\n",
    "* Vete creando estructuras más pequeñas hasta que llegues a formar el mismo JSON string que ves arriba\n",
    "* Una vez que lo tengas creado, vamos a operar con él\n",
    "* Almacena esta estructura (el diccionario) en una variable\n",
    "* Comprueba su tipo y muéstrala por pantalla\n",
    "* Crea dos variables: horas_empleados y horas_jefe\n",
    "* Extrae las horas del jefe e introducelas en su variable\n",
    "* Crea un bucle que recorra el número de empleados que se tienen en la estructura, y para cada empleado vete sumando sus horas en su correspondiente variable\n",
    "* Suma todas las horas y muéstralas por pantalla"
   ]
  },
  {
   "cell_type": "code",
   "execution_count": 27,
   "metadata": {},
   "outputs": [
    {
     "name": "stderr",
     "output_type": "stream",
     "text": [
      "ic| elemento: {'Edad': 28,\n",
      "               'Experiencia': ['Gestion', 'Finanzas', 'Bases de datos'],\n",
      "               'HorasProyecto': 3500,\n",
      "               'Nombre': 'Juan',\n",
      "               "
     ]
    },
    {
     "name": "stderr",
     "output_type": "stream",
     "text": [
      "'Residencia': 'Madrid'}\n",
      "ic| elemento: {'Edad': 26,\n",
      "               'Experiencia': ['JavaScript', 'Python'],\n",
      "               'HorasProyecto': 500,\n",
      "               'Nombre': 'Elena',\n",
      "               'Residencia': 'Madrid'}\n",
      "ic| elemento: {'Edad': 31,\n",
      "               'Experiencia': ['Django', 'Flask', 'Pyramid'],\n",
      "               'HorasProyecto': 1100,\n",
      "               'Nombre': 'Luis',\n",
      "               'Residencia': 'Barcelona'}\n",
      "ic| elemento: {'empleados': [{'Edad': 26,\n",
      "                              'Experiencia': ['JavaScript', 'Python'],\n",
      "                              'HorasProyecto': 500,\n",
      "                              'Nombre': 'Elena',\n",
      "                              'Residencia': 'Madrid'},\n",
      "                             {'Edad': 31,\n",
      "                              'Experiencia': ['Django', 'Flask', 'Pyramid'],\n",
      "                              'HorasProyecto': 1100,\n",
      "                              'Nombre': 'Luis',\n",
      "                              'Residencia': 'Barcelona'}]}\n",
      "ic| elemento: {'empleados': [{'Edad': 26,\n",
      "                              'Experiencia': ['JavaScript', 'Python'],\n",
      "                              'HorasProyecto': 500,\n",
      "                              'Nombre': 'Elena',\n",
      "                              'Residencia': 'Madrid'},\n",
      "                             {'Edad': 31,\n",
      "                              'Experiencia': ['Django', 'Flask', 'Pyramid'],\n",
      "                              'HorasProyecto': 1100,\n",
      "                              'Nombre': 'Luis',\n",
      "                              'Residencia': 'Barcelona'}],\n",
      "               'jefe_proyecto': {'Edad': 28,\n",
      "                                 'Experiencia': ['Gestion', 'Finanzas', 'Bases de datos'],\n",
      "                                 'HorasProyecto': 3500,\n",
      "                                 'Nombre': 'Juan',\n",
      "                                 'Residencia': 'Madrid'}}\n"
     ]
    },
    {
     "name": "stdout",
     "output_type": "stream",
     "text": [
      "El jefe del proyecto Juan lleva trabajadas: 3500 horas\n",
      "El jefe del proyecto Juan lleva trabajadas: 4000 horas\n",
      "El empleado del proyecto Elena lleva trabajadas: 500 horas\n",
      "El empleado del proyecto Luis lleva trabajadas: 1100 horas\n",
      "En total se ha trabajado:\n",
      "\t> Jefe de Proyecto: 4000 horas.\n",
      "\t> Empleados: 1600 horas.\n"
     ]
    }
   ],
   "source": [
    "import importlib.util\n",
    "import sys\n",
    "from icecream import ic\n",
    "import jsonpickle\n",
    "        \n",
    "def sacaPorPantalla(elemento):\n",
    "    \"\"\"Función que utiliza icecream si está instalado en el sistema para imprimir los datos de una forma más estructurada.\n",
    "        No aprovecha del todo la funcionalidad de icecream porque saca siempre el nombre \"elemento\" como variable que se imprime.\n",
    "    Args:\n",
    "        elemento: objeto que se quiere imprimir. \n",
    "    \"\"\"\n",
    "    if \"icecream\" in sys.modules:\n",
    "        ic(elemento)\n",
    "    else:\n",
    "        print(elemento)\n",
    "\n",
    "        \n",
    "#*Generamos los datos de los empleados\n",
    "empleadoJuan = {\"Nombre\": \"Juan\",\n",
    "        \"Edad\": 28,\n",
    "        \"Experiencia\": [\"Gestion\",\"Finanzas\",\"Bases de datos\"],\n",
    "        \"Residencia\": \"Madrid\",\n",
    "        \"HorasProyecto\": 3500}  \n",
    "sacaPorPantalla(empleadoJuan)\n",
    "empleadoElena = {\"Nombre\": \"Elena\",\n",
    "        \"Edad\": 26,\n",
    "        \"Experiencia\": [\"JavaScript\",\"Python\"],\n",
    "        \"Residencia\": \"Madrid\",\n",
    "        \"HorasProyecto\": 500}\n",
    "sacaPorPantalla(empleadoElena)\n",
    "empleadoLuis = {\"Nombre\": \"Luis\",\n",
    "        \"Edad\": 31,\n",
    "        \"Experiencia\": [\"Django\",\"Flask\",\"Pyramid\"],\n",
    "        \"Residencia\": \"Barcelona\",\n",
    "        \"HorasProyecto\": 1100}\n",
    "sacaPorPantalla(empleadoLuis)\n",
    "empleados = {\"empleados\" : [empleadoElena, empleadoLuis]}\n",
    "sacaPorPantalla(empleados)\n",
    "\n",
    "plantillaProyecto = {\"jefe_proyecto\" : empleadoJuan, \"empleados\" : [empleadoElena, empleadoLuis]}\n",
    "sacaPorPantalla(plantillaProyecto)\n",
    "\n",
    "horasEmpleados = 0\n",
    "horasJefe = 4000\n",
    "\n",
    "print(f\"El jefe del proyecto {plantillaProyecto['jefe_proyecto']['Nombre']} lleva trabajadas: {plantillaProyecto['jefe_proyecto']['HorasProyecto']} horas\")\n",
    "plantillaProyecto['jefe_proyecto']['HorasProyecto'] = horasJefe\n",
    "print(f\"El jefe del proyecto {plantillaProyecto['jefe_proyecto']['Nombre']} lleva trabajadas: {plantillaProyecto['jefe_proyecto']['HorasProyecto']} horas\")\n",
    "horasEmpleados = 0\n",
    "for empleado in plantillaProyecto['empleados']:\n",
    "    horasEmpleados += empleado['HorasProyecto']\n",
    "    print(f\"El empleado del proyecto {empleado['Nombre']} lleva trabajadas: {empleado['HorasProyecto']} horas\")\n",
    "print(f\"En total se ha trabajado:\\n\\t> Jefe de Proyecto: {plantillaProyecto['jefe_proyecto']['HorasProyecto']} horas.\\n\\t> Empleados: {horasEmpleados} horas.\")\n",
    "    "
   ]
  },
  {
   "cell_type": "markdown",
   "metadata": {},
   "source": [
    "2) En el ejercicio anterior has trabajado con un diccionario que tu mismo/a creaste, conviértelo a un formato JSON String, muestra su tipo y los datos por pantalla\n",
    "¿Para qué nos sirve este formato?"
   ]
  },
  {
   "cell_type": "code",
   "execution_count": 33,
   "metadata": {},
   "outputs": [
    {
     "name": "stdout",
     "output_type": "stream",
     "text": [
      "<class 'str'>\n",
      "{\"jefe_proyecto\": {\"Nombre\": \"Juan\", \"Edad\": 28, \"Experiencia\": [\"Gestion\", \"Finanzas\", \"Bases de datos\"], \"Residencia\": \"Madrid\", \"HorasProyecto\": 4000}, \"empleados\": [{\"Nombre\": \"Elena\", \"Edad\": 26, \"Experiencia\": [\"JavaScript\", \"Python\"], \"Residencia\": \"Madrid\", \"HorasProyecto\": 500}, {\"Nombre\": \"Luis\", \"Edad\": 31, \"Experiencia\": [\"Django\", \"Flask\", \"Pyramid\"], \"Residencia\": \"Barcelona\", \"HorasProyecto\": 1100}]}\n"
     ]
    }
   ],
   "source": [
    "#*Generamos un json serializado a partir del diccionario del punto anterior. Este json\n",
    "#nos serviría como fichero de intercambio con otros sistemas.\n",
    "jsonparsed = jsonpickle.encode(plantillaProyecto)\n",
    "print(type(jsonparsed))\n",
    "print(jsonparsed)\n"
   ]
  },
  {
   "cell_type": "markdown",
   "metadata": {},
   "source": [
    "3) A veces os encontraréis con JSON que tendréis que modificar. Para ello tenéis que decodificarlos, realizar las modificaciones pertinentes y volver a codificarlo para dejarlo como JSON de nuevo. En el siguiente ejemplo os habéis dado cuenta de que hay algunos errores:\n",
    "* A Superman le falta como poder \"Volar\"\n",
    "* En Batman, la edad es 35, no 350\n",
    "* En Batman, le sobra el poder de \"Rayos en los ojos\"\n",
    "* En Wonder Woman le falta el poder \"Lazo de la verdad\"\n",
    "* Después de corregir todo esto, transforma estos datos en un JSON String"
   ]
  },
  {
   "cell_type": "code",
   "execution_count": 89,
   "metadata": {},
   "outputs": [],
   "source": [
    "# NO TOCAR NADA DE ESTE BLOQUE\n",
    "superheroes = {\n",
    "\t\"nombreEquipo\": \"Super Hero Squad\",\n",
    "\t\"ciudad\": \"Metro City\",\n",
    "\t\"formado\": 2016,\n",
    "\t\"baseSecreta\": \"Super Tower\",\n",
    "\t\"activo\": \"Si\",\n",
    "\t\"miembros\": [\n",
    "\t\t{\n",
    "\t\t\t\"nombre\": \"SuperMan\",\n",
    "\t\t\t\"edad\": 29,\n",
    "\t\t\t\"identidadSecreta\": \"Clart Kent\",\n",
    "\t\t\t\"poderes\": [\n",
    "\t\t\t\t\"Super fuerza\",\n",
    "\t\t\t\t\"Super velocidad\",\n",
    "\t\t\t\t\"Rayos en los ojos\"\n",
    "\t\t\t]\n",
    "\t\t},\n",
    "\t\t{\n",
    "\t\t\t\"nombre\": \"Batman\",\n",
    "\t\t\t\"edad\": 350,\n",
    "\t\t\t\"identidadSecreta\": \"Bruce Wayne\",\n",
    "\t\t\t\"poderes\": [\n",
    "\t\t\t\t\"Detective\",\n",
    "\t\t\t\t\"Dinero\",\n",
    "\t\t\t\t\"Rayos en los ojos\"\n",
    "\t\t\t]\n",
    "\t\t},\n",
    "\t\t{\n",
    "\t\t\t\"nombre\": \"Wonder Woman\",\n",
    "\t\t\t\"edad\": 900,\n",
    "\t\t\t\"identidadSecreta\": \"Diana de Temiscira\",\n",
    "\t\t\t\"poderes\": [\n",
    "\t\t\t\t\"Super fuerza\",\n",
    "\t\t\t\t\"Super velocidad\"\n",
    "\t\t\t]\n",
    "\t\t}\n",
    "\t]\n",
    "}"
   ]
  },
  {
   "cell_type": "code",
   "execution_count": 91,
   "metadata": {},
   "outputs": [
    {
     "name": "stderr",
     "output_type": "stream",
     "text": [
      "ic| parsedjson2: ('{\"nombreEquipo\": \"Super Hero Squad\", \"ciudad\": \"Metro City\", \"formado\": '\n",
      "                  '2016, \"baseSecreta\": \"Super Tower\", \"activo\": \"Si\", \"miembros\": [{\"nombre\": '\n",
      "                  '\"SuperMan\", \"edad\": 29, \"identidadSecreta\": \"Clart Kent\", \"poderes\": [\"Super '\n",
      "                  'fuerza\", \"Super velocidad\", \"Rayos en los ojos\", \"volar\"]}, {\"nombre\": '\n",
      "                  '\"Batman\", \"edad\": 35, \"identidadSecreta\": \"Bruce Wayne\", \"poderes\": '\n",
      "                  '[\"Detective"
     ]
    },
    {
     "name": "stderr",
     "output_type": "stream",
     "text": [
      "\", \"Dinero\"]}, {\"nombre\": \"Wonder Woman\", \"edad\": 900, '\n",
      "                  '\"identidadSecreta\": \"Diana de Temiscira\", \"poderes\": [\"Super fuerza\", \"Super '\n",
      "                  'velocidad\", \"Lazo de la verdad\"]}]}')\n"
     ]
    },
    {
     "name": "stdout",
     "output_type": "stream",
     "text": [
      "{'nombre': 'SuperMan', 'edad': 29, 'identidadSecreta': 'Clart Kent', 'poderes': ['Super fuerza', 'Super velocidad', 'Rayos en los ojos', 'volar']}\n",
      "{'nombre': 'Batman', 'edad': 35, 'identidadSecreta': 'Bruce Wayne', 'poderes': ['Detective', 'Dinero']}\n",
      "{'nombre': 'Batman', 'edad': 35, 'identidadSecreta': 'Bruce Wayne', 'poderes': ['Detective', 'Dinero']}\n",
      "{'nombre': 'Wonder Woman', 'edad': 900, 'identidadSecreta': 'Diana de Temiscira', 'poderes': ['Super fuerza', 'Super velocidad', 'Lazo de la verdad']}\n"
     ]
    },
    {
     "data": {
      "text/plain": [
       "'{\"nombreEquipo\": \"Super Hero Squad\", \"ciudad\": \"Metro City\", \"formado\": 2016, \"baseSecreta\": \"Super Tower\", \"activo\": \"Si\", \"miembros\": [{\"nombre\": \"SuperMan\", \"edad\": 29, \"identidadSecreta\": \"Clart Kent\", \"poderes\": [\"Super fuerza\", \"Super velocidad\", \"Rayos en los ojos\", \"volar\"]}, {\"nombre\": \"Batman\", \"edad\": 35, \"identidadSecreta\": \"Bruce Wayne\", \"poderes\": [\"Detective\", \"Dinero\"]}, {\"nombre\": \"Wonder Woman\", \"edad\": 900, \"identidadSecreta\": \"Diana de Temiscira\", \"poderes\": [\"Super fuerza\", \"Super velocidad\", \"Lazo de la verdad\"]}]}'"
      ]
     },
     "execution_count": 91,
     "metadata": {},
     "output_type": "execute_result"
    }
   ],
   "source": [
    "#* A Superman le falta como poder \"Volar\"\n",
    "if 'volar' not in superheroes['miembros'][0]['poderes']:\n",
    "    superheroes['miembros'][0]['poderes'].append('volar')  \n",
    "print(superheroes['miembros'][0])\n",
    "\n",
    "#* En Batman, la edad es 35, no 350\n",
    "superheroes['miembros'][1]['edad'] = 35\n",
    "print(superheroes['miembros'][1])\n",
    "\n",
    "#* En Batman, le sobra el poder de \"Rayos en los ojos\"\n",
    "if 'Rayos en los ojos' in superheroes['miembros'][1]['poderes']:\n",
    "    superheroes['miembros'][1]['poderes'].remove('Rayos en los ojos')\n",
    "print(superheroes['miembros'][1])\n",
    "\n",
    "#* En Wonder Woman le falta el poder \"Lazo de la verdad\"\n",
    "if 'Lazo de la verdad' not in superheroes['miembros'][2]['poderes']:\n",
    "    superheroes['miembros'][2]['poderes'].append('Lazo de la verdad')\n",
    "print(superheroes['miembros'][2])\n",
    "\n",
    "#* Después de corregir todo esto, transforma estos datos en un JSON String\n",
    "parsedjson2 = jsonpickle.encode(superheroes)\n",
    "ic(parsedjson2)"
   ]
  },
  {
   "cell_type": "markdown",
   "metadata": {},
   "source": [
    "4) En base al ejercicio anterior, modifica la estructura de super para lograr que miembros tenga dos ramas: \"miembrosActivos\" y \"miembrosInactivos\", donde cada una de estas ramas, almacenen los héroes que están en activo y los que no. En este caso, introduce a SuperMan y Wonder Woman en la lista de activos y a Batman en la de Inactivos. Esta modificación puedes hacerla como quieras, o bien programando las estructuras de datos e ir componiéndolo o bien cogiendo el JSON y modificándolo sobre él mismo. Al finalizar puedes comprobar tu JSON en un visualizador online (http://jsonviewer.stack.hu/)"
   ]
  },
  {
   "cell_type": "code",
   "execution_count": 2,
   "metadata": {},
   "outputs": [
    {
     "name": "stderr",
     "output_type": "stream",
     "text": [
      "ic| superheroes: {'activo': 'Si',\n",
      "                  'baseSecreta': 'Super Tower',\n",
      "                  'ciudad': '"
     ]
    },
    {
     "name": "stderr",
     "output_type": "stream",
     "text": [
      "Metro City',\n",
      "                  'formado': 2016,\n",
      "                  'miembros activos': [{'edad': 29,\n",
      "                                        'identidadSecreta': 'Clart Kent',\n",
      "                                        'nombre': 'SuperMan',\n",
      "                                        'poderes': ['Super fuerza',\n",
      "                                                    'Super velocidad',\n",
      "                                                    'Rayos en los ojos']},\n",
      "                                       {'edad': 900,\n",
      "                                        'identidadSecreta': 'Diana de Temiscira',\n",
      "                                        'nombre': 'Wonder Woman',\n",
      "                                        'poderes': ['Super fuerza', 'Super velocidad']}],\n",
      "                  'miembros inactivos': [{'edad': 350,\n",
      "                                          'identidadSecreta': 'Bruce Wayne',\n",
      "                                          'nombre': 'Batman',\n",
      "                                          'poderes': ['Detective',\n",
      "                                                      'Dinero',\n",
      "                                                      'Rayos en los ojos']}],\n",
      "                  'nombreEquipo': 'Super Hero Squad'}\n"
     ]
    },
    {
     "data": {
      "text/plain": [
       "{'nombreEquipo': 'Super Hero Squad',\n",
       " 'ciudad': 'Metro City',\n",
       " 'formado': 2016,\n",
       " 'baseSecreta': 'Super Tower',\n",
       " 'activo': 'Si',\n",
       " 'miembros activos': [{'nombre': 'SuperMan',\n",
       "   'edad': 29,\n",
       "   'identidadSecreta': 'Clart Kent',\n",
       "   'poderes': ['Super fuerza', 'Super velocidad', 'Rayos en los ojos']},\n",
       "  {'nombre': 'Wonder Woman',\n",
       "   'edad': 900,\n",
       "   'identidadSecreta': 'Diana de Temiscira',\n",
       "   'poderes': ['Super fuerza', 'Super velocidad']}],\n",
       " 'miembros inactivos': [{'nombre': 'Batman',\n",
       "   'edad': 350,\n",
       "   'identidadSecreta': 'Bruce Wayne',\n",
       "   'poderes': ['Detective', 'Dinero', 'Rayos en los ojos']}]}"
      ]
     },
     "execution_count": 2,
     "metadata": {},
     "output_type": "execute_result"
    }
   ],
   "source": [
    "from icecream import ic\n",
    "superheroes = {\n",
    "\t\"nombreEquipo\": \"Super Hero Squad\",\n",
    "\t\"ciudad\": \"Metro City\",\n",
    "\t\"formado\": 2016,\n",
    "\t\"baseSecreta\": \"Super Tower\",\n",
    "\t\"activo\": \"Si\",\n",
    "\t\"miembros activos\": [\n",
    "\t\t{\n",
    "\t\t\t\"nombre\": \"SuperMan\",\n",
    "\t\t\t\"edad\": 29,\n",
    "\t\t\t\"identidadSecreta\": \"Clart Kent\",\n",
    "\t\t\t\"poderes\": [\n",
    "\t\t\t\t\"Super fuerza\",\n",
    "\t\t\t\t\"Super velocidad\",\n",
    "\t\t\t\t\"Rayos en los ojos\"\n",
    "\t\t\t]\n",
    "\t\t},\n",
    "  \t\t{\n",
    "\t\t\t\"nombre\": \"Wonder Woman\",\n",
    "\t\t\t\"edad\": 900,\n",
    "\t\t\t\"identidadSecreta\": \"Diana de Temiscira\",\n",
    "\t\t\t\"poderes\": [\n",
    "\t\t\t\t\"Super fuerza\",\n",
    "\t\t\t\t\"Super velocidad\"\n",
    "\t\t\t]\n",
    "\t\t}],\n",
    "\t\"miembros inactivos\": [\n",
    "\t\t{\n",
    "\t\t\t\"nombre\": \"Batman\",\n",
    "\t\t\t\"edad\": 350,\n",
    "\t\t\t\"identidadSecreta\": \"Bruce Wayne\",\n",
    "\t\t\t\"poderes\": [\n",
    "\t\t\t\t\"Detective\",\n",
    "\t\t\t\t\"Dinero\",\n",
    "\t\t\t\t\"Rayos en los ojos\"\n",
    "\t\t\t]\n",
    "\t\t}\n",
    "\t\t\n",
    "\t]\n",
    "}\n",
    "ic(superheroes)"
   ]
  },
  {
   "cell_type": "markdown",
   "metadata": {},
   "source": [
    "5) En el siguiente código, accedemos a un JSON de forma remota, a partir de la respuesta, realizar lo siguiente:\n",
    "* Mostrar el tipo de dato que se ha recibido\n",
    "* Mostrar los datos recibidos\n",
    "* Mostrar el número de personas que se encuentran actualmente en el espacio\n",
    "* Realizar un bucle que recorra a todas esas personas y muestre nombre y nave en la que se encuentra."
   ]
  },
  {
   "cell_type": "code",
   "execution_count": 8,
   "metadata": {},
   "outputs": [
    {
     "name": "stderr",
     "output_type": "stream",
     "text": [
      "ic| data: {'message': 'success',\n",
      "           'number': 7,\n",
      "           'people': [{'craft': 'ISS', 'name': 'Jasmin Moghbeli'},\n",
      "                      {'craft': 'ISS', 'name': 'Andreas Mogensen'},\n",
      "                      {'craft': 'ISS', 'name': 'Satoshi Furukawa'},\n",
      "                      {'craft': 'ISS', 'name': 'Konstantin Borisov'},\n",
      "                      {'craft': 'ISS', 'name': 'Oleg Kononenko'},\n",
      "                      {'craft': 'ISS', 'name': 'Nikolai Chub'},\n",
      "                      {'craft': 'ISS', 'name': \"Loral O'Hara\"}]}\n"
     ]
    },
    {
     "name": "stdout",
     "output_type": "stream",
     "text": [
      "Enviada nave con resultado success con 7 personas a bordo:\n",
      "\t> Nave : ISS ---> Nombre viajero: Jasmin Moghbeli\n",
      "\t> Nave : ISS ---> Nombre viajero: Andreas Mogensen\n",
      "\t> Nave : ISS ---> Nombre viajero: Satoshi Furukawa\n",
      "\t> Nave : ISS ---> Nombre viajero: Konstantin Borisov\n",
      "\t> Nave : ISS ---> Nombre viajero: Oleg Kononenko\n",
      "\t> Nave : ISS ---> Nombre viajero: Nikolai Chub\n",
      "\t> Nave : ISS ---> Nombre viajero: Loral O'Hara\n"
     ]
    }
   ],
   "source": [
    "import requests\n",
    "from icecream import ic\n",
    "\n",
    "# API que nos comunica cuantas personas se encuentran actualmente en el espacio\n",
    "response = requests.get(\"http://api.open-notify.org/astros.json\")\n",
    "data = response.json()\n",
    "ic(data)\n",
    "print(f\"Enviada nave con resultado {data['message']} con {data['number']} personas a bordo:\")\n",
    "for elemento in data['people']:\n",
    "    print(f\"\\t> Nave : {elemento ['craft']} ---> Nombre viajero: {elemento['name']}\")\n",
    "\n"
   ]
  }
 ],
 "metadata": {
  "anaconda-cloud": {},
  "kernelspec": {
   "display_name": "Python 3",
   "language": "python",
   "name": "python3"
  },
  "language_info": {
   "codemirror_mode": {
    "name": "ipython",
    "version": 3
   },
   "file_extension": ".py",
   "mimetype": "text/x-python",
   "name": "python",
   "nbconvert_exporter": "python",
   "pygments_lexer": "ipython3",
   "version": "3.12.2"
  }
 },
 "nbformat": 4,
 "nbformat_minor": 1
}
