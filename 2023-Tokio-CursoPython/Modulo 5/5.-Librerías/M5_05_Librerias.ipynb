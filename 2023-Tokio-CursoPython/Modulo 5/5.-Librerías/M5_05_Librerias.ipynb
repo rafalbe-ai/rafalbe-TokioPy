{
 "cells": [
  {
   "cell_type": "markdown",
   "metadata": {},
   "source": [
    "# Ejercicios Modulo 5. Librerías especializadas en datos (Soluciones)\n",
    "\n",
    "Consideraciones a tener en cuenta: \n",
    "\n",
    "* Guardar este documento con el siguiente formato para su entrega: __M5_05_nombre_apellido1_apellido2__\n",
    "* Realizar los ejercicios con las herramientas vistas en las sesiones. \n",
    "* Comentar el código\n",
    "* Utilizar nombres de variables apropiados, si vais a guardar una nota, llamar a esa variable nota, no n o x"
   ]
  },
  {
   "cell_type": "markdown",
   "metadata": {},
   "source": [
    "**1) Trabajemos con NumPy**\n",
    "\n",
    "* Importa numpy y usa un alias para poder utilizar sus recursos\n",
    "* Crea un array de elementos (del 10 al 100)\n",
    "* Invertir el array\n",
    "* Crear un array 3x3 con valores de 0 a 8\n",
    "* Crear un array identidad de 6x6\n",
    "* Crear un array con valores al azar con forma 3x3x3\n",
    "* Crear dos arrays con valores al azar A y B, verificar si son iguales (hay varias opciones, investigar)"
   ]
  },
  {
   "cell_type": "code",
   "execution_count": null,
   "metadata": {},
   "outputs": [],
   "source": [
    "# Completa el ejercicio aquí"
   ]
  },
  {
   "cell_type": "markdown",
   "metadata": {},
   "source": [
    "**2) Sigamos con NumPy**\n",
    "\n",
    "* Crear un array de 100 elementos aleatorios comprendidos entre 1 y 1000 (pueden ser números enteros).\n",
    "* Este array se llamara dólares\n",
    "* Crear otro array llamado euros\n",
    "* Realizar la conversión de los precios en dólares del primer array al segundo array en euros. Se puede serguir la siguiente conversión:\n",
    "    - 1 EUR = 1,14362 USD\n",
    "    - 1 USD = 0,874413 EUR\n",
    "* Mostrar el resultado del array de euros pero redondeado a 2 decimales"
   ]
  },
  {
   "cell_type": "code",
   "execution_count": null,
   "metadata": {},
   "outputs": [],
   "source": [
    "# Completa el ejercicio aquí"
   ]
  },
  {
   "cell_type": "markdown",
   "metadata": {},
   "source": [
    "**3) Trabajemos con pandas**\n",
    "\n",
    "* Importa pandas y usa un alias para poder utilizar sus recursos\n",
    "* Cargar como dataframe de pandas el csv 05_05_imdb_titulos.csv y mostrar sus 5 primeros registros\n",
    "* Cargar como dataframe de pandas el csv 05_05_imdb_elenco.csv y mostrar sus 5 primeros registros\n",
    "* Mostrar el número de registros del dataframe de titulos\n",
    "* Mostrar el número de registros del dataframe de elenco\n",
    "* Mostrar las 5 peliculas más antiguas del listado de titulos\n",
    "* Mostrar las peliculas que en el titulo tienen la palabra \"Dracula\". También mostrar el número total de peliculas que coincidan con este requisito\n",
    "* Mostrar los 10 titulos más comunes (que más se repiten)\n",
    "* Mostrar cual fue la primer pelicula hecha titulada \"Romeo and Juliet\" \n",
    "* Listar todas las peliculas que contengan la palabra \"Exorcist\" ordenadas de la más vieja a la más reciente\n",
    "* Mostrar cuantas peliculas fueron hechas en el año 1950\n",
    "* Mostrar cuantas peliculas fueron hechas de 1950 a 1959\n",
    "* Mostrar todos los roles o papeles que hubo en la pelicula \"The Godfather\". También mostrar el número total de coincidencias\n",
    "* Mostrar el elenco completo ordenado por la clasificacion \"n\" de la pelicula \"Dracula\" de 1958\n",
    "* Mostrar cuantos papeles de \"Bruce Wayne\" han sido hechos en la historia de las peliculas\n",
    "* Mostrar cuantos papeles ha hecho \"Robert De Niro\" en su carrera\n",
    "* Listado de papeles como protagonista (n=1) que tuvo el actor \"Charlton Heston\" en la década de los 60's, ordenado por año de forma descendente\n",
    "* Mostrar cuantos papeles para actores hubo en la década de los 50's\n",
    "* Mostrar cuantos papeles para actrices hubo en la década de los 50's"
   ]
  },
  {
   "cell_type": "code",
   "execution_count": null,
   "metadata": {},
   "outputs": [],
   "source": [
    "# Completa el ejercicio aquí"
   ]
  }
 ],
 "metadata": {
  "anaconda-cloud": {},
  "kernelspec": {
   "display_name": "Python 3",
   "language": "python",
   "name": "python3"
  },
  "language_info": {
   "codemirror_mode": {
    "name": "ipython",
    "version": 3
   },
   "file_extension": ".py",
   "mimetype": "text/x-python",
   "name": "python",
   "nbconvert_exporter": "python",
   "pygments_lexer": "ipython3",
   "version": "3.7.6"
  }
 },
 "nbformat": 4,
 "nbformat_minor": 1
}
