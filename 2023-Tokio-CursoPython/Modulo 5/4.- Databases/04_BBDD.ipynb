{
 "cells": [
  {
   "cell_type": "markdown",
   "metadata": {},
   "source": [
    "# Bases de Datos con SQLite"
   ]
  },
  {
   "cell_type": "markdown",
   "metadata": {},
   "source": [
    "## Conexión a la base de datos, creación y desconexión"
   ]
  },
  {
   "cell_type": "code",
   "execution_count": 9,
   "metadata": {},
   "outputs": [],
   "source": [
    "# Importamos el módulo\n",
    "import sqlite3\n",
    "\n",
    "# Nos conectamos a la base de datos ejemplo.db (la crea si no existe)\n",
    "conexion = sqlite3.connect(\"ejemplo.db\")\n",
    "\n",
    "# Cerramos la conexión, si no la cerramos se mantendrá en uso y no podremos gestionar el fichero\n",
    "conexion.close()"
   ]
  },
  {
   "cell_type": "markdown",
   "metadata": {},
   "source": [
    "## Creación de una tabla utilizando sintaxis SQL\n",
    "Antes de ejecutar una consulta (query) en código SQL, tenemos que crear un cursor.\n",
    "\n",
    "**Una vez creada la tabla, si intentamos volver a crearla dará error indicándonos que esta ya existe.**"
   ]
  },
  {
   "cell_type": "code",
   "execution_count": 10,
   "metadata": {},
   "outputs": [],
   "source": [
    "import sqlite3\n",
    "\n",
    "conexion = sqlite3.connect(\"ejemplo.db\")\n",
    "\n",
    "# Creamos el cursor\n",
    "cursor = conexion.cursor()\n",
    "\n",
    "# Ahora crearemos una tabla de usuarios para almacenar nombres, edades y emails\n",
    "cursor.execute(\"CREATE TABLE usuarios (nombre VARCHAR(100), edad INTEGER, email VARCHAR(100))\")\n",
    "\n",
    "# Guardamos los cambios haciendo un commit\n",
    "conexion.commit()\n",
    "\n",
    "conexion.close()"
   ]
  },
  {
   "cell_type": "markdown",
   "metadata": {},
   "source": [
    "## Insertando un registro"
   ]
  },
  {
   "cell_type": "code",
   "execution_count": 11,
   "metadata": {},
   "outputs": [],
   "source": [
    "import sqlite3\n",
    "\n",
    "conexion = sqlite3.connect(\"ejemplo.db\")\n",
    "cursor = conexion.cursor()\n",
    "\n",
    "# Insertamos un registro en la tabla de usuarios\n",
    "cursor.execute(\"INSERT INTO usuarios VALUES ('Cristian', 30, 'cristian@pruebas.es')\")\n",
    "\n",
    "# Guardamos los cambios haciendo un commit\n",
    "conexion.commit()\n",
    "\n",
    "conexion.close()"
   ]
  },
  {
   "cell_type": "markdown",
   "metadata": {},
   "source": [
    "## Recuperando el primer registro con .fetchone()"
   ]
  },
  {
   "cell_type": "code",
   "execution_count": 12,
   "metadata": {},
   "outputs": [
    {
     "name": "stdout",
     "output_type": "stream",
     "text": [
      "('Cristian', 30, 'cristian@pruebas.es')\n"
     ]
    }
   ],
   "source": [
    "import sqlite3\n",
    "\n",
    "conexion = sqlite3.connect('ejemplo.db')\n",
    "cursor = conexion.cursor()\n",
    "\n",
    "# Recuperamos los registros de la tabla de usuarios\n",
    "cursor.execute(\"SELECT * FROM usuarios\")\n",
    "\n",
    "# Recorremos el primer registro con el método fetchone, devuelve una tupla\n",
    "usuario = cursor.fetchone()\n",
    "print(usuario)\n",
    "\n",
    "conexion.close()"
   ]
  },
  {
   "cell_type": "markdown",
   "metadata": {},
   "source": [
    "## Insertando varios registros con .executemany()"
   ]
  },
  {
   "cell_type": "code",
   "execution_count": 13,
   "metadata": {},
   "outputs": [],
   "source": [
    "import sqlite3\n",
    "\n",
    "conexion = sqlite3.connect('ejemplo.db')\n",
    "cursor = conexion.cursor()\n",
    "\n",
    "# Creamos una lista con varios usuarios\n",
    "usuarios = [('Mario', 51, 'mario@pruebas.es'),\n",
    "            ('Mercedes', 38, 'mercedes@pruebas.es'),\n",
    "            ('Juan', 19, 'juan@pruebas.es'),\n",
    "            ]\n",
    "\n",
    "# Ahora utilizamos el método executemany() para insertar varios\n",
    "cursor.executemany(\"INSERT INTO usuarios VALUES (?,?,?)\", usuarios)\n",
    "\n",
    "# Guardamos los cambios haciendo un commit\n",
    "conexion.commit()\n",
    "\n",
    "conexion.close()"
   ]
  },
  {
   "cell_type": "markdown",
   "metadata": {},
   "source": [
    "## Recuperando varios registros con .fetchall()"
   ]
  },
  {
   "cell_type": "code",
   "execution_count": 14,
   "metadata": {},
   "outputs": [
    {
     "name": "stdout",
     "output_type": "stream",
     "text": [
      "('Cristian', 30, 'cristian@pruebas.es')\n",
      "('Mario', 51, 'mario@pruebas.es')\n",
      "('Mercedes', 38, 'mercedes@pruebas.es')\n",
      "('Juan', 19, 'juan@pruebas.es')\n"
     ]
    }
   ],
   "source": [
    "import sqlite3\n",
    "\n",
    "conexion = sqlite3.connect('ejemplo.db')\n",
    "cursor = conexion.cursor()\n",
    "\n",
    "# Recuperamos los registros de la tabla de usuarios\n",
    "cursor.execute(\"SELECT * FROM usuarios\")\n",
    "\n",
    "# Recorremos todos los registros con fetchall, y los volvamos en una lista de usuarios\n",
    "usuarios = cursor.fetchall()\n",
    "\n",
    "# Ahora podemos recorrer todos los usuarios\n",
    "for usuario in usuarios:\n",
    "    print(usuario)\n",
    "\n",
    "conexion.close()"
   ]
  },
  {
   "cell_type": "markdown",
   "metadata": {},
   "source": [
    "## Utilizando DB Browser\n",
    "En esta práctica vamos a analizar el contenido de nuestra base de datos utilizando un programa externo.\n",
    "\n",
    "* 1) Ir a la siguiente web (sección de Downloads) y descarga e instala el programa http://sqlitebrowser.org\n",
    "* 2) Abre DB Browser for SQLite\n",
    "* 3) Ve al botón de \"Abrir base de datos\"\n",
    "* 4) Busca la base de datos que hemos creado (ejemplo.db) que se encuentra en el directorio de este proyecto de Jupyter en el que nos encontramos\n",
    "* 5) Navega por la interfaz para ver los campos de nuestra tabla \"usuarios\"\n",
    "* 6) Fijate que tenemos varias pestañas: Estructura, Hoja de datos y Ejecutar SQL son las más importantes\n",
    "\n"
   ]
  }
 ],
 "metadata": {
  "anaconda-cloud": {},
  "kernelspec": {
   "display_name": "Python 3",
   "language": "python",
   "name": "python3"
  },
  "language_info": {
   "codemirror_mode": {
    "name": "ipython",
    "version": 3
   },
   "file_extension": ".py",
   "mimetype": "text/x-python",
   "name": "python",
   "nbconvert_exporter": "python",
   "pygments_lexer": "ipython3",
   "version": "3.7.6"
  }
 },
 "nbformat": 4,
 "nbformat_minor": 1
}
