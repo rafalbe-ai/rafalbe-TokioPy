{
 "cells": [
  {
   "cell_type": "markdown",
   "metadata": {},
   "source": [
    "# Ejercicios Modulo 5. Excel y CSV (Enunciado)\n",
    "\n",
    "Consideraciones a tener en cuenta: \n",
    "\n",
    "* Guardar este documento con el siguiente formato para su entrega: __M5_02_nombre_apellido1_apellido2__\n",
    "* Realizar los ejercicios con las herramientas vistas en las sesiones. \n",
    "* Comentar el código\n",
    "* Utilizar nombres de variables apropiados, si vais a guardar una nota, llamar a esa variable nota, no n o x\n",
    "\n",
    "__Recomendación:__ Haz una copia de los ficheros antes de empezar a modificarlos para siempre poder recuperar una versión original de los mismos."
   ]
  },
  {
   "cell_type": "markdown",
   "metadata": {},
   "source": [
    "## EXCEL"
   ]
  },
  {
   "cell_type": "markdown",
   "metadata": {},
   "source": [
    "**1) Ejercicio de manejo de Excel en base al fichero 02_Excel_data.xlsx:**\n",
    "* Abre el fichero Excel\n",
    "* Lista las hojas que hay\n",
    "* Crea una nueva hoja que se llame olimpiadas entre ventas y otros\n",
    "* Vuelve a listar las hojas que hay\n",
    "* Guarda los cambios y comprueba en el excel si se han efectuado"
   ]
  },
  {
   "cell_type": "code",
   "execution_count": 1,
   "metadata": {},
   "outputs": [],
   "source": [
    "#*Importaciones necesarias de otros módulos\n",
    "from datetime import datetime, timedelta\n",
    "import locale\n",
    "import copy\n",
    "from IPython.display import clear_output\n",
    "import openpyxl\n",
    "\n",
    "class Colores_RAA:\n",
    "    NEGRO = '\\033[30m'\n",
    "    ROJO = '\\033[31m'\n",
    "    VERDE = '\\033[32m'\n",
    "    NARANJA = '\\033[33m'\n",
    "    AZUL = '\\033[34m'\n",
    "    MORADO = '\\033[35m'\n",
    "    CIAN = '\\033[36m'\n",
    "    GRISCLARO = '\\033[37m'\n",
    "    GRISOSCURO = '\\033[90m'\n",
    "    ROJOCLARO = '\\033[91m'\n",
    "    VERDECLARO = '\\033[92m'\n",
    "    AMARILLO = '\\033[93m'\n",
    "    AZULCLARO = '\\033[94m'\n",
    "    ROSA = '\\033[95m'\n",
    "    CIANCLARO = '\\033[96m'\n",
    "    FINBLOQUE = '\\033[0m'\n",
    "    NEGRITA = '\\033[1m'\n",
    "    SUBRAYADO = '\\033[4m'"
   ]
  },
  {
   "cell_type": "code",
   "execution_count": 2,
   "metadata": {},
   "outputs": [
    {
     "name": "stdout",
     "output_type": "stream",
     "text": [
      "['direcciones', 'ventas', 'otros']\n",
      "Hoja 0 --> direcciones\n",
      "Hoja 1 --> ventas\n",
      "Hoja 2 --> otros\n",
      "----------------------------------------------------------------------------------------------------\n",
      "Hoja 0 --> direcciones\n",
      "Hoja 1 --> ventas\n",
      "Hoja 2 --> olimpiadas\n",
      "Hoja 3 --> otros\n"
     ]
    }
   ],
   "source": [
    "wk = openpyxl.load_workbook(\"02_Excel_data.xlsx\")\n",
    "#*En forma de lista\n",
    "print(f\"{[sheet.title for sheet in wk.worksheets]}\")\n",
    "\n",
    "#*formato tabular.\n",
    "for indice, sheet in enumerate(wk.worksheets):\n",
    "    print(f\"Hoja {indice} --> {sheet.title}\")\n",
    "print('-'*100)\n",
    "wk.active = wk['ventas']\n",
    "wk.create_sheet(\"olimpiadas\", 2)\n",
    "for indice, sheet in enumerate(wk.worksheets):\n",
    "    print(f\"Hoja {indice} --> {sheet.title}\")\n",
    "wk.save(\"02_Excel_data.xlsx\")\n",
    "wk.close()"
   ]
  },
  {
   "cell_type": "code",
   "execution_count": null,
   "metadata": {},
   "outputs": [],
   "source": []
  },
  {
   "cell_type": "markdown",
   "metadata": {},
   "source": [
    "**2) Continuemos con Excel**\n",
    "* Crea una lista que contenga los siguientes datos olímpicos (nombre del país y medallas de oro, plata y bronce):\n",
    "```\n",
    "USA, 46, 12, 5\n",
    "China, 38, 20, 7\n",
    "UK, 29, 7, 7\n",
    "Russia, 22, 10, 9\n",
    "South Korea, 13, 3, 2\n",
    "Germany, 11, 7, 4\n",
    "```\n",
    "* Añadir esa lista a la hoja de olimpiadas que creamos en el ejercicio anterior\n",
    "* Listar por filas y columnas el contenido\n",
    "* Mover todo el rango de datos una fila hacia abajo (buscar en la documentación como mover rangos)\n",
    "* Añadir unas cabeceras en la primera línea (que acaba de quedar libre) que sean \"Pais\", \"Oros\", \"Platas\", \"Bronces\"\n",
    "* Guarda los cambios y comprueba en el excel si se han efectuado"
   ]
  },
  {
   "cell_type": "code",
   "execution_count": 3,
   "metadata": {},
   "outputs": [],
   "source": [
    "lista = [{'Pais': 'USA', 'Oros' : 46, 'Platas' : 12, 'Bronces' : 5},\n",
    "         {'Pais': 'China', 'Oros' : 38, 'Platas' : 20, 'Bronces' : 7},\n",
    "         {'Pais': 'UK', 'Oros' : 29, 'Platas' : 7, 'Bronces' : 7},\n",
    "         {'Pais': 'Russia', 'Oros' : 22, 'Platas' : 10, 'Bronces' : 9},\n",
    "         {'Pais': 'South Korea', 'Oros' : 13, 'Platas' : 3, 'Bronces' : 2},\n",
    "         {'Pais': 'Germany', 'Oros' : 11, 'Platas' : 7, 'Bronces' : 4}]\n",
    "\n"
   ]
  },
  {
   "cell_type": "code",
   "execution_count": 15,
   "metadata": {},
   "outputs": [
    {
     "name": "stdout",
     "output_type": "stream",
     "text": [
      "A2 - USA\n",
      "B2 - 46\n",
      "C2 - 12\n",
      "D2 - 5\n",
      "____________________\n",
      "A3 - China\n",
      "B3 - 38\n",
      "C3 - 20\n",
      "D3 - 7\n",
      "____________________\n",
      "A4 - UK\n",
      "B4 - 29\n",
      "C4 - 7\n",
      "D4 - 7\n",
      "____________________\n",
      "A5 - Russia\n",
      "B5 - 22\n",
      "C5 - 10\n",
      "D5 - 9\n",
      "____________________\n",
      "A6 - South Korea\n",
      "B6 - 13\n",
      "C6 - 3\n",
      "D6 - 2\n",
      "____________________\n",
      "A7 - Germany\n",
      "B7 - 11\n",
      "C7 - 7\n",
      "D7 - 4\n",
      "____________________\n",
      "**************************************************\n",
      "A2 - USA\n",
      "A3 - China\n",
      "A4 - UK\n",
      "A5 - Russia\n",
      "A6 - South Korea\n",
      "A7 - Germany\n",
      "-------------------------\n",
      "B2 - 46\n",
      "B3 - 38\n",
      "B4 - 29\n",
      "B5 - 22\n",
      "B6 - 13\n",
      "B7 - 11\n",
      "-------------------------\n",
      "C2 - 12\n",
      "C3 - 20\n",
      "C4 - 7\n",
      "C5 - 10\n",
      "C6 - 3\n",
      "C7 - 7\n",
      "-------------------------\n",
      "D2 - 5\n",
      "D3 - 7\n",
      "D4 - 7\n",
      "D5 - 9\n",
      "D6 - 2\n",
      "D7 - 4\n",
      "-------------------------\n"
     ]
    }
   ],
   "source": [
    "from openpyxl.styles import colors, Font, Color\n",
    "         \n",
    "wk = openpyxl.load_workbook(\"02_Excel_data.xlsx\")\n",
    "nombreHoja = 'olimpiadas'\n",
    "#*Borramos la hoja -- Para ello borramos las cinco primeras columnas\n",
    "wk[nombreHoja].delete_cols(1,5)\n",
    "\n",
    "#*Escribimos el encabezado de la hoja.\n",
    "\n",
    "estiloTitulo = Font(name = 'Calibri', color = 'FF0000', size = 16, bold = True, italic = True)\n",
    "estiloNegrita = Font(name = 'Calibri', bold = True)\n",
    "estiloNegrita14 = Font(name = 'Calibri', bold = True, size = 14)\n",
    "wk[nombreHoja]['A1'].value = 'Medallero de no se qué olimpiada:'\n",
    "wk[nombreHoja]['A1'].font = estiloTitulo\n",
    "\n",
    "\n",
    "#*Escribimos los datos.\n",
    "for indice, elemento in enumerate(lista):\n",
    "    wk[nombreHoja]['A' + str(indice+2)].value = elemento['Pais']\n",
    "    wk[nombreHoja]['A' + str(indice+2)].font = estiloNegrita\n",
    "    wk[nombreHoja]['A' + str(indice+2)].value = elemento['Pais']\n",
    "    wk[nombreHoja]['B' + str(indice+2)].value = elemento['Oros']\n",
    "    wk[nombreHoja]['C' + str(indice+2)].value = elemento['Platas']\n",
    "    wk[nombreHoja]['D' + str(indice+2)].value = elemento['Bronces']\n",
    "    \n",
    "#*Listamos por filas\n",
    "rango = wk[nombreHoja]['A2':'D7']\n",
    "for row in rango:\n",
    "    for cell in row:\n",
    "        print(f\"{cell.coordinate} - {cell.value}\")\n",
    "    print('_'*20)\n",
    "\n",
    "print('*'*50)\n",
    "#*Listamos por columnas - Utilizamos iter_cols de openpyxl\n",
    "for col in wk[nombreHoja].iter_cols(1,4,2,7):\n",
    "    for cell in col:\n",
    "        print(f\"{cell.coordinate} - {cell.value}\")\n",
    "    print('-'*25)\n",
    "\n",
    "   \n",
    "#*Movemos el rango una fila hacia abajo.\n",
    "wk[nombreHoja].move_range('A2:D7', rows = 1, cols = 0)\n",
    "\n",
    "#*Insertamos los títulos delante de los datos.\n",
    "for indice, clave in enumerate(lista[0].keys()):\n",
    "     wk[nombreHoja][chr(65 + indice) + '2'].value = clave\n",
    "     wk[nombreHoja][chr(65 + indice) + '2'].font = estiloNegrita14\n",
    "    \n",
    "wk[nombreHoja][\"B10\"] = '=SUM(B3:B4)' \n",
    "\n",
    "for indice in range(3,9):\n",
    "    #Elimino esta primera opción porque en excel me pone un =@suma(B3:D3).\n",
    "    #wk[nombreHoja]['E' + str(indice)] = '=SUMA(B' + str(indice) + \":D\" + str(indice) + ')'\n",
    "    wk[nombreHoja]['E' + str(indice)] = '=B' + str(indice) + \"+C\" + str(indice) + \"+D\" + str(indice) \n",
    "\n",
    "\n",
    "from openpyxl.chart import BarChart\n",
    "from openpyxl.chart.marker import DataPoint\n",
    "from openpyxl.drawing.fill import PatternFillProperties, ColorChoice\n",
    "# Configuracion y creacion de la gráfica\n",
    "grafica = BarChart()\n",
    "# Para versiones nuevas de Anaconda: grafica = AreaChart()\n",
    "grafica.title = \"Medallas por países\"\n",
    "grafica.type = \"col\"\n",
    "grafica.style = 10\n",
    "grafica.x_axis.title = \"Paises\"\n",
    "grafica.y_axis.title = \"Número total de medallas\"\n",
    "\n",
    "\n",
    "paises = openpyxl.chart.Reference(wk[nombreHoja], min_col=1, max_col = 1, min_row=3, max_row=8)\n",
    "numeroMedallas = openpyxl.chart.Reference(wk[nombreHoja], min_col=5, max_col = 5, min_row=3, max_row=8)\n",
    "\n",
    "grafica.add_data(numeroMedallas, titles_from_data=True)\n",
    "grafica.set_categories(paises)\n",
    "grafica.shape = 4\n",
    "wk[nombreHoja].add_chart(grafica, \"D12\")\n",
    "\n",
    "\n",
    "#*Salvamos y cerramos el libro de excel.\n",
    "wk.save(\"02_Excel_data.xlsx\")\n",
    "wk.close()"
   ]
  },
  {
   "cell_type": "markdown",
   "metadata": {},
   "source": [
    "**3) Continuemos con Excel, centrandonos en la parte de la librería openpyxl.styles (la cual proporciona estilo a nuestras hojas de Excel)**\n",
    "* Poner las cabeceras que acabamos de añadir en negrita (bold)\n",
    "* Guarda los cambios y comprueba en el excel si se han efectuado\n",
    "\n",
    "Pista: Aunque hay varias formas de hacerlo, lo más común es definir el estilo que deseas (negrita) y luego aplicárselo a todas las celdas que quieras (iterar por la primera fila de nuestra hoja)\n",
    "\n",
    "Doc: https://openpyxl.readthedocs.io/en/stable/styles.html"
   ]
  },
  {
   "cell_type": "code",
   "execution_count": 80,
   "metadata": {},
   "outputs": [],
   "source": [
    "#*Hecho en el punto anterior a la vez que se generaban los datos en la excel."
   ]
  },
  {
   "cell_type": "markdown",
   "metadata": {},
   "source": [
    "**4) Continuamos con Excel. Crea una nueva columna que sea el sumatorio de todas las medallas conseguidas por cada uno de los paises**"
   ]
  },
  {
   "cell_type": "code",
   "execution_count": null,
   "metadata": {},
   "outputs": [],
   "source": [
    "#*Resuelto más arriba antes de cerrar el fichero de excel."
   ]
  },
  {
   "attachments": {
    "02_Excel_data.png": {
     "image/png": "[encoded data removed]"
    }
   },
   "cell_type": "markdown",
   "metadata": {},
   "source": [
    "**5) Continuamos con Excel. Crear un gráfico de barras (openpyxl.chart.BarChart()) lo más parecido al que se muestra en la imagen:**\n",
    "\n",
    "![02_Excel_data.png](attachment:02_Excel_data.png)"
   ]
  },
  {
   "cell_type": "code",
   "execution_count": null,
   "metadata": {},
   "outputs": [],
   "source": [
    "import openpyxl\n",
    "data = openpyxl.chart.Reference(hoja_olimpiadas, min_col=5, min_row=2, max_col=5, max_row=7)\n",
    "categs = openpyxl.chart.Reference(hoja_olimpiadas, min_col=1, min_row=2, max_row=7)\n",
    "\n",
    "# Completa el ejercicio aquí"
   ]
  },
  {
   "cell_type": "markdown",
   "metadata": {},
   "source": [
    "## CSV"
   ]
  },
  {
   "cell_type": "markdown",
   "metadata": {},
   "source": [
    "**Vamos a realizar un ejercicio práctico de minería de datos, donde limpiaremos y filtraremos información con un csv que contiene datos de vehículos**\n",
    "\n",
    "Trabajaremos con el fichero **02_CSV_data.csv**"
   ]
  },
  {
   "cell_type": "markdown",
   "metadata": {},
   "source": [
    "**6) Observa los datos del csv y realiza las siguientes tareas:**\n",
    "\n",
    "* Tenemos 9 columnas, las 8 primeras contienen datos numéricos con los cuales podemos trabajar, crea una lista para cada una de estas columnas (mpg, cylinders, etc.). No es necesario crear lista para name\n",
    "* Recorre los datos del csv adecuadamente y almacena los datos de cada columna en cada una de las listas que has creado anteriormente.\n",
    "* Comprobar que se haya guardado en las listas la información correspondiente (con prints)"
   ]
  },
  {
   "cell_type": "code",
   "execution_count": null,
   "metadata": {},
   "outputs": [],
   "source": [
    "# Completa el ejercicio aquí"
   ]
  },
  {
   "cell_type": "markdown",
   "metadata": {},
   "source": [
    "**7) Vamos a trabajar con los números de nuestras listas por lo que nos sobra el primer elemento de cada lista, el cual contiene el nombre de cada una de las columnas.**\n",
    "\n",
    "* Elimina el primer elemento de cada una de las listas\n",
    "* Observa que los datos de nuestras listas son strings, conviértelos a float. Pista: list y map te pueden ayudar.\n",
    "* Comprobar que se haya eliminado el primer elemento y que los datos son numéricos (con prints)"
   ]
  },
  {
   "cell_type": "code",
   "execution_count": null,
   "metadata": {},
   "outputs": [],
   "source": [
    "# Completa el ejercicio aquí"
   ]
  },
  {
   "cell_type": "markdown",
   "metadata": {},
   "source": [
    "**8) Para terminar vamos a mostrar algunos resultados. Para ello utilizaremos la librería statistics.**\n",
    "\n",
    "* Muestra para cada una de las listas, cuantas observaciones tiene (cuántos datos tiene).\n",
    "* Mostrar el mínimo y el máximo de cada lista\n",
    "* Mostrar la media, mediana y desviación estándar de cada lista (utilizando statistics)"
   ]
  },
  {
   "cell_type": "code",
   "execution_count": null,
   "metadata": {},
   "outputs": [],
   "source": [
    "import statistics as stats\n",
    "# Completa el ejercicio aquí"
   ]
  }
 ],
 "metadata": {
  "anaconda-cloud": {},
  "kernelspec": {
   "display_name": "Python 3",
   "language": "python",
   "name": "python3"
  },
  "language_info": {
   "codemirror_mode": {
    "name": "ipython",
    "version": 3
   },
   "file_extension": ".py",
   "mimetype": "text/x-python",
   "name": "python",
   "nbconvert_exporter": "python",
   "pygments_lexer": "ipython3",
   "version": "3.12.2"
  }
 },
 "nbformat": 4,
 "nbformat_minor": 1
}
