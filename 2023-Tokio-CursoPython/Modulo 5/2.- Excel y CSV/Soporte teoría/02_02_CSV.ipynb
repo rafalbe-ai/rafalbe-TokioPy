{
 "cells": [
  {
   "cell_type": "markdown",
   "metadata": {},
   "source": [
    "# CSV"
   ]
  },
  {
   "cell_type": "markdown",
   "metadata": {},
   "source": [
    "## Uso del módulo csv\n",
    "Librería que nos permite trabajar con ficheros CSV. Documentación: https://docs.python.org/3/library/csv.html"
   ]
  },
  {
   "cell_type": "code",
   "execution_count": 2,
   "metadata": {},
   "outputs": [],
   "source": [
    "import csv"
   ]
  },
  {
   "cell_type": "markdown",
   "metadata": {},
   "source": [
    "## Apertura y lectura de ficheros CSV con reader\n",
    "02_CSV_data.csv adjunto a esta práctica"
   ]
  },
  {
   "cell_type": "code",
   "execution_count": null,
   "metadata": {},
   "outputs": [],
   "source": [
    "# Leer archivo csv con reader\n",
    "with open(\"02_CSV_data.csv\", \"r\") as my_csv_file:\n",
    "    reader = csv.reader(my_csv_file)\n",
    "    for row in reader:\n",
    "        print ( row )"
   ]
  },
  {
   "cell_type": "code",
   "execution_count": null,
   "metadata": {},
   "outputs": [],
   "source": [
    "# Leer archivo csv con reader y optimizando la salida\n",
    "with open(\"02_CSV_data.csv\", \"r\") as my_csv_file:\n",
    "    reader = csv.reader(my_csv_file, delimiter=',')\n",
    "    for row in reader:\n",
    "        print(', '.join(row))"
   ]
  },
  {
   "cell_type": "markdown",
   "metadata": {},
   "source": [
    "## Uso de reader y next"
   ]
  },
  {
   "cell_type": "code",
   "execution_count": 3,
   "metadata": {},
   "outputs": [
    {
     "name": "stdout",
     "output_type": "stream",
     "text": [
      "['nombre', 'provincia', 'consumo']\n",
      "['Alejandro', 'Sevilla', '330']\n",
      "Carmen Sevilla 320\n"
     ]
    }
   ],
   "source": [
    "# Leer archivo csv con reader y next\n",
    "with open(\"02_CSV_data.csv\", \"r\") as my_csv_file:\n",
    "    reader = csv.reader(my_csv_file, delimiter=',')\n",
    "    reg0 = next(reader)  # Leer registro (lista)\n",
    "    print(reg0)  # Mostrar registro\n",
    "    reg1 = next(reader)  # Leer siguiente registro (lista)\n",
    "    print(reg1)  # Mostrar registro\n",
    "    nombre, provincia, consumo = next(reader) # Almacenar en variables el siguiente registro (en el orden que se indica)\n",
    "    print(nombre, provincia, consumo) # Mostrar las variables"
   ]
  },
  {
   "cell_type": "code",
   "execution_count": 4,
   "metadata": {},
   "outputs": [
    {
     "name": "stdout",
     "output_type": "stream",
     "text": [
      "Linea: 0\n",
      "Nombre: Alejandro, Provincia: Sevilla, Consumo: 330\n",
      "Linea: 1\n",
      "Nombre: Carmen, Provincia: Sevilla, Consumo: 320\n",
      "Linea: 2\n",
      "Nombre: Eugenia, Provincia: Granada, Consumo: 280\n",
      "Linea: 3\n",
      "Nombre: Antonio, Provincia: Sevilla, Consumo: 340\n",
      "Linea: 4\n",
      "Nombre: Ana, Provincia: Granada, Consumo: 290\n",
      "Linea: 5\n",
      "Nombre: Marta, Provincia: Granada, Consumo: 230\n",
      "Linea: 6\n",
      "Nombre: Luis, Provincia: Huelva, Consumo: 310\n",
      "Linea: 7\n",
      "Nombre: Manuel, Provincia: Huelva, Consumo: 340\n",
      "Linea: 8\n",
      "Nombre: Francisco, Provincia: Granada, Consumo: 320\n"
     ]
    }
   ],
   "source": [
    "# Leer archivo csv con reader, next, bucle y formato de salida\n",
    "with open(\"02_CSV_data.csv\", \"r\") as my_csv_file:\n",
    "    reader = csv.reader(my_csv_file, delimiter=',')\n",
    "    next(reader) # Saltarnos la cabecera del documento CSV\n",
    "    for index,row in enumerate(reader):\n",
    "        print('Linea: ' + str(index))\n",
    "        print('Nombre: ' + row[0] + ', Provincia: ' + row[1] + ', Consumo: ' + row[2])"
   ]
  },
  {
   "cell_type": "markdown",
   "metadata": {},
   "source": [
    "## Ordenacion por campos con operator\n",
    "Documentación en https://docs.python.org/3/library/operator.html"
   ]
  },
  {
   "cell_type": "code",
   "execution_count": 7,
   "metadata": {},
   "outputs": [
    {
     "name": "stdout",
     "output_type": "stream",
     "text": [
      "['Marta', 'Granada', '230']\n",
      "['Eugenia', 'Granada', '280']\n",
      "['Ana', 'Granada', '290']\n",
      "['Luis', 'Huelva', '310']\n",
      "['Carmen', 'Sevilla', '320']\n",
      "['Francisco', 'Granada', '320']\n",
      "['Alejandro', 'Sevilla', '330']\n",
      "['Antonio', 'Sevilla', '340']\n",
      "['Manuel', 'Huelva', '340']\n",
      "['nombre', 'provincia', 'consumo']\n"
     ]
    }
   ],
   "source": [
    "import operator\n",
    "# Leer archivo csv con reader y mostrarlo ordenado por el segundo campo (provincia)\n",
    "my_csv_file = csv.reader(open(\"02_CSV_data.csv\"))\n",
    "listaordenada = sorted(my_csv_file,\n",
    "                       key=operator.itemgetter(2),\n",
    "                       reverse=False)\n",
    "for i in listaordenada:\n",
    "    print(i)\n",
    "# O si queremos imprimir la lista de seguido:\n",
    "#print(listaordenada)"
   ]
  },
  {
   "cell_type": "markdown",
   "metadata": {},
   "source": [
    "## Leer CSV en formato diccionario"
   ]
  },
  {
   "cell_type": "code",
   "execution_count": 8,
   "metadata": {},
   "outputs": [
    {
     "name": "stdout",
     "output_type": "stream",
     "text": [
      "Sevilla 330\n",
      "Sevilla 320\n",
      "Granada 280\n",
      "Sevilla 340\n",
      "Granada 290\n",
      "Granada 230\n",
      "Huelva 310\n",
      "Huelva 340\n",
      "Granada 320\n"
     ]
    }
   ],
   "source": [
    "# Leer archivo csv como lista de diccionarios con DictReader() y mostrar sólo datos de algunas columnas\n",
    "with open(\"02_CSV_data.csv\") as my_csv_file:\n",
    "    reader = csv.DictReader(my_csv_file)\n",
    "    for reg in reader:\n",
    "        print(reg['provincia'], reg['consumo'])"
   ]
  },
  {
   "cell_type": "markdown",
   "metadata": {},
   "source": [
    "## Leer CSV en formato diccionario y ordenación por campos con operator"
   ]
  },
  {
   "cell_type": "code",
   "execution_count": 9,
   "metadata": {},
   "outputs": [
    {
     "name": "stdout",
     "output_type": "stream",
     "text": [
      "OrderedDict([('nombre', 'Antonio'), ('provincia', 'Sevilla'), ('consumo', '340')])\n",
      "OrderedDict([('nombre', 'Manuel'), ('provincia', 'Huelva'), ('consumo', '340')])\n",
      "OrderedDict([('nombre', 'Alejandro'), ('provincia', 'Sevilla'), ('consumo', '330')])\n",
      "OrderedDict([('nombre', 'Carmen'), ('provincia', 'Sevilla'), ('consumo', '320')])\n",
      "OrderedDict([('nombre', 'Francisco'), ('provincia', 'Granada'), ('consumo', '320')])\n",
      "OrderedDict([('nombre', 'Luis'), ('provincia', 'Huelva'), ('consumo', '310')])\n",
      "OrderedDict([('nombre', 'Ana'), ('provincia', 'Granada'), ('consumo', '290')])\n",
      "OrderedDict([('nombre', 'Eugenia'), ('provincia', 'Granada'), ('consumo', '280')])\n",
      "OrderedDict([('nombre', 'Marta'), ('provincia', 'Granada'), ('consumo', '230')])\n"
     ]
    }
   ],
   "source": [
    "# Leer archivo csv como lista de diccionarios y obtener una lista ordenada descendente por el campo 'consumo'\n",
    "my_csv_file = open(\"02_CSV_data.csv\")\n",
    "reader = csv.DictReader(my_csv_file)\n",
    "listadicc = list(reader)  # Obtener lista de diccionarios\n",
    "listafinal = sorted(listadicc,\n",
    "                      key=operator.itemgetter('consumo'),\n",
    "                      reverse=True)\n",
    "for registro in listafinal:\n",
    "    print(registro)"
   ]
  },
  {
   "cell_type": "markdown",
   "metadata": {},
   "source": [
    "## Cerrar correctamente un fichero CSV"
   ]
  },
  {
   "cell_type": "code",
   "execution_count": 10,
   "metadata": {},
   "outputs": [
    {
     "name": "stdout",
     "output_type": "stream",
     "text": [
      "['nombre', 'provincia', 'consumo']\n",
      "['Alejandro', 'Sevilla', '330']\n",
      "['Carmen', 'Sevilla', '320']\n",
      "['Eugenia', 'Granada', '280']\n",
      "['Antonio', 'Sevilla', '340']\n",
      "['Ana', 'Granada', '290']\n",
      "['Marta', 'Granada', '230']\n",
      "['Luis', 'Huelva', '310']\n",
      "['Manuel', 'Huelva', '340']\n",
      "['Francisco', 'Granada', '320']\n",
      "Fichero csv cerrado con éxito\n"
     ]
    }
   ],
   "source": [
    "# Borrar y cerrar fichero csv\n",
    "with open(\"02_CSV_data.csv\", \"r\") as my_csv_file:\n",
    "    reader = csv.reader(my_csv_file)\n",
    "    for row in reader:\n",
    "        print ( row )\n",
    "\n",
    "del reader  # Borrar objetos\n",
    "my_csv_file.close()  # Cerrar archivo\n",
    "del my_csv_file  # Borrar objeto\n",
    "print(\"Fichero csv cerrado con éxito\")"
   ]
  },
  {
   "cell_type": "markdown",
   "metadata": {},
   "source": [
    "## Cear un fichero CSV nuevo\n",
    "Abrir posteriormente el fichero 02_CSV_data_2.csv para comprobar que se haya creado con el contenido correcto. El fichero se creará en el directorio de este proyecto."
   ]
  },
  {
   "cell_type": "code",
   "execution_count": 17,
   "metadata": {},
   "outputs": [],
   "source": [
    "# Escribir todas las tuplas de una lista con writerow() y writerows() en un fichero nuevo (apertura del fichero con \"w\" o \"wb\")\n",
    "datos = [('aaa', 111),('bbb', 222),('ccc', 333)]\n",
    "csvsalida = open(\"02_CSV_data_2.csv\", \"w\", newline='')\n",
    "writer = csv.writer(csvsalida)\n",
    "writer.writerow(['campo1', 'campo2'])\n",
    "writer.writerows(datos)\n",
    "\n",
    "del writer\n",
    "csvsalida.close()"
   ]
  },
  {
   "cell_type": "markdown",
   "metadata": {},
   "source": [
    "## Añadir datos a un fichero CSV ya creado\n",
    "Abrir posteriormente el fichero 02_CSV_data_2.csv para comprobar que se haya creado con el contenido correcto. "
   ]
  },
  {
   "cell_type": "code",
   "execution_count": 18,
   "metadata": {},
   "outputs": [],
   "source": [
    "# Añadir todas las tuplas de una lista en un fichero existente (apertura del fichero con \"a\" o \"ab\", que viene de append y añade info al final)\n",
    "\n",
    "datosNuevos = [('ddd', 444), ('eee', 555), ('fff', 666)]\n",
    "csvsalida = open(\"02_CSV_data_2.csv\", \"a\", newline='') # a de append\n",
    "writer = csv.writer(csvsalida)\n",
    "writer.writerows(datosNuevos)\n",
    "\n",
    "del writer\n",
    "csvsalida.close()"
   ]
  }
 ],
 "metadata": {
  "kernelspec": {
   "display_name": "Python 3",
   "language": "python",
   "name": "python3"
  },
  "language_info": {
   "codemirror_mode": {
    "name": "ipython",
    "version": 3
   },
   "file_extension": ".py",
   "mimetype": "text/x-python",
   "name": "python",
   "nbconvert_exporter": "python",
   "pygments_lexer": "ipython3",
   "version": "3.7.6"
  }
 },
 "nbformat": 4,
 "nbformat_minor": 1
}
