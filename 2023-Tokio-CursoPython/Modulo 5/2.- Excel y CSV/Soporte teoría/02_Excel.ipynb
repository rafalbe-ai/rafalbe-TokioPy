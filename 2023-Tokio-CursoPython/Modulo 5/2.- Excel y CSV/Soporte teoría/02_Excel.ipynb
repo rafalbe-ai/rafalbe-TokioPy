{
 "cells": [
  {
   "cell_type": "markdown",
   "metadata": {},
   "source": [
    "# Excel"
   ]
  },
  {
   "cell_type": "markdown",
   "metadata": {},
   "source": [
    "## Uso del módulo openpyxl\n",
    "Librería que nos permite acceder y modificar ficheros Excel. Documentación: https://openpyxl.readthedocs.io/en/stable/"
   ]
  },
  {
   "cell_type": "code",
   "execution_count": null,
   "metadata": {},
   "outputs": [],
   "source": [
    "import openpyxl"
   ]
  },
  {
   "cell_type": "markdown",
   "metadata": {},
   "source": [
    "## Apertura y lectura de hojas de un fichero Excel\n",
    "02_Excel_data.xlsx adjunto a esta práctica"
   ]
  },
  {
   "cell_type": "code",
   "execution_count": null,
   "metadata": {},
   "outputs": [],
   "source": [
    "# Abrir un archivo Excel (workbook)\n",
    "wb = openpyxl.load_workbook(\"02_Excel_data.xlsx\")\n",
    "\n",
    "# Imprimir los nombres de las hojas\n",
    "print(\"Nombres de hojas: \")\n",
    "print(wb.sheetnames)\n",
    "\n",
    "print(\"\\nNombres de hojas (otra forma): \")\n",
    "for sheet in wb:\n",
    "    print(sheet.title)\n",
    "\n",
    "# HOJA 1\n",
    "# Crear una variable que haga referencia a la primera hoja del excel\n",
    "hoja_uno = wb.sheetnames[0]\n",
    "print(\"\\nPrimera hoja: \")\n",
    "print(hoja_uno)"
   ]
  },
  {
   "cell_type": "markdown",
   "metadata": {},
   "source": [
    "## HOJA 1. LECTURA\n",
    "## Acceso a una celda de una hoja concreta"
   ]
  },
  {
   "cell_type": "code",
   "execution_count": null,
   "metadata": {},
   "outputs": [],
   "source": [
    "# Crear una variable que haga referencia a la primera hoja del excel\n",
    "hoja_uno = wb[\"address\"]\n",
    "\n",
    "# Acceder a una celda directamente\n",
    "print(hoja_uno[\"A1\"].value) # Contenido\n",
    "print(hoja_uno[\"B1\"]) # Referencia\n",
    "\n",
    "# Acceder a una celda a través de una nomenclatura fila-columna\n",
    "print(hoja_uno.cell(row=5,column=2).value)"
   ]
  },
  {
   "cell_type": "markdown",
   "metadata": {},
   "source": [
    "## Acceso a múltiples celdas de una hoja concreta"
   ]
  },
  {
   "cell_type": "code",
   "execution_count": null,
   "metadata": {},
   "outputs": [],
   "source": [
    "multiple_cells = hoja_uno[\"A1\":\"B3\"]\n",
    "for row in multiple_cells:\n",
    "    for cell in row:\n",
    "        print(cell.value)"
   ]
  },
  {
   "cell_type": "markdown",
   "metadata": {},
   "source": [
    "## Acceso a todas las filas de una hoja concreta"
   ]
  },
  {
   "cell_type": "code",
   "execution_count": null,
   "metadata": {
    "scrolled": false
   },
   "outputs": [],
   "source": [
    "for fila in hoja_uno.rows:\n",
    "    for columna in fila:\n",
    "        print(columna.coordinate, columna.value)\n",
    "    print(\"----Final de Fila---\")"
   ]
  },
  {
   "cell_type": "markdown",
   "metadata": {},
   "source": [
    "## Acceso a todas las columnas de una hoja concreta"
   ]
  },
  {
   "cell_type": "code",
   "execution_count": null,
   "metadata": {},
   "outputs": [],
   "source": [
    "for columna in hoja_uno.columns:\n",
    "    for fila in columna:\n",
    "        print(fila.coordinate, fila.value)\n",
    "    print(\"----Final de Columna---\")"
   ]
  },
  {
   "cell_type": "markdown",
   "metadata": {},
   "source": [
    "## HOJA 2. ESCRITURA\n",
    "## Modificación de celdas de una hoja concreta"
   ]
  },
  {
   "cell_type": "code",
   "execution_count": null,
   "metadata": {},
   "outputs": [],
   "source": [
    "import datetime"
   ]
  },
  {
   "cell_type": "code",
   "execution_count": null,
   "metadata": {},
   "outputs": [],
   "source": [
    "# Crear una variable que haga referencia a la segunda hoja del excel\n",
    "hoja_dos = wb[\"ventas\"]"
   ]
  },
  {
   "cell_type": "code",
   "execution_count": null,
   "metadata": {},
   "outputs": [],
   "source": [
    "# Modificar una celda (3 formas diferentes)\n",
    "hoja_dos[\"B6\"] = 5\n",
    "hoja_dos[\"C6\"].value = 5\n",
    "hoja_dos.cell(row=6, column=4, value=5)"
   ]
  },
  {
   "cell_type": "code",
   "execution_count": null,
   "metadata": {},
   "outputs": [],
   "source": [
    "# Añadir la hora actual en la celda E2\n",
    "hoja_dos[\"E2\"].value = datetime.datetime.now()"
   ]
  },
  {
   "cell_type": "code",
   "execution_count": null,
   "metadata": {},
   "outputs": [],
   "source": [
    "# Guardar cambios (IMPORTANTE! El excel debe estar cerrado)\n",
    "wb.save(\"02_Excel_data.xlsx\")"
   ]
  },
  {
   "cell_type": "code",
   "execution_count": null,
   "metadata": {},
   "outputs": [],
   "source": [
    "# Modificar la celda B2, que contiene un 40, por un 99\n",
    "print(\"Celda B2 antes de modificarla: \", hoja_dos[\"B2\"].value)\n",
    "hoja_dos[\"B2\"] = 99\n",
    "print(\"Celda B2 despues de modificarla: \", hoja_dos[\"B2\"].value)\n",
    "\n",
    "# Modificar la celda C2, pero esta vez con una formula\n",
    "print(\"Celda C2 antes de modificarla con la formula: \", hoja_dos[\"C2\"].value)\n",
    "hoja_dos[\"C2\"] = \"=SUM(B2, 3)\"\n",
    "print(\"Celda C2 despues de modificarla con la formula: \", hoja_dos[\"C2\"].value)"
   ]
  },
  {
   "cell_type": "code",
   "execution_count": null,
   "metadata": {},
   "outputs": [],
   "source": [
    "# Guardar cambios\n",
    "wb.save(\"02_Excel_data.xlsx\")"
   ]
  },
  {
   "cell_type": "markdown",
   "metadata": {},
   "source": [
    "## Añadir contenido nuevo a una hoja concreta"
   ]
  },
  {
   "cell_type": "code",
   "execution_count": null,
   "metadata": {},
   "outputs": [],
   "source": [
    "hoja_dos.append([\"Junio\",99,100])\n",
    "# Guardar cambios\n",
    "wb.save(\"02_Excel_data.xlsx\")"
   ]
  },
  {
   "cell_type": "markdown",
   "metadata": {},
   "source": [
    "## Crear una hoja nueva y darle nombre"
   ]
  },
  {
   "cell_type": "code",
   "execution_count": null,
   "metadata": {},
   "outputs": [],
   "source": [
    "# Abrir un archivo Excel (workbook)\n",
    "wb = openpyxl.load_workbook(\"02_Excel_data.xlsx\")\n",
    "\n",
    "# Creamos una nueva hoja (por defecto al final, si no, le podemos pasar como parametro el indice de la posicion que se quiera)\n",
    "hoja_otros = wb.create_sheet(\"Mysheet\")\n",
    "\n",
    "# Nombre de la hoja\n",
    "hoja_otros.title = \"Otros\"\n",
    "\n",
    "# Imprimir los nombres de las hojas\n",
    "print(\"Nombres de hojas: \")\n",
    "print(wb.sheetnames)\n",
    "\n",
    "# Guardar cambios\n",
    "wb.save(\"02_Excel_data.xlsx\")"
   ]
  },
  {
   "cell_type": "markdown",
   "metadata": {},
   "source": [
    "## AVANZADO. Generar gráficas"
   ]
  },
  {
   "cell_type": "code",
   "execution_count": 2,
   "metadata": {},
   "outputs": [
    {
     "name": "stdout",
     "output_type": "stream",
     "text": [
      "GRAFICA GENERADA\n"
     ]
    }
   ],
   "source": [
    "import openpyxl\n",
    "from openpyxl.chart import AreaChart, Reference\n",
    "\n",
    "# Abrir un archivo Excel (workbook)\n",
    "wb = openpyxl.load_workbook(\"02_Excel_data.xlsx\")\n",
    "\n",
    "# Definimos la hoja dos (hoja de ventas)\n",
    "hoja_dos = wb[\"ventas\"]\n",
    "\n",
    "# Configuracion y creacion de la gráfica\n",
    "grafica = AreaChart()\n",
    "grafica.title = \"Grafica de Area\"\n",
    "grafica.style = 13\n",
    "grafica.x_axis.title = \"Periodo\"\n",
    "grafica.y_axis.title = \"Utilidades\"\n",
    "periodo = Reference(hoja_dos, min_col=1, min_row=2, max_row=7)\n",
    "utilidades = Reference(hoja_dos, min_col=2, min_row=1, max_col=3, max_row=7)\n",
    "grafica.add_data(utilidades, titles_from_data=True)\n",
    "grafica.set_categories(periodo)\n",
    "hoja_dos.add_chart(grafica, \"A10\")\n",
    "\n",
    "# Guardamos los cambios\n",
    "wb.save(\"02_Excel_data.xlsx\")\n",
    "print(\"GRAFICA GENERADA\")"
   ]
  }
 ],
 "metadata": {
  "kernelspec": {
   "display_name": "Python 3",
   "language": "python",
   "name": "python3"
  },
  "language_info": {
   "codemirror_mode": {
    "name": "ipython",
    "version": 3
   },
   "file_extension": ".py",
   "mimetype": "text/x-python",
   "name": "python",
   "nbconvert_exporter": "python",
   "pygments_lexer": "ipython3",
   "version": "3.7.3"
  }
 },
 "nbformat": 4,
 "nbformat_minor": 1
}
